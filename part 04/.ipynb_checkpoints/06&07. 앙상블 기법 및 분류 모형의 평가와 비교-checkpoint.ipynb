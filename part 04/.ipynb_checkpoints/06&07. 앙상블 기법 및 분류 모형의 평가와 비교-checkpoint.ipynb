{
 "cells": [
  {
   "cell_type": "markdown",
   "metadata": {},
   "source": [
    "# 앙상블 모델"
   ]
  },
  {
   "cell_type": "code",
   "execution_count": 43,
   "metadata": {},
   "outputs": [
    {
     "data": {
      "text/html": [
       "<div>\n",
       "<style scoped>\n",
       "    .dataframe tbody tr th:only-of-type {\n",
       "        vertical-align: middle;\n",
       "    }\n",
       "\n",
       "    .dataframe tbody tr th {\n",
       "        vertical-align: top;\n",
       "    }\n",
       "\n",
       "    .dataframe thead th {\n",
       "        text-align: right;\n",
       "    }\n",
       "</style>\n",
       "<table border=\"1\" class=\"dataframe\">\n",
       "  <thead>\n",
       "    <tr style=\"text-align: right;\">\n",
       "      <th></th>\n",
       "      <th>Survived</th>\n",
       "      <th>Age</th>\n",
       "      <th>SibSp</th>\n",
       "      <th>Parch</th>\n",
       "      <th>Fare</th>\n",
       "      <th>Pclass_2</th>\n",
       "      <th>Pclass_3</th>\n",
       "      <th>Sex_1</th>\n",
       "    </tr>\n",
       "  </thead>\n",
       "  <tbody>\n",
       "    <tr>\n",
       "      <th>0</th>\n",
       "      <td>0</td>\n",
       "      <td>22.0</td>\n",
       "      <td>1</td>\n",
       "      <td>0</td>\n",
       "      <td>1.981001</td>\n",
       "      <td>0</td>\n",
       "      <td>1</td>\n",
       "      <td>1</td>\n",
       "    </tr>\n",
       "    <tr>\n",
       "      <th>1</th>\n",
       "      <td>1</td>\n",
       "      <td>38.0</td>\n",
       "      <td>1</td>\n",
       "      <td>0</td>\n",
       "      <td>4.266662</td>\n",
       "      <td>0</td>\n",
       "      <td>0</td>\n",
       "      <td>0</td>\n",
       "    </tr>\n",
       "    <tr>\n",
       "      <th>2</th>\n",
       "      <td>1</td>\n",
       "      <td>26.0</td>\n",
       "      <td>0</td>\n",
       "      <td>0</td>\n",
       "      <td>2.070022</td>\n",
       "      <td>0</td>\n",
       "      <td>1</td>\n",
       "      <td>0</td>\n",
       "    </tr>\n",
       "    <tr>\n",
       "      <th>3</th>\n",
       "      <td>1</td>\n",
       "      <td>35.0</td>\n",
       "      <td>1</td>\n",
       "      <td>0</td>\n",
       "      <td>3.972177</td>\n",
       "      <td>0</td>\n",
       "      <td>0</td>\n",
       "      <td>0</td>\n",
       "    </tr>\n",
       "    <tr>\n",
       "      <th>4</th>\n",
       "      <td>0</td>\n",
       "      <td>35.0</td>\n",
       "      <td>0</td>\n",
       "      <td>0</td>\n",
       "      <td>2.085672</td>\n",
       "      <td>0</td>\n",
       "      <td>1</td>\n",
       "      <td>1</td>\n",
       "    </tr>\n",
       "  </tbody>\n",
       "</table>\n",
       "</div>"
      ],
      "text/plain": [
       "   Survived   Age  SibSp  Parch      Fare  Pclass_2  Pclass_3  Sex_1\n",
       "0         0  22.0      1      0  1.981001         0         1      1\n",
       "1         1  38.0      1      0  4.266662         0         0      0\n",
       "2         1  26.0      0      0  2.070022         0         1      0\n",
       "3         1  35.0      1      0  3.972177         0         0      0\n",
       "4         0  35.0      0      0  2.085672         0         1      1"
      ]
     },
     "execution_count": 43,
     "metadata": {},
     "output_type": "execute_result"
    }
   ],
   "source": [
    "# 연산 처리를 위한 패키지\n",
    "import numpy as np\n",
    "import pandas as pd\n",
    "\n",
    "# 데이터 분석을 위한 패키지\n",
    "from sklearn.ensemble import BaggingClassifier\n",
    "from sklearn.model_selection import GridSearchCV\n",
    "from sklearn.metrics import accuracy_score\n",
    "from sklearn.model_selection import cross_val_score, cross_validate\n",
    "\n",
    "# 시각화를 위한 패키지\n",
    "from matplotlib import pyplot as plt\n",
    "import seaborn as sns\n",
    "\n",
    "# 그래프를 실제로 그리기 위한 설정\n",
    "%matplotlib inline\n",
    "\n",
    "# 경고 메세지 무시\n",
    "import warnings\n",
    "warnings.filterwarnings('ignore')\n",
    "\n",
    "df = pd.read_csv('./data/classification/df_titanic.csv')\n",
    "df.head()"
   ]
  },
  {
   "cell_type": "code",
   "execution_count": 44,
   "metadata": {},
   "outputs": [],
   "source": [
    "grid_learn = [0.0001, 0.001, 0.01, 0.03, 0.05, 0.1, 0.2, 0.25, 0.5, 1.0]\n",
    "grid_n_estimator = [10, 50, 100, 300, 500]\n",
    "grid_ratio = [0.1, 0.25, 0.5, 0.75, 1.0]\n",
    "grid_max_features = [0.3, 0.5, 0.7, 1.0]\n",
    "grid_max_depth = [1, 2, 4, 8]\n",
    "grid_min_samples_leaf = [1, 2, 3, 10, 100, 1500]\n",
    "grid_min_samples_split = [2, 4, 8, 16, 24, 30]\n",
    "grid_seed = [0]"
   ]
  },
  {
   "cell_type": "markdown",
   "metadata": {},
   "source": [
    "## 배깅(Bagging)"
   ]
  },
  {
   "cell_type": "code",
   "execution_count": 45,
   "metadata": {},
   "outputs": [
    {
     "name": "stdout",
     "output_type": "stream",
     "text": [
      "Bagging 평균 정확도: 0.8208\n"
     ]
    }
   ],
   "source": [
    "feature_columns = (df.columns.difference(['Survived']))\n",
    "\n",
    "X = df[feature_columns]\n",
    "y = df['Survived']\n",
    "\n",
    "# Bagging - 파라미터 튜닝 없이\n",
    "scores = cross_val_score(BaggingClassifier(random_state=0), X, y, scoring='accuracy', cv=5)\n",
    "print(\"Bagging 평균 정확도:\", np.round(np.mean(scores),4))"
   ]
  },
  {
   "cell_type": "markdown",
   "metadata": {},
   "source": [
    "- cross_val_score()\n",
    "    - 해당 함수 내부에서 학습(fit), 예측(predict), 평가(evaluation) 그리고 교차 검증을 수행해줍니다."
   ]
  },
  {
   "cell_type": "code",
   "execution_count": 46,
   "metadata": {},
   "outputs": [
    {
     "data": {
      "text/html": [
       "<div>\n",
       "<style scoped>\n",
       "    .dataframe tbody tr th:only-of-type {\n",
       "        vertical-align: middle;\n",
       "    }\n",
       "\n",
       "    .dataframe tbody tr th {\n",
       "        vertical-align: top;\n",
       "    }\n",
       "\n",
       "    .dataframe thead th {\n",
       "        text-align: right;\n",
       "    }\n",
       "</style>\n",
       "<table border=\"1\" class=\"dataframe\">\n",
       "  <thead>\n",
       "    <tr style=\"text-align: right;\">\n",
       "      <th></th>\n",
       "      <th>0</th>\n",
       "      <th>1</th>\n",
       "      <th>2</th>\n",
       "      <th>3</th>\n",
       "      <th>4</th>\n",
       "    </tr>\n",
       "  </thead>\n",
       "  <tbody>\n",
       "    <tr>\n",
       "      <th>fit_time</th>\n",
       "      <td>0.038749</td>\n",
       "      <td>0.028957</td>\n",
       "      <td>0.030116</td>\n",
       "      <td>0.026671</td>\n",
       "      <td>0.025887</td>\n",
       "    </tr>\n",
       "    <tr>\n",
       "      <th>score_time</th>\n",
       "      <td>0.010316</td>\n",
       "      <td>0.010417</td>\n",
       "      <td>0.009184</td>\n",
       "      <td>0.008213</td>\n",
       "      <td>0.007631</td>\n",
       "    </tr>\n",
       "    <tr>\n",
       "      <th>test_accuracy</th>\n",
       "      <td>0.789474</td>\n",
       "      <td>0.808612</td>\n",
       "      <td>0.775120</td>\n",
       "      <td>0.860577</td>\n",
       "      <td>0.870192</td>\n",
       "    </tr>\n",
       "    <tr>\n",
       "      <th>train_accuracy</th>\n",
       "      <td>0.974820</td>\n",
       "      <td>0.974820</td>\n",
       "      <td>0.977218</td>\n",
       "      <td>0.972455</td>\n",
       "      <td>0.971257</td>\n",
       "    </tr>\n",
       "    <tr>\n",
       "      <th>test_roc_auc</th>\n",
       "      <td>0.789109</td>\n",
       "      <td>0.861111</td>\n",
       "      <td>0.813205</td>\n",
       "      <td>0.921976</td>\n",
       "      <td>0.925349</td>\n",
       "    </tr>\n",
       "    <tr>\n",
       "      <th>train_roc_auc</th>\n",
       "      <td>0.998701</td>\n",
       "      <td>0.997948</td>\n",
       "      <td>0.998326</td>\n",
       "      <td>0.997524</td>\n",
       "      <td>0.996847</td>\n",
       "    </tr>\n",
       "  </tbody>\n",
       "</table>\n",
       "</div>"
      ],
      "text/plain": [
       "                       0         1         2         3         4\n",
       "fit_time        0.038749  0.028957  0.030116  0.026671  0.025887\n",
       "score_time      0.010316  0.010417  0.009184  0.008213  0.007631\n",
       "test_accuracy   0.789474  0.808612  0.775120  0.860577  0.870192\n",
       "train_accuracy  0.974820  0.974820  0.977218  0.972455  0.971257\n",
       "test_roc_auc    0.789109  0.861111  0.813205  0.921976  0.925349\n",
       "train_roc_auc   0.998701  0.997948  0.998326  0.997524  0.996847"
      ]
     },
     "execution_count": 46,
     "metadata": {},
     "output_type": "execute_result"
    }
   ],
   "source": [
    "scores = cross_validate(BaggingClassifier(random_state=0), X, y, scoring=['accuracy', 'roc_auc'], return_train_score=True, cv=5)\n",
    "np.transpose(pd.DataFrame(scores))"
   ]
  },
  {
   "cell_type": "code",
   "execution_count": 47,
   "metadata": {},
   "outputs": [
    {
     "name": "stdout",
     "output_type": "stream",
     "text": [
      "Bagging train 평균 정확도: 0.9741\n",
      "Bagging test 평균 정확도: 0.8208\n"
     ]
    }
   ],
   "source": [
    "print(\"Bagging train 평균 정확도:\", np.round(np.mean(scores['train_accuracy']),4))\n",
    "print(\"Bagging test 평균 정확도:\", np.round(np.mean(scores['test_accuracy']),4))"
   ]
  },
  {
   "cell_type": "markdown",
   "metadata": {},
   "source": [
    "- cross_validate() 함수\n",
    "    - 각 폴드에서 훈련과 테스트에 걸린 시간을 확인 할 수 있습니다.\n",
    "    - 훈련(train) 점수, 테스트(test) 점수를 함께 볼 수 있습니다. "
   ]
  },
  {
   "cell_type": "markdown",
   "metadata": {},
   "source": [
    "### 하이퍼 파라미터\n",
    "- 디폴트(default) 설정\n",
    "```python\n",
    "BaggingClassifier(\n",
    "    base_estimator=None,\n",
    "    n_estimators=10,\n",
    "    max_samples=1.0,\n",
    "    max_features=1.0,\n",
    "    bootstrap=True,\n",
    "    bootstrap_features=False,\n",
    "    oob_score=False,\n",
    "    warm_start=False,\n",
    "    n_jobs=None,\n",
    "    random_state=None,\n",
    "    verbose=0,\n",
    ")\n",
    "```\n",
    "- base_estimator: 예측할 모델, 디폴트는 decision tree\n",
    "- n_estimators: 모형의 갯수\n",
    "- max_samples: 각각의 예측기가 X에서 추출 할 샘플의 수 \n",
    "- max_features: 각각의 예측기가 X에서 가져갈 컬럼의 수\n",
    "- bootstrap: 데이터 중복 여부, 디폴트는 True"
   ]
  },
  {
   "cell_type": "markdown",
   "metadata": {},
   "source": [
    "### 배깅 - GridSearchCV 를 활용한 최적의 파라미터 찾기"
   ]
  },
  {
   "cell_type": "code",
   "execution_count": 48,
   "metadata": {},
   "outputs": [
    {
     "data": {
      "text/plain": [
       "GridSearchCV(cv=5, estimator=BaggingClassifier(), n_jobs=-1,\n",
       "             param_grid={'max_features': [0.3, 0.5, 0.7, 1.0],\n",
       "                         'max_samples': [0.1, 0.25, 0.5, 0.75, 1.0],\n",
       "                         'n_estimators': [10, 50, 100, 300, 500],\n",
       "                         'random_state': [0]},\n",
       "             return_train_score=True, scoring='accuracy')"
      ]
     },
     "execution_count": 48,
     "metadata": {},
     "output_type": "execute_result"
    }
   ],
   "source": [
    "bc_param = {\n",
    "    'n_estimators': grid_n_estimator,  # default=10\n",
    "    'max_samples': grid_ratio,  # default=1.0\n",
    "    'random_state': grid_seed,\n",
    "    'max_features': grid_max_features,\n",
    "}\n",
    "\n",
    "# n_jobs = -1 학습시 모든 CPU 코어 사용\n",
    "grid_bc = GridSearchCV(BaggingClassifier(), param_grid=bc_param, return_train_score=True, n_jobs = -1, cv=5, scoring='accuracy')\n",
    "grid_bc.fit(X, y)"
   ]
  },
  {
   "cell_type": "code",
   "execution_count": 49,
   "metadata": {},
   "outputs": [],
   "source": [
    "BaggingClassifier?"
   ]
  },
  {
   "cell_type": "code",
   "execution_count": 50,
   "metadata": {},
   "outputs": [
    {
     "data": {
      "text/html": [
       "<div>\n",
       "<style scoped>\n",
       "    .dataframe tbody tr th:only-of-type {\n",
       "        vertical-align: middle;\n",
       "    }\n",
       "\n",
       "    .dataframe tbody tr th {\n",
       "        vertical-align: top;\n",
       "    }\n",
       "\n",
       "    .dataframe thead th {\n",
       "        text-align: right;\n",
       "    }\n",
       "</style>\n",
       "<table border=\"1\" class=\"dataframe\">\n",
       "  <thead>\n",
       "    <tr style=\"text-align: right;\">\n",
       "      <th></th>\n",
       "      <th>param_n_estimators</th>\n",
       "      <th>param_max_samples</th>\n",
       "      <th>params</th>\n",
       "      <th>mean_train_score</th>\n",
       "      <th>mean_test_score</th>\n",
       "      <th>rank_test_score</th>\n",
       "    </tr>\n",
       "  </thead>\n",
       "  <tbody>\n",
       "    <tr>\n",
       "      <th>83</th>\n",
       "      <td>300</td>\n",
       "      <td>0.25</td>\n",
       "      <td>{'max_features': 1.0, 'max_samples': 0.25, 'n_...</td>\n",
       "      <td>0.900769</td>\n",
       "      <td>0.860154</td>\n",
       "      <td>1</td>\n",
       "    </tr>\n",
       "    <tr>\n",
       "      <th>82</th>\n",
       "      <td>100</td>\n",
       "      <td>0.25</td>\n",
       "      <td>{'max_features': 1.0, 'max_samples': 0.25, 'n_...</td>\n",
       "      <td>0.900051</td>\n",
       "      <td>0.855360</td>\n",
       "      <td>2</td>\n",
       "    </tr>\n",
       "    <tr>\n",
       "      <th>84</th>\n",
       "      <td>500</td>\n",
       "      <td>0.25</td>\n",
       "      <td>{'max_features': 1.0, 'max_samples': 0.25, 'n_...</td>\n",
       "      <td>0.901009</td>\n",
       "      <td>0.854398</td>\n",
       "      <td>3</td>\n",
       "    </tr>\n",
       "    <tr>\n",
       "      <th>81</th>\n",
       "      <td>50</td>\n",
       "      <td>0.25</td>\n",
       "      <td>{'max_features': 1.0, 'max_samples': 0.25, 'n_...</td>\n",
       "      <td>0.902928</td>\n",
       "      <td>0.850557</td>\n",
       "      <td>4</td>\n",
       "    </tr>\n",
       "    <tr>\n",
       "      <th>89</th>\n",
       "      <td>500</td>\n",
       "      <td>0.5</td>\n",
       "      <td>{'max_features': 1.0, 'max_samples': 0.5, 'n_e...</td>\n",
       "      <td>0.940079</td>\n",
       "      <td>0.850529</td>\n",
       "      <td>5</td>\n",
       "    </tr>\n",
       "  </tbody>\n",
       "</table>\n",
       "</div>"
      ],
      "text/plain": [
       "   param_n_estimators param_max_samples  \\\n",
       "83                300              0.25   \n",
       "82                100              0.25   \n",
       "84                500              0.25   \n",
       "81                 50              0.25   \n",
       "89                500               0.5   \n",
       "\n",
       "                                               params  mean_train_score  \\\n",
       "83  {'max_features': 1.0, 'max_samples': 0.25, 'n_...          0.900769   \n",
       "82  {'max_features': 1.0, 'max_samples': 0.25, 'n_...          0.900051   \n",
       "84  {'max_features': 1.0, 'max_samples': 0.25, 'n_...          0.901009   \n",
       "81  {'max_features': 1.0, 'max_samples': 0.25, 'n_...          0.902928   \n",
       "89  {'max_features': 1.0, 'max_samples': 0.5, 'n_e...          0.940079   \n",
       "\n",
       "    mean_test_score  rank_test_score  \n",
       "83         0.860154                1  \n",
       "82         0.855360                2  \n",
       "84         0.854398                3  \n",
       "81         0.850557                4  \n",
       "89         0.850529                5  "
      ]
     },
     "execution_count": 50,
     "metadata": {},
     "output_type": "execute_result"
    }
   ],
   "source": [
    "df_grid_bc = pd.DataFrame(grid_bc.cv_results_)\n",
    "df_grid_bc[['param_n_estimators', 'param_max_samples','params', 'mean_train_score', 'mean_test_score', 'rank_test_score']].sort_values(['rank_test_score']).head(5)"
   ]
  },
  {
   "cell_type": "code",
   "execution_count": 51,
   "metadata": {},
   "outputs": [
    {
     "name": "stdout",
     "output_type": "stream",
     "text": [
      "최고 Score:  0.8602\n",
      "최적의 Parameters:  {'max_features': 1.0, 'max_samples': 0.25, 'n_estimators': 300, 'random_state': 0}\n",
      "최적의 Estimators:  BaggingClassifier(max_samples=0.25, n_estimators=300, random_state=0)\n"
     ]
    }
   ],
   "source": [
    "print(\"최고 Score: \", str(np.round(grid_bc.best_score_ ,4)))\n",
    "print(\"최적의 Parameters: \",str(grid_bc.best_params_))\n",
    "print(\"최적의 Estimators: \",str(grid_bc.best_estimator_))"
   ]
  },
  {
   "cell_type": "code",
   "execution_count": 52,
   "metadata": {},
   "outputs": [
    {
     "name": "stdout",
     "output_type": "stream",
     "text": [
      "0.8984\n"
     ]
    }
   ],
   "source": [
    "# 최적의 설정값 입력\n",
    "best_grid_bc = grid_bc.best_estimator_\n",
    "best_grid_bc.fit(X, y)\n",
    "\n",
    "pred_bc = best_grid_bc.predict(X)\n",
    "accuracy_bc = accuracy_score(y, pred_bc)\n",
    "print(np.round(accuracy_bc,4))"
   ]
  },
  {
   "cell_type": "markdown",
   "metadata": {},
   "source": [
    "## 랜덤 포레스트"
   ]
  },
  {
   "cell_type": "code",
   "execution_count": 53,
   "metadata": {},
   "outputs": [
    {
     "data": {
      "text/html": [
       "<div>\n",
       "<style scoped>\n",
       "    .dataframe tbody tr th:only-of-type {\n",
       "        vertical-align: middle;\n",
       "    }\n",
       "\n",
       "    .dataframe tbody tr th {\n",
       "        vertical-align: top;\n",
       "    }\n",
       "\n",
       "    .dataframe thead th {\n",
       "        text-align: right;\n",
       "    }\n",
       "</style>\n",
       "<table border=\"1\" class=\"dataframe\">\n",
       "  <thead>\n",
       "    <tr style=\"text-align: right;\">\n",
       "      <th></th>\n",
       "      <th>0</th>\n",
       "      <th>1</th>\n",
       "      <th>2</th>\n",
       "      <th>3</th>\n",
       "      <th>4</th>\n",
       "    </tr>\n",
       "  </thead>\n",
       "  <tbody>\n",
       "    <tr>\n",
       "      <th>fit_time</th>\n",
       "      <td>0.189644</td>\n",
       "      <td>0.198707</td>\n",
       "      <td>0.163851</td>\n",
       "      <td>0.198564</td>\n",
       "      <td>0.207074</td>\n",
       "    </tr>\n",
       "    <tr>\n",
       "      <th>score_time</th>\n",
       "      <td>0.052311</td>\n",
       "      <td>0.030651</td>\n",
       "      <td>0.032471</td>\n",
       "      <td>0.031312</td>\n",
       "      <td>0.042388</td>\n",
       "    </tr>\n",
       "    <tr>\n",
       "      <th>test_accuracy</th>\n",
       "      <td>0.799043</td>\n",
       "      <td>0.808612</td>\n",
       "      <td>0.779904</td>\n",
       "      <td>0.870192</td>\n",
       "      <td>0.875000</td>\n",
       "    </tr>\n",
       "    <tr>\n",
       "      <th>train_accuracy</th>\n",
       "      <td>0.990408</td>\n",
       "      <td>0.988010</td>\n",
       "      <td>0.985612</td>\n",
       "      <td>0.985629</td>\n",
       "      <td>0.985629</td>\n",
       "    </tr>\n",
       "    <tr>\n",
       "      <th>test_roc_auc</th>\n",
       "      <td>0.799818</td>\n",
       "      <td>0.885494</td>\n",
       "      <td>0.831325</td>\n",
       "      <td>0.921253</td>\n",
       "      <td>0.955133</td>\n",
       "    </tr>\n",
       "    <tr>\n",
       "      <th>train_roc_auc</th>\n",
       "      <td>0.999640</td>\n",
       "      <td>0.999226</td>\n",
       "      <td>0.999235</td>\n",
       "      <td>0.999395</td>\n",
       "      <td>0.999338</td>\n",
       "    </tr>\n",
       "  </tbody>\n",
       "</table>\n",
       "</div>"
      ],
      "text/plain": [
       "                       0         1         2         3         4\n",
       "fit_time        0.189644  0.198707  0.163851  0.198564  0.207074\n",
       "score_time      0.052311  0.030651  0.032471  0.031312  0.042388\n",
       "test_accuracy   0.799043  0.808612  0.779904  0.870192  0.875000\n",
       "train_accuracy  0.990408  0.988010  0.985612  0.985629  0.985629\n",
       "test_roc_auc    0.799818  0.885494  0.831325  0.921253  0.955133\n",
       "train_roc_auc   0.999640  0.999226  0.999235  0.999395  0.999338"
      ]
     },
     "execution_count": 53,
     "metadata": {},
     "output_type": "execute_result"
    }
   ],
   "source": [
    "from sklearn.ensemble import RandomForestClassifier\n",
    "\n",
    "# Random forest - 파라미터 튜닝 없이\n",
    "scores = cross_validate(RandomForestClassifier(random_state=0), X, y, scoring=['accuracy', 'roc_auc'], return_train_score=True, cv=5)\n",
    "np.transpose(pd.DataFrame(scores))"
   ]
  },
  {
   "cell_type": "code",
   "execution_count": 54,
   "metadata": {},
   "outputs": [
    {
     "name": "stdout",
     "output_type": "stream",
     "text": [
      "Random forest train 평균 정확도: 0.9871\n",
      "Random forest test 평균 정확도: 0.8266\n"
     ]
    }
   ],
   "source": [
    "print(\"Random forest train 평균 정확도:\", np.round(np.mean(scores['train_accuracy']),4))\n",
    "print(\"Random forest test 평균 정확도:\", np.round(np.mean(scores['test_accuracy']),4))"
   ]
  },
  {
   "cell_type": "markdown",
   "metadata": {},
   "source": [
    "### 하이퍼 파라미터"
   ]
  },
  {
   "cell_type": "code",
   "execution_count": 55,
   "metadata": {},
   "outputs": [],
   "source": [
    "RandomForestClassifier?"
   ]
  },
  {
   "cell_type": "markdown",
   "metadata": {},
   "source": [
    "### 랜덤 포레스트 - GridSearchCV 를 활용한 최적의 파라미터 찾기"
   ]
  },
  {
   "cell_type": "code",
   "execution_count": 56,
   "metadata": {},
   "outputs": [
    {
     "data": {
      "text/plain": [
       "GridSearchCV(cv=5, estimator=RandomForestClassifier(random_state=0), n_jobs=-1,\n",
       "             param_grid={'max_depth': [1, 2, 4, 8],\n",
       "                         'min_samples_leaf': [1, 2, 3, 10, 100, 1500],\n",
       "                         'min_samples_split': [2, 4, 8, 16, 24, 30],\n",
       "                         'n_estimators': [10, 50, 100, 300, 500],\n",
       "                         'random_state': [0]},\n",
       "             return_train_score=True, scoring='accuracy')"
      ]
     },
     "execution_count": 56,
     "metadata": {},
     "output_type": "execute_result"
    }
   ],
   "source": [
    "rf_param = {\n",
    "    'n_estimators': grid_n_estimator,\n",
    "    'random_state': grid_seed,\n",
    "    'max_depth': grid_max_depth,\n",
    "    'min_samples_leaf': grid_min_samples_leaf,\n",
    "    'min_samples_split': grid_min_samples_split\n",
    "}\n",
    "\n",
    "# n_jobs = -1 학습시 모든 CPU 코어 사용\n",
    "grid_rf = GridSearchCV(RandomForestClassifier(random_state=0), param_grid=rf_param, return_train_score=True,n_jobs=-1, cv=5, scoring='accuracy')\n",
    "grid_rf.fit(X, y)"
   ]
  },
  {
   "cell_type": "code",
   "execution_count": 57,
   "metadata": {},
   "outputs": [
    {
     "data": {
      "text/html": [
       "<div>\n",
       "<style scoped>\n",
       "    .dataframe tbody tr th:only-of-type {\n",
       "        vertical-align: middle;\n",
       "    }\n",
       "\n",
       "    .dataframe tbody tr th {\n",
       "        vertical-align: top;\n",
       "    }\n",
       "\n",
       "    .dataframe thead th {\n",
       "        text-align: right;\n",
       "    }\n",
       "</style>\n",
       "<table border=\"1\" class=\"dataframe\">\n",
       "  <thead>\n",
       "    <tr style=\"text-align: right;\">\n",
       "      <th></th>\n",
       "      <th>params</th>\n",
       "      <th>mean_train_score</th>\n",
       "      <th>mean_test_score</th>\n",
       "      <th>rank_test_score</th>\n",
       "    </tr>\n",
       "  </thead>\n",
       "  <tbody>\n",
       "    <tr>\n",
       "      <th>376</th>\n",
       "      <td>{'max_depth': 4, 'min_samples_leaf': 1, 'min_s...</td>\n",
       "      <td>0.874409</td>\n",
       "      <td>0.861129</td>\n",
       "      <td>1</td>\n",
       "    </tr>\n",
       "    <tr>\n",
       "      <th>415</th>\n",
       "      <td>{'max_depth': 4, 'min_samples_leaf': 2, 'min_s...</td>\n",
       "      <td>0.869136</td>\n",
       "      <td>0.859238</td>\n",
       "      <td>2</td>\n",
       "    </tr>\n",
       "    <tr>\n",
       "      <th>456</th>\n",
       "      <td>{'max_depth': 4, 'min_samples_leaf': 10, 'min_...</td>\n",
       "      <td>0.871294</td>\n",
       "      <td>0.859220</td>\n",
       "      <td>3</td>\n",
       "    </tr>\n",
       "    <tr>\n",
       "      <th>466</th>\n",
       "      <td>{'max_depth': 4, 'min_samples_leaf': 10, 'min_...</td>\n",
       "      <td>0.871294</td>\n",
       "      <td>0.859220</td>\n",
       "      <td>3</td>\n",
       "    </tr>\n",
       "    <tr>\n",
       "      <th>451</th>\n",
       "      <td>{'max_depth': 4, 'min_samples_leaf': 10, 'min_...</td>\n",
       "      <td>0.871294</td>\n",
       "      <td>0.859220</td>\n",
       "      <td>3</td>\n",
       "    </tr>\n",
       "  </tbody>\n",
       "</table>\n",
       "</div>"
      ],
      "text/plain": [
       "                                                params  mean_train_score  \\\n",
       "376  {'max_depth': 4, 'min_samples_leaf': 1, 'min_s...          0.874409   \n",
       "415  {'max_depth': 4, 'min_samples_leaf': 2, 'min_s...          0.869136   \n",
       "456  {'max_depth': 4, 'min_samples_leaf': 10, 'min_...          0.871294   \n",
       "466  {'max_depth': 4, 'min_samples_leaf': 10, 'min_...          0.871294   \n",
       "451  {'max_depth': 4, 'min_samples_leaf': 10, 'min_...          0.871294   \n",
       "\n",
       "     mean_test_score  rank_test_score  \n",
       "376         0.861129                1  \n",
       "415         0.859238                2  \n",
       "456         0.859220                3  \n",
       "466         0.859220                3  \n",
       "451         0.859220                3  "
      ]
     },
     "execution_count": 57,
     "metadata": {},
     "output_type": "execute_result"
    }
   ],
   "source": [
    "df_grid_rf = pd.DataFrame(grid_rf.cv_results_)\n",
    "df_grid_rf[['params','mean_train_score','mean_test_score','rank_test_score']].sort_values(['rank_test_score']).head(5)"
   ]
  },
  {
   "cell_type": "code",
   "execution_count": 58,
   "metadata": {},
   "outputs": [
    {
     "name": "stdout",
     "output_type": "stream",
     "text": [
      "최고 Score:  0.8611\n",
      "최적의 Parameters:  {'max_depth': 4, 'min_samples_leaf': 1, 'min_samples_split': 16, 'n_estimators': 50, 'random_state': 0}\n",
      "최적의 Estimators:  RandomForestClassifier(max_depth=4, min_samples_split=16, n_estimators=50,\n",
      "                       random_state=0)\n"
     ]
    }
   ],
   "source": [
    "print(\"최고 Score: \", str(np.round(grid_rf.best_score_ ,4)))\n",
    "print(\"최적의 Parameters: \",str(grid_rf.best_params_))\n",
    "print(\"최적의 Estimators: \",str(grid_rf.best_estimator_))"
   ]
  },
  {
   "cell_type": "code",
   "execution_count": 59,
   "metadata": {},
   "outputs": [
    {
     "name": "stdout",
     "output_type": "stream",
     "text": [
      "0.8734\n"
     ]
    }
   ],
   "source": [
    "# 최적의 설정값 입력\n",
    "best_grid_rf = grid_rf.best_estimator_\n",
    "best_grid_rf.fit(X, y)\n",
    "\n",
    "pred_rf = best_grid_rf.predict(X)\n",
    "accuracy_rf = accuracy_score(y, pred_rf)\n",
    "print(np.round(accuracy_rf,4))"
   ]
  },
  {
   "cell_type": "code",
   "execution_count": 60,
   "metadata": {},
   "outputs": [
    {
     "data": {
      "text/plain": [
       "<AxesSubplot:title={'center':'RandomForest Feature importances for Survival'}>"
      ]
     },
     "execution_count": 60,
     "metadata": {},
     "output_type": "execute_result"
    },
    {
     "data": {
      "image/png": "[encoded data removed]",
      "text/plain": [
       "<Figure size 432x288 with 1 Axes>"
      ]
     },
     "metadata": {
      "needs_background": "light"
     },
     "output_type": "display_data"
    }
   ],
   "source": [
    "# 가장 중요한 변수\n",
    "feature_names = list(X.columns)\n",
    "\n",
    "plt.title(\"RandomForest Feature importances for Survival\")\n",
    "sns.barplot(x=best_grid_rf.feature_importances_, y=feature_names)"
   ]
  },
  {
   "cell_type": "code",
   "execution_count": null,
   "metadata": {},
   "outputs": [],
   "source": []
  },
  {
   "cell_type": "markdown",
   "metadata": {},
   "source": [
    "## Boosting"
   ]
  },
  {
   "cell_type": "markdown",
   "metadata": {},
   "source": [
    "### AdaBoost"
   ]
  },
  {
   "cell_type": "code",
   "execution_count": 61,
   "metadata": {},
   "outputs": [
    {
     "data": {
      "text/html": [
       "<div>\n",
       "<style scoped>\n",
       "    .dataframe tbody tr th:only-of-type {\n",
       "        vertical-align: middle;\n",
       "    }\n",
       "\n",
       "    .dataframe tbody tr th {\n",
       "        vertical-align: top;\n",
       "    }\n",
       "\n",
       "    .dataframe thead th {\n",
       "        text-align: right;\n",
       "    }\n",
       "</style>\n",
       "<table border=\"1\" class=\"dataframe\">\n",
       "  <thead>\n",
       "    <tr style=\"text-align: right;\">\n",
       "      <th></th>\n",
       "      <th>0</th>\n",
       "      <th>1</th>\n",
       "      <th>2</th>\n",
       "      <th>3</th>\n",
       "      <th>4</th>\n",
       "    </tr>\n",
       "  </thead>\n",
       "  <tbody>\n",
       "    <tr>\n",
       "      <th>fit_time</th>\n",
       "      <td>0.098601</td>\n",
       "      <td>0.072138</td>\n",
       "      <td>0.072463</td>\n",
       "      <td>0.112851</td>\n",
       "      <td>0.111642</td>\n",
       "    </tr>\n",
       "    <tr>\n",
       "      <th>score_time</th>\n",
       "      <td>0.022257</td>\n",
       "      <td>0.019716</td>\n",
       "      <td>0.020368</td>\n",
       "      <td>0.031281</td>\n",
       "      <td>0.023857</td>\n",
       "    </tr>\n",
       "    <tr>\n",
       "      <th>test_accuracy</th>\n",
       "      <td>0.789474</td>\n",
       "      <td>0.803828</td>\n",
       "      <td>0.789474</td>\n",
       "      <td>0.913462</td>\n",
       "      <td>0.942308</td>\n",
       "    </tr>\n",
       "    <tr>\n",
       "      <th>train_accuracy</th>\n",
       "      <td>0.884892</td>\n",
       "      <td>0.878897</td>\n",
       "      <td>0.881295</td>\n",
       "      <td>0.851497</td>\n",
       "      <td>0.843114</td>\n",
       "    </tr>\n",
       "    <tr>\n",
       "      <th>test_roc_auc</th>\n",
       "      <td>0.805077</td>\n",
       "      <td>0.866179</td>\n",
       "      <td>0.846099</td>\n",
       "      <td>0.952482</td>\n",
       "      <td>0.925398</td>\n",
       "    </tr>\n",
       "    <tr>\n",
       "      <th>train_roc_auc</th>\n",
       "      <td>0.950751</td>\n",
       "      <td>0.934143</td>\n",
       "      <td>0.936942</td>\n",
       "      <td>0.917199</td>\n",
       "      <td>0.907615</td>\n",
       "    </tr>\n",
       "  </tbody>\n",
       "</table>\n",
       "</div>"
      ],
      "text/plain": [
       "                       0         1         2         3         4\n",
       "fit_time        0.098601  0.072138  0.072463  0.112851  0.111642\n",
       "score_time      0.022257  0.019716  0.020368  0.031281  0.023857\n",
       "test_accuracy   0.789474  0.803828  0.789474  0.913462  0.942308\n",
       "train_accuracy  0.884892  0.878897  0.881295  0.851497  0.843114\n",
       "test_roc_auc    0.805077  0.866179  0.846099  0.952482  0.925398\n",
       "train_roc_auc   0.950751  0.934143  0.936942  0.917199  0.907615"
      ]
     },
     "execution_count": 61,
     "metadata": {},
     "output_type": "execute_result"
    }
   ],
   "source": [
    "from sklearn.ensemble import AdaBoostClassifier\n",
    "\n",
    "# AdaBoost - 파라미터 튜닝 없이\n",
    "scores = cross_validate(AdaBoostClassifier(random_state=0), X, y, scoring=['accuracy', 'roc_auc'], return_train_score=True, cv=5)\n",
    "np.transpose(pd.DataFrame(scores))"
   ]
  },
  {
   "cell_type": "code",
   "execution_count": 62,
   "metadata": {},
   "outputs": [
    {
     "name": "stdout",
     "output_type": "stream",
     "text": [
      "Adaboost train 평균 정확도: 0.8679\n",
      "Adaboost test 평균 정확도: 0.8477\n"
     ]
    }
   ],
   "source": [
    "print(\"Adaboost train 평균 정확도:\", np.round(np.mean(scores['train_accuracy']),4))\n",
    "print(\"Adaboost test 평균 정확도:\", np.round(np.mean(scores['test_accuracy']),4))"
   ]
  },
  {
   "cell_type": "markdown",
   "metadata": {},
   "source": [
    "#### 하이퍼 파라미터\n",
    "- 디폴트(default) 설정\n",
    "\n",
    "```python\n",
    "AdaBoostClassifier(\n",
    "    base_estimator=None,\n",
    "    n_estimators=50,\n",
    "    learning_rate=1.0,\n",
    "    algorithm='SAMME.R',\n",
    "    random_state=None,\n",
    ")\n",
    "```\n",
    "- base_estimator: 예측할 모델, 디폴트는 DecisionTreeClassifier(max_depth=1)\n",
    "- n_estimators: 모형(week learner)의 갯수, 순차적으로 오류를 보정해서 수가 많으면 성능이 일정 수준까지 높아 질 수 있으나 수행 시간이 오래 걸린다는 단점이 있음. 디폴트는 50\n",
    "- learning_rate: 학습률, 0~1 사이의 값을 지정. 너무 작은 값인 경우 최소점을 찾아 예측 성능이 높지만 학습에 오래 걸리고 너무 큰 값인 경우 최소점을 찾지 못해 예측 성능이 떨어질 확률이 높음. 그래서 n_estimators와 상호 호환 필요. 디폴트는 1.0"
   ]
  },
  {
   "cell_type": "code",
   "execution_count": 63,
   "metadata": {},
   "outputs": [],
   "source": [
    "AdaBoostClassifier?"
   ]
  },
  {
   "cell_type": "markdown",
   "metadata": {},
   "source": [
    "#### AdaBoost - GridSearchCV 를 활용한 최적의 파라미터 찾기"
   ]
  },
  {
   "cell_type": "code",
   "execution_count": 64,
   "metadata": {},
   "outputs": [
    {
     "data": {
      "text/plain": [
       "GridSearchCV(cv=5, estimator=AdaBoostClassifier(), n_jobs=-1,\n",
       "             param_grid={'learning_rate': [0.0001, 0.001, 0.01, 0.03, 0.05, 0.1,\n",
       "                                           0.2, 0.25, 0.5, 1.0],\n",
       "                         'n_estimators': [10, 50, 100, 300, 500],\n",
       "                         'random_state': [0]},\n",
       "             return_train_score=True, scoring='accuracy')"
      ]
     },
     "execution_count": 64,
     "metadata": {},
     "output_type": "execute_result"
    }
   ],
   "source": [
    "ada_param = {\n",
    "            'n_estimators': grid_n_estimator, \n",
    "            'learning_rate': grid_learn, \n",
    "            'random_state': grid_seed\n",
    "}\n",
    "\n",
    "# n_jobs = -1 학습시 모든 CPU 코어 사용\n",
    "grid_ada = GridSearchCV(AdaBoostClassifier(), param_grid=ada_param, return_train_score=True, n_jobs = -1, cv=5, scoring='accuracy')\n",
    "grid_ada.fit(X, y)"
   ]
  },
  {
   "cell_type": "code",
   "execution_count": 65,
   "metadata": {},
   "outputs": [
    {
     "data": {
      "text/html": [
       "<div>\n",
       "<style scoped>\n",
       "    .dataframe tbody tr th:only-of-type {\n",
       "        vertical-align: middle;\n",
       "    }\n",
       "\n",
       "    .dataframe tbody tr th {\n",
       "        vertical-align: top;\n",
       "    }\n",
       "\n",
       "    .dataframe thead th {\n",
       "        text-align: right;\n",
       "    }\n",
       "</style>\n",
       "<table border=\"1\" class=\"dataframe\">\n",
       "  <thead>\n",
       "    <tr style=\"text-align: right;\">\n",
       "      <th></th>\n",
       "      <th>param_learning_rate</th>\n",
       "      <th>param_n_estimators</th>\n",
       "      <th>params</th>\n",
       "      <th>mean_train_score</th>\n",
       "      <th>mean_test_score</th>\n",
       "      <th>rank_test_score</th>\n",
       "    </tr>\n",
       "  </thead>\n",
       "  <tbody>\n",
       "    <tr>\n",
       "      <th>39</th>\n",
       "      <td>0.25</td>\n",
       "      <td>500</td>\n",
       "      <td>{'learning_rate': 0.25, 'n_estimators': 500, '...</td>\n",
       "      <td>0.872971</td>\n",
       "      <td>0.855369</td>\n",
       "      <td>1</td>\n",
       "    </tr>\n",
       "    <tr>\n",
       "      <th>47</th>\n",
       "      <td>1.0</td>\n",
       "      <td>100</td>\n",
       "      <td>{'learning_rate': 1.0, 'n_estimators': 100, 'r...</td>\n",
       "      <td>0.873932</td>\n",
       "      <td>0.853446</td>\n",
       "      <td>2</td>\n",
       "    </tr>\n",
       "    <tr>\n",
       "      <th>43</th>\n",
       "      <td>0.5</td>\n",
       "      <td>300</td>\n",
       "      <td>{'learning_rate': 0.5, 'n_estimators': 300, 'r...</td>\n",
       "      <td>0.874889</td>\n",
       "      <td>0.853441</td>\n",
       "      <td>3</td>\n",
       "    </tr>\n",
       "    <tr>\n",
       "      <th>26</th>\n",
       "      <td>0.1</td>\n",
       "      <td>50</td>\n",
       "      <td>{'learning_rate': 0.1, 'n_estimators': 50, 'ra...</td>\n",
       "      <td>0.851402</td>\n",
       "      <td>0.850635</td>\n",
       "      <td>4</td>\n",
       "    </tr>\n",
       "    <tr>\n",
       "      <th>22</th>\n",
       "      <td>0.05</td>\n",
       "      <td>100</td>\n",
       "      <td>{'learning_rate': 0.05, 'n_estimators': 100, '...</td>\n",
       "      <td>0.851162</td>\n",
       "      <td>0.850635</td>\n",
       "      <td>4</td>\n",
       "    </tr>\n",
       "  </tbody>\n",
       "</table>\n",
       "</div>"
      ],
      "text/plain": [
       "   param_learning_rate param_n_estimators  \\\n",
       "39                0.25                500   \n",
       "47                 1.0                100   \n",
       "43                 0.5                300   \n",
       "26                 0.1                 50   \n",
       "22                0.05                100   \n",
       "\n",
       "                                               params  mean_train_score  \\\n",
       "39  {'learning_rate': 0.25, 'n_estimators': 500, '...          0.872971   \n",
       "47  {'learning_rate': 1.0, 'n_estimators': 100, 'r...          0.873932   \n",
       "43  {'learning_rate': 0.5, 'n_estimators': 300, 'r...          0.874889   \n",
       "26  {'learning_rate': 0.1, 'n_estimators': 50, 'ra...          0.851402   \n",
       "22  {'learning_rate': 0.05, 'n_estimators': 100, '...          0.851162   \n",
       "\n",
       "    mean_test_score  rank_test_score  \n",
       "39         0.855369                1  \n",
       "47         0.853446                2  \n",
       "43         0.853441                3  \n",
       "26         0.850635                4  \n",
       "22         0.850635                4  "
      ]
     },
     "execution_count": 65,
     "metadata": {},
     "output_type": "execute_result"
    }
   ],
   "source": [
    "df_grid_ada = pd.DataFrame(grid_ada.cv_results_)\n",
    "df_grid_ada[['param_learning_rate', 'param_n_estimators','params','mean_train_score','mean_test_score','rank_test_score']].sort_values(['rank_test_score']).head(5)"
   ]
  },
  {
   "cell_type": "code",
   "execution_count": 66,
   "metadata": {},
   "outputs": [
    {
     "name": "stdout",
     "output_type": "stream",
     "text": [
      "최고 Score:  0.8554\n",
      "최적의 Parameters:  {'learning_rate': 0.25, 'n_estimators': 500, 'random_state': 0}\n",
      "최적의 Estimators:  AdaBoostClassifier(learning_rate=0.25, n_estimators=500, random_state=0)\n"
     ]
    }
   ],
   "source": [
    "print(\"최고 Score: \", str(np.round(grid_ada.best_score_ ,4)))\n",
    "print(\"최적의 Parameters: \",str(grid_ada.best_params_))\n",
    "print(\"최적의 Estimators: \",str(grid_ada.best_estimator_))"
   ]
  },
  {
   "cell_type": "code",
   "execution_count": 67,
   "metadata": {},
   "outputs": [
    {
     "name": "stdout",
     "output_type": "stream",
     "text": [
      "0.8734\n"
     ]
    }
   ],
   "source": [
    "# 최적의 설정값 입력\n",
    "best_grid_ada = grid_ada.best_estimator_\n",
    "best_grid_ada.fit(X, y)\n",
    "\n",
    "pred_ada = best_grid_ada.predict(X)\n",
    "accuracy_ada = accuracy_score(y, pred_ada)\n",
    "print(np.round(accuracy_ada,4))"
   ]
  },
  {
   "cell_type": "code",
   "execution_count": 68,
   "metadata": {},
   "outputs": [
    {
     "data": {
      "text/plain": [
       "<AxesSubplot:title={'center':'AdaBoosting Feature importances for Survival'}>"
      ]
     },
     "execution_count": 68,
     "metadata": {},
     "output_type": "execute_result"
    },
    {
     "data": {
      "image/png": "[encoded data removed]",
      "text/plain": [
       "<Figure size 432x288 with 1 Axes>"
      ]
     },
     "metadata": {
      "needs_background": "light"
     },
     "output_type": "display_data"
    }
   ],
   "source": [
    "# 가장 중요한 변수\n",
    "feature_names = list(X.columns)\n",
    "\n",
    "plt.title(\"AdaBoosting Feature importances for Survival\")\n",
    "sns.barplot(x=best_grid_ada.feature_importances_, y=feature_names)"
   ]
  },
  {
   "cell_type": "markdown",
   "metadata": {},
   "source": [
    "### GradientBoost"
   ]
  },
  {
   "cell_type": "code",
   "execution_count": 69,
   "metadata": {},
   "outputs": [
    {
     "data": {
      "text/html": [
       "<div>\n",
       "<style scoped>\n",
       "    .dataframe tbody tr th:only-of-type {\n",
       "        vertical-align: middle;\n",
       "    }\n",
       "\n",
       "    .dataframe tbody tr th {\n",
       "        vertical-align: top;\n",
       "    }\n",
       "\n",
       "    .dataframe thead th {\n",
       "        text-align: right;\n",
       "    }\n",
       "</style>\n",
       "<table border=\"1\" class=\"dataframe\">\n",
       "  <thead>\n",
       "    <tr style=\"text-align: right;\">\n",
       "      <th></th>\n",
       "      <th>0</th>\n",
       "      <th>1</th>\n",
       "      <th>2</th>\n",
       "      <th>3</th>\n",
       "      <th>4</th>\n",
       "    </tr>\n",
       "  </thead>\n",
       "  <tbody>\n",
       "    <tr>\n",
       "      <th>fit_time</th>\n",
       "      <td>0.109946</td>\n",
       "      <td>0.102300</td>\n",
       "      <td>0.097977</td>\n",
       "      <td>0.090834</td>\n",
       "      <td>0.096712</td>\n",
       "    </tr>\n",
       "    <tr>\n",
       "      <th>score_time</th>\n",
       "      <td>0.009067</td>\n",
       "      <td>0.005699</td>\n",
       "      <td>0.005096</td>\n",
       "      <td>0.005098</td>\n",
       "      <td>0.005624</td>\n",
       "    </tr>\n",
       "    <tr>\n",
       "      <th>test_accuracy</th>\n",
       "      <td>0.808612</td>\n",
       "      <td>0.813397</td>\n",
       "      <td>0.794258</td>\n",
       "      <td>0.918269</td>\n",
       "      <td>0.908654</td>\n",
       "    </tr>\n",
       "    <tr>\n",
       "      <th>train_accuracy</th>\n",
       "      <td>0.923261</td>\n",
       "      <td>0.918465</td>\n",
       "      <td>0.917266</td>\n",
       "      <td>0.911377</td>\n",
       "      <td>0.897006</td>\n",
       "    </tr>\n",
       "    <tr>\n",
       "      <th>test_roc_auc</th>\n",
       "      <td>0.828457</td>\n",
       "      <td>0.890753</td>\n",
       "      <td>0.829126</td>\n",
       "      <td>0.954843</td>\n",
       "      <td>0.966843</td>\n",
       "    </tr>\n",
       "    <tr>\n",
       "      <th>train_roc_auc</th>\n",
       "      <td>0.972007</td>\n",
       "      <td>0.966159</td>\n",
       "      <td>0.970744</td>\n",
       "      <td>0.956544</td>\n",
       "      <td>0.950655</td>\n",
       "    </tr>\n",
       "  </tbody>\n",
       "</table>\n",
       "</div>"
      ],
      "text/plain": [
       "                       0         1         2         3         4\n",
       "fit_time        0.109946  0.102300  0.097977  0.090834  0.096712\n",
       "score_time      0.009067  0.005699  0.005096  0.005098  0.005624\n",
       "test_accuracy   0.808612  0.813397  0.794258  0.918269  0.908654\n",
       "train_accuracy  0.923261  0.918465  0.917266  0.911377  0.897006\n",
       "test_roc_auc    0.828457  0.890753  0.829126  0.954843  0.966843\n",
       "train_roc_auc   0.972007  0.966159  0.970744  0.956544  0.950655"
      ]
     },
     "execution_count": 69,
     "metadata": {},
     "output_type": "execute_result"
    }
   ],
   "source": [
    "from sklearn.ensemble import GradientBoostingClassifier\n",
    "\n",
    "# GradientBoost - 파라미터 튜닝 없이\n",
    "scores = cross_validate(GradientBoostingClassifier(random_state=0), X, y, scoring=['accuracy', 'roc_auc'], return_train_score=True, cv=5)\n",
    "np.transpose(pd.DataFrame(scores))"
   ]
  },
  {
   "cell_type": "code",
   "execution_count": 70,
   "metadata": {},
   "outputs": [
    {
     "name": "stdout",
     "output_type": "stream",
     "text": [
      "GradientBoost train 평균 정확도: 0.9135\n",
      "GradientBoost test 평균 정확도: 0.8486\n"
     ]
    }
   ],
   "source": [
    "print(\"GradientBoost train 평균 정확도:\", np.round(np.mean(scores['train_accuracy']),4))\n",
    "print(\"GradientBoost test 평균 정확도:\", np.round(np.mean(scores['test_accuracy']),4))"
   ]
  },
  {
   "cell_type": "code",
   "execution_count": 71,
   "metadata": {},
   "outputs": [],
   "source": [
    "GradientBoostingClassifier?"
   ]
  },
  {
   "cell_type": "markdown",
   "metadata": {},
   "source": [
    "#### 하이퍼 파라미터\n",
    "- 디폴트(default) 설정\n",
    "\n",
    "```python\n",
    "GradientBoostingClassifier(\n",
    "    loss='deviance',\n",
    "    learning_rate=0.1,\n",
    "    n_estimators=100,\n",
    "    subsample=1.0,\n",
    "    criterion='friedman_mse',\n",
    "    min_samples_split=2,\n",
    "    min_samples_leaf=1,\n",
    "    min_weight_fraction_leaf=0.0,\n",
    "    max_depth=3,\n",
    "    min_impurity_decrease=0.0,\n",
    "    min_impurity_split=None,\n",
    "    init=None,\n",
    "    random_state=None,\n",
    "    max_features=None,\n",
    "    verbose=0,\n",
    "    max_leaf_nodes=None,\n",
    "    warm_start=False,\n",
    "    presort='auto',\n",
    "    validation_fraction=0.1,\n",
    "    n_iter_no_change=None,\n",
    "    tol=0.0001,\n",
    ")\n",
    "```\n",
    "- loss: 손실 함수(loss function), 디폴트는 'deviance'\n",
    "- base_estimator: 예측할 모델, 디폴트는 DecisionTreeClassifier(max_depth=1)\n",
    "- n_estimators: 모형(week learner)의 갯수, 순차적으로 오류를 보정해서 수가 많으면 성능이 일정 수준까지 높아 질 수 있으나 수행 시간이 오래 걸린다는 단점이 있음. 디폴트는 100\n",
    "- learning_rate: 학습률, 0~1 사이의 값을 지정. 너무 작은 값인 경우 최소점을 찾아 예측 성능이 높지만 학습에 오래 걸리고 너무 큰 값인 경우 최소점을 찾지 못해 예측 성능이 떨어질 확률이 높음. 그래서 n_estimators와 상호 호환 필요. 디폴트는 0.1\n",
    "- min_samples_leaf: 말단 리프 노드의 최소한의 샘플 데이터 수, 디폴트 1\n",
    "- max_depth: 트리의 최대 깊이, 디폴트 3\n",
    "- subsample: n_estimator 모형(week learner)이 학습에 사용하는 데이터의 샘플링 비율, 디폴트 1.0"
   ]
  },
  {
   "cell_type": "markdown",
   "metadata": {},
   "source": [
    "#### GradientBoost - GridSearchCV 를 활용한 최적의 파라미터 찾기"
   ]
  },
  {
   "cell_type": "code",
   "execution_count": 72,
   "metadata": {},
   "outputs": [
    {
     "data": {
      "text/plain": [
       "GridSearchCV(cv=5, estimator=GradientBoostingClassifier(), n_jobs=-1,\n",
       "             param_grid={'learning_rate': [0.0001, 0.001, 0.01, 0.03, 0.05, 0.1,\n",
       "                                           0.2, 0.25, 0.5, 1.0],\n",
       "                         'max_depth': [1, 2, 4, 8],\n",
       "                         'min_samples_leaf': [1, 2, 3, 10, 100, 1500],\n",
       "                         'n_estimators': [10, 50, 100, 300, 500],\n",
       "                         'random_state': [0]},\n",
       "             return_train_score=True, scoring='accuracy')"
      ]
     },
     "execution_count": 72,
     "metadata": {},
     "output_type": "execute_result"
    }
   ],
   "source": [
    "gd_param = {\n",
    "    'n_estimators': grid_n_estimator,\n",
    "    'learning_rate': grid_learn,\n",
    "    'random_state': grid_seed,\n",
    "    'max_depth': grid_max_depth,  # default=3\n",
    "    'min_samples_leaf': grid_min_samples_leaf,\n",
    "}\n",
    "\n",
    "# n_jobs = -1 학습시 모든 CPU 코어 사용\n",
    "grid_gd = GridSearchCV(GradientBoostingClassifier(), param_grid=gd_param, return_train_score=True, n_jobs=-1, cv=5, scoring='accuracy')\n",
    "grid_gd.fit(X, y)"
   ]
  },
  {
   "cell_type": "markdown",
   "metadata": {},
   "source": [
    "- GradientBoost의 경우 학습을 최적화하기 위한 파라미터가 GridSearchCV 학습이 오래 걸립니다. \n",
    "- 파라미터를 조금 조정해서 학습하는 것도 방법"
   ]
  },
  {
   "cell_type": "code",
   "execution_count": 73,
   "metadata": {},
   "outputs": [
    {
     "data": {
      "text/html": [
       "<div>\n",
       "<style scoped>\n",
       "    .dataframe tbody tr th:only-of-type {\n",
       "        vertical-align: middle;\n",
       "    }\n",
       "\n",
       "    .dataframe tbody tr th {\n",
       "        vertical-align: top;\n",
       "    }\n",
       "\n",
       "    .dataframe thead th {\n",
       "        text-align: right;\n",
       "    }\n",
       "</style>\n",
       "<table border=\"1\" class=\"dataframe\">\n",
       "  <thead>\n",
       "    <tr style=\"text-align: right;\">\n",
       "      <th></th>\n",
       "      <th>param_learning_rate</th>\n",
       "      <th>param_n_estimators</th>\n",
       "      <th>params</th>\n",
       "      <th>mean_train_score</th>\n",
       "      <th>mean_test_score</th>\n",
       "      <th>rank_test_score</th>\n",
       "    </tr>\n",
       "  </thead>\n",
       "  <tbody>\n",
       "    <tr>\n",
       "      <th>317</th>\n",
       "      <td>0.01</td>\n",
       "      <td>100</td>\n",
       "      <td>{'learning_rate': 0.01, 'max_depth': 4, 'min_s...</td>\n",
       "      <td>0.874889</td>\n",
       "      <td>0.864971</td>\n",
       "      <td>1</td>\n",
       "    </tr>\n",
       "    <tr>\n",
       "      <th>436</th>\n",
       "      <td>0.03</td>\n",
       "      <td>50</td>\n",
       "      <td>{'learning_rate': 0.03, 'max_depth': 4, 'min_s...</td>\n",
       "      <td>0.875608</td>\n",
       "      <td>0.863052</td>\n",
       "      <td>2</td>\n",
       "    </tr>\n",
       "    <tr>\n",
       "      <th>318</th>\n",
       "      <td>0.01</td>\n",
       "      <td>300</td>\n",
       "      <td>{'learning_rate': 0.01, 'max_depth': 4, 'min_s...</td>\n",
       "      <td>0.879682</td>\n",
       "      <td>0.861134</td>\n",
       "      <td>3</td>\n",
       "    </tr>\n",
       "    <tr>\n",
       "      <th>437</th>\n",
       "      <td>0.03</td>\n",
       "      <td>100</td>\n",
       "      <td>{'learning_rate': 0.03, 'max_depth': 4, 'min_s...</td>\n",
       "      <td>0.880401</td>\n",
       "      <td>0.861134</td>\n",
       "      <td>3</td>\n",
       "    </tr>\n",
       "    <tr>\n",
       "      <th>780</th>\n",
       "      <td>0.2</td>\n",
       "      <td>10</td>\n",
       "      <td>{'learning_rate': 0.2, 'max_depth': 4, 'min_sa...</td>\n",
       "      <td>0.892148</td>\n",
       "      <td>0.861124</td>\n",
       "      <td>5</td>\n",
       "    </tr>\n",
       "  </tbody>\n",
       "</table>\n",
       "</div>"
      ],
      "text/plain": [
       "    param_learning_rate param_n_estimators  \\\n",
       "317                0.01                100   \n",
       "436                0.03                 50   \n",
       "318                0.01                300   \n",
       "437                0.03                100   \n",
       "780                 0.2                 10   \n",
       "\n",
       "                                                params  mean_train_score  \\\n",
       "317  {'learning_rate': 0.01, 'max_depth': 4, 'min_s...          0.874889   \n",
       "436  {'learning_rate': 0.03, 'max_depth': 4, 'min_s...          0.875608   \n",
       "318  {'learning_rate': 0.01, 'max_depth': 4, 'min_s...          0.879682   \n",
       "437  {'learning_rate': 0.03, 'max_depth': 4, 'min_s...          0.880401   \n",
       "780  {'learning_rate': 0.2, 'max_depth': 4, 'min_sa...          0.892148   \n",
       "\n",
       "     mean_test_score  rank_test_score  \n",
       "317         0.864971                1  \n",
       "436         0.863052                2  \n",
       "318         0.861134                3  \n",
       "437         0.861134                3  \n",
       "780         0.861124                5  "
      ]
     },
     "execution_count": 73,
     "metadata": {},
     "output_type": "execute_result"
    }
   ],
   "source": [
    "df_grid_gd = pd.DataFrame(grid_gd.cv_results_)\n",
    "df_grid_gd[['param_learning_rate', 'param_n_estimators','params','mean_train_score','mean_test_score','rank_test_score']].sort_values(['rank_test_score']).head(5)"
   ]
  },
  {
   "cell_type": "code",
   "execution_count": 74,
   "metadata": {},
   "outputs": [
    {
     "name": "stdout",
     "output_type": "stream",
     "text": [
      "최고 Score:  0.865\n",
      "최적의 Parameters:  {'learning_rate': 0.01, 'max_depth': 4, 'min_samples_leaf': 10, 'n_estimators': 100, 'random_state': 0}\n",
      "최적의 Estimators:  GradientBoostingClassifier(learning_rate=0.01, max_depth=4, min_samples_leaf=10,\n",
      "                           random_state=0)\n"
     ]
    }
   ],
   "source": [
    "print(\"최고 Score: \", str(np.round(grid_gd.best_score_ ,4)))\n",
    "print(\"최적의 Parameters: \",str(grid_gd.best_params_))\n",
    "print(\"최적의 Estimators: \",str(grid_gd.best_estimator_))"
   ]
  },
  {
   "cell_type": "code",
   "execution_count": 75,
   "metadata": {},
   "outputs": [
    {
     "name": "stdout",
     "output_type": "stream",
     "text": [
      "0.8734\n"
     ]
    }
   ],
   "source": [
    "# 최적의 설정값 입력\n",
    "best_grid_gd = grid_gd.best_estimator_\n",
    "best_grid_gd.fit(X, y)\n",
    "\n",
    "pred_gd = best_grid_gd.predict(X)\n",
    "accuracy_gd = accuracy_score(y, pred_gd)\n",
    "print(np.round(accuracy_gd,4))"
   ]
  },
  {
   "cell_type": "code",
   "execution_count": 76,
   "metadata": {},
   "outputs": [
    {
     "data": {
      "text/plain": [
       "<AxesSubplot:title={'center':'GradientBoosting Feature importances for Survival'}>"
      ]
     },
     "execution_count": 76,
     "metadata": {},
     "output_type": "execute_result"
    },
    {
     "data": {
      "image/png": "[encoded data removed]",
      "text/plain": [
       "<Figure size 432x288 with 1 Axes>"
      ]
     },
     "metadata": {
      "needs_background": "light"
     },
     "output_type": "display_data"
    }
   ],
   "source": [
    "# 가장 중요한 변수\n",
    "feature_names = list(X.columns)\n",
    "\n",
    "plt.title(\"GradientBoosting Feature importances for Survival\")\n",
    "sns.barplot(x=best_grid_gd.feature_importances_, y=feature_names)"
   ]
  },
  {
   "cell_type": "markdown",
   "metadata": {},
   "source": [
    "# 분류 모형의 평가와 비교"
   ]
  },
  {
   "cell_type": "markdown",
   "metadata": {},
   "source": [
    "## Confusion matrix"
   ]
  },
  {
   "cell_type": "code",
   "execution_count": 77,
   "metadata": {},
   "outputs": [
    {
     "data": {
      "text/plain": [
       "array([[330,  85],\n",
       "       [ 47, 581]])"
      ]
     },
     "execution_count": 77,
     "metadata": {},
     "output_type": "execute_result"
    }
   ],
   "source": [
    "from sklearn.metrics import confusion_matrix, classification_report\n",
    "\n",
    "confusion_matrix(y, pred_rf, labels=[1,0])"
   ]
  },
  {
   "cell_type": "markdown",
   "metadata": {},
   "source": [
    "- True Positive(TP)  | False Negative(FN)\n",
    "- False Positive(FP) | True Negative(TN)\n",
    "- TP: 생존을 생존이라고 정확히 예측\n",
    "- TN: 생존이 아닌것을 생존이 아니라고 정확히 예측\n",
    "- FP: 생존을 생존이 아니라고 잘못 예측\n",
    "- FN: 생존이 아닌 것을 생존이라고 잘못 예측\n"
   ]
  },
  {
   "cell_type": "code",
   "execution_count": 78,
   "metadata": {},
   "outputs": [
    {
     "data": {
      "text/html": [
       "<div>\n",
       "<style scoped>\n",
       "    .dataframe tbody tr th:only-of-type {\n",
       "        vertical-align: middle;\n",
       "    }\n",
       "\n",
       "    .dataframe tbody tr th {\n",
       "        vertical-align: top;\n",
       "    }\n",
       "\n",
       "    .dataframe thead th {\n",
       "        text-align: right;\n",
       "    }\n",
       "</style>\n",
       "<table border=\"1\" class=\"dataframe\">\n",
       "  <thead>\n",
       "    <tr style=\"text-align: right;\">\n",
       "      <th>Predicted</th>\n",
       "      <th>1</th>\n",
       "      <th>0</th>\n",
       "    </tr>\n",
       "    <tr>\n",
       "      <th>Observed</th>\n",
       "      <th></th>\n",
       "      <th></th>\n",
       "    </tr>\n",
       "  </thead>\n",
       "  <tbody>\n",
       "    <tr>\n",
       "      <th>1</th>\n",
       "      <td>330</td>\n",
       "      <td>85</td>\n",
       "    </tr>\n",
       "    <tr>\n",
       "      <th>0</th>\n",
       "      <td>47</td>\n",
       "      <td>581</td>\n",
       "    </tr>\n",
       "  </tbody>\n",
       "</table>\n",
       "</div>"
      ],
      "text/plain": [
       "Predicted    1    0\n",
       "Observed           \n",
       "1          330   85\n",
       "0           47  581"
      ]
     },
     "execution_count": 78,
     "metadata": {},
     "output_type": "execute_result"
    }
   ],
   "source": [
    "Confusion_Matrix = pd.crosstab(y, pred_rf, rownames=['Observed'], colnames=['Predicted'])\n",
    "Confusion_Matrix = Confusion_Matrix[[1,0]]\n",
    "Confusion_Matrix = Confusion_Matrix.reindex(index =[1,0])\n",
    "Confusion_Matrix"
   ]
  },
  {
   "cell_type": "code",
   "execution_count": 79,
   "metadata": {},
   "outputs": [
    {
     "data": {
      "image/png": "[encoded data removed]",
      "text/plain": [
       "<Figure size 432x288 with 2 Axes>"
      ]
     },
     "metadata": {
      "needs_background": "light"
     },
     "output_type": "display_data"
    }
   ],
   "source": [
    "sns.heatmap(Confusion_Matrix, annot=True, cmap = 'YlGnBu', fmt = 'd', annot_kws={\"size\":20})\n",
    "plt.show()"
   ]
  },
  {
   "cell_type": "markdown",
   "metadata": {},
   "source": [
    "## Classification_report(정밀도, 재현율, F1 스코어)"
   ]
  },
  {
   "cell_type": "markdown",
   "metadata": {},
   "source": [
    "- Total = TP + FP + FN + TN \n",
    "- Accuracy(정확도): (TP + TN) / Total\n",
    "- Recall(재현율): TP / (TP + FN)\n",
    "- Precision(정밀도): TP / (TP + FP)\n",
    "- F1-score: 2 * Precision * Recall / (Precision + Recall)\n"
   ]
  },
  {
   "cell_type": "code",
   "execution_count": 80,
   "metadata": {},
   "outputs": [
    {
     "name": "stdout",
     "output_type": "stream",
     "text": [
      "accuracy = 0.87\n",
      "recall = 0.8\n",
      "precision = 0.88\n",
      "f1_score = 0.83\n"
     ]
    }
   ],
   "source": [
    "total = 330 + 47 + 85 + 581\n",
    "accuracy = (330 + 581) / total\n",
    "recall = 330 / (330 + 85)\n",
    "precision = 330 / (330 + 47)\n",
    "f1_score = 2 * precision * recall / (precision + recall)\n",
    "\n",
    "print(\"accuracy =\", np.round((accuracy),2))\n",
    "print(\"recall =\", np.round((recall),2))\n",
    "print(\"precision =\", np.round((precision),2))\n",
    "print(\"f1_score =\", np.round((f1_score),2))"
   ]
  },
  {
   "cell_type": "code",
   "execution_count": 81,
   "metadata": {},
   "outputs": [
    {
     "name": "stdout",
     "output_type": "stream",
     "text": [
      "              precision    recall  f1-score   support\n",
      "\n",
      "  Survived 0       0.87      0.93      0.90       628\n",
      "  Survived 1       0.88      0.80      0.83       415\n",
      "\n",
      "    accuracy                           0.87      1043\n",
      "   macro avg       0.87      0.86      0.87      1043\n",
      "weighted avg       0.87      0.87      0.87      1043\n",
      "\n"
     ]
    }
   ],
   "source": [
    "print(classification_report(y, pred_rf, target_names=['Survived 0','Survived 1']))"
   ]
  },
  {
   "cell_type": "markdown",
   "metadata": {},
   "source": [
    "## ROC/AUC Curve\n",
    "- https://www.scikit-yb.org/en/latest/api/classifier/rocauc.html"
   ]
  },
  {
   "cell_type": "code",
   "execution_count": 82,
   "metadata": {},
   "outputs": [
    {
     "data": {
      "image/png": "[encoded data removed]",
      "text/plain": [
       "<Figure size 432x288 with 1 Axes>"
      ]
     },
     "metadata": {
      "needs_background": "light"
     },
     "output_type": "display_data"
    },
    {
     "data": {
      "text/plain": [
       "<AxesSubplot:title={'center':'ROC Curves for RandomForestClassifier'}, xlabel='False Positive Rate', ylabel='True Positive Rate'>"
      ]
     },
     "execution_count": 82,
     "metadata": {},
     "output_type": "execute_result"
    }
   ],
   "source": [
    "from yellowbrick.classifier import ROCAUC\n",
    "\n",
    "visualizer = ROCAUC(best_grid_rf, classes=[0, 1])\n",
    "visualizer.fit(X, y)   \n",
    "visualizer.score(X, y) \n",
    "visualizer.show()    "
   ]
  },
  {
   "cell_type": "code",
   "execution_count": 83,
   "metadata": {},
   "outputs": [
    {
     "data": {
      "image/png": "[encoded data removed]",
      "text/plain": [
       "<Figure size 432x288 with 1 Axes>"
      ]
     },
     "metadata": {
      "needs_background": "light"
     },
     "output_type": "display_data"
    },
    {
     "data": {
      "text/plain": [
       "<AxesSubplot:title={'center':'ROC Curves for GradientBoostingClassifier'}, xlabel='False Positive Rate', ylabel='True Positive Rate'>"
      ]
     },
     "execution_count": 83,
     "metadata": {},
     "output_type": "execute_result"
    }
   ],
   "source": [
    "visualizer = ROCAUC(best_grid_gd, classes=[0, 1])\n",
    "visualizer.fit(X, y)\n",
    "visualizer.score(X, y)\n",
    "visualizer.show()"
   ]
  },
  {
   "cell_type": "code",
   "execution_count": 84,
   "metadata": {},
   "outputs": [
    {
     "data": {
      "image/png": "[encoded data removed]",
      "text/plain": [
       "<Figure size 432x288 with 1 Axes>"
      ]
     },
     "metadata": {
      "needs_background": "light"
     },
     "output_type": "display_data"
    },
    {
     "data": {
      "text/plain": [
       "<AxesSubplot:title={'center':'ROC Curves for AdaBoostClassifier'}, xlabel='False Positive Rate', ylabel='True Positive Rate'>"
      ]
     },
     "execution_count": 84,
     "metadata": {},
     "output_type": "execute_result"
    }
   ],
   "source": [
    "visualizer = ROCAUC(best_grid_ada, classes=[0, 1])\n",
    "\n",
    "visualizer.fit(X, y)\n",
    "visualizer.score(X, y)\n",
    "visualizer.show()"
   ]
  }
 ],
 "metadata": {
  "kernelspec": {
   "display_name": "Python 3",
   "language": "python",
   "name": "python3"
  },
  "language_info": {
   "codemirror_mode": {
    "name": "ipython",
    "version": 3
   },
   "file_extension": ".py",
   "mimetype": "text/x-python",
   "name": "python",
   "nbconvert_exporter": "python",
   "pygments_lexer": "ipython3",
   "version": "3.7.10"
  },
  "toc": {
   "base_numbering": 1,
   "nav_menu": {},
   "number_sections": true,
   "sideBar": true,
   "skip_h1_title": false,
   "title_cell": "Table of Contents",
   "title_sidebar": "Contents",
   "toc_cell": false,
   "toc_position": {
    "height": "calc(100% - 180px)",
    "left": "10px",
    "top": "150px",
    "width": "206px"
   },
   "toc_section_display": true,
   "toc_window_display": true
  },
  "varInspector": {
   "cols": {
    "lenName": 16,
    "lenType": 16,
    "lenVar": 40
   },
   "kernels_config": {
    "python": {
     "delete_cmd_postfix": "",
     "delete_cmd_prefix": "del ",
     "library": "var_list.py",
     "varRefreshCmd": "print(var_dic_list())"
    },
    "r": {
     "delete_cmd_postfix": ") ",
     "delete_cmd_prefix": "rm(",
     "library": "var_list.r",
     "varRefreshCmd": "cat(var_dic_list()) "
    }
   },
   "types_to_exclude": [
    "module",
    "function",
    "builtin_function_or_method",
    "instance",
    "_Feature"
   ],
   "window_display": false
  }
 },
 "nbformat": 4,
 "nbformat_minor": 2
}
