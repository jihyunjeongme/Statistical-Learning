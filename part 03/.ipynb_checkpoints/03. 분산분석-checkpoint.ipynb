{
 "cells": [
  {
   "cell_type": "markdown",
   "metadata": {},
   "source": [
    "## 일원 분산 분석"
   ]
  },
  {
   "cell_type": "code",
   "execution_count": 1,
   "metadata": {},
   "outputs": [],
   "source": [
    "# 데이터 핸들링을 위한 패키지\n",
    "import numpy as np\n",
    "import pandas as pd\n",
    "\n",
    "# 통계를 위해 사용하는 패키지\n",
    "from scipy import stats\n",
    "import statsmodels.api as sm\n",
    "from statsmodels.formula.api import ols\n",
    "\n",
    "# 시각화를 위한 패키지\n",
    "from matplotlib import pyplot as plt\n",
    "import seaborn as sns\n",
    "\n",
    "# 그래프를 실제로 그리기 위한 설정\n",
    "%matplotlib inline\n",
    "\n",
    "# 경고 메시지 무시\n",
    "import warnings\n",
    "warnings.filterwarnings('ignore')"
   ]
  },
  {
   "cell_type": "code",
   "execution_count": 2,
   "metadata": {},
   "outputs": [
    {
     "data": {
      "text/html": [
       "<div>\n",
       "<style scoped>\n",
       "    .dataframe tbody tr th:only-of-type {\n",
       "        vertical-align: middle;\n",
       "    }\n",
       "\n",
       "    .dataframe tbody tr th {\n",
       "        vertical-align: top;\n",
       "    }\n",
       "\n",
       "    .dataframe thead th {\n",
       "        text-align: right;\n",
       "    }\n",
       "</style>\n",
       "<table border=\"1\" class=\"dataframe\">\n",
       "  <thead>\n",
       "    <tr style=\"text-align: right;\">\n",
       "      <th></th>\n",
       "      <th>machine</th>\n",
       "      <th>type</th>\n",
       "      <th>defRate</th>\n",
       "    </tr>\n",
       "  </thead>\n",
       "  <tbody>\n",
       "    <tr>\n",
       "      <th>0</th>\n",
       "      <td>1</td>\n",
       "      <td>3</td>\n",
       "      <td>0.001999</td>\n",
       "    </tr>\n",
       "    <tr>\n",
       "      <th>1</th>\n",
       "      <td>2</td>\n",
       "      <td>1</td>\n",
       "      <td>0.005974</td>\n",
       "    </tr>\n",
       "    <tr>\n",
       "      <th>2</th>\n",
       "      <td>3</td>\n",
       "      <td>4</td>\n",
       "      <td>0.007828</td>\n",
       "    </tr>\n",
       "    <tr>\n",
       "      <th>3</th>\n",
       "      <td>4</td>\n",
       "      <td>1</td>\n",
       "      <td>0.006121</td>\n",
       "    </tr>\n",
       "    <tr>\n",
       "      <th>4</th>\n",
       "      <td>5</td>\n",
       "      <td>1</td>\n",
       "      <td>0.005887</td>\n",
       "    </tr>\n",
       "    <tr>\n",
       "      <th>...</th>\n",
       "      <td>...</td>\n",
       "      <td>...</td>\n",
       "      <td>...</td>\n",
       "    </tr>\n",
       "    <tr>\n",
       "      <th>295</th>\n",
       "      <td>296</td>\n",
       "      <td>2</td>\n",
       "      <td>0.002640</td>\n",
       "    </tr>\n",
       "    <tr>\n",
       "      <th>296</th>\n",
       "      <td>297</td>\n",
       "      <td>4</td>\n",
       "      <td>0.007573</td>\n",
       "    </tr>\n",
       "    <tr>\n",
       "      <th>297</th>\n",
       "      <td>298</td>\n",
       "      <td>2</td>\n",
       "      <td>0.003870</td>\n",
       "    </tr>\n",
       "    <tr>\n",
       "      <th>298</th>\n",
       "      <td>299</td>\n",
       "      <td>1</td>\n",
       "      <td>0.005815</td>\n",
       "    </tr>\n",
       "    <tr>\n",
       "      <th>299</th>\n",
       "      <td>300</td>\n",
       "      <td>1</td>\n",
       "      <td>0.006372</td>\n",
       "    </tr>\n",
       "  </tbody>\n",
       "</table>\n",
       "<p>300 rows × 3 columns</p>\n",
       "</div>"
      ],
      "text/plain": [
       "     machine  type   defRate\n",
       "0          1     3  0.001999\n",
       "1          2     1  0.005974\n",
       "2          3     4  0.007828\n",
       "3          4     1  0.006121\n",
       "4          5     1  0.005887\n",
       "..       ...   ...       ...\n",
       "295      296     2  0.002640\n",
       "296      297     4  0.007573\n",
       "297      298     2  0.003870\n",
       "298      299     1  0.005815\n",
       "299      300     1  0.006372\n",
       "\n",
       "[300 rows x 3 columns]"
      ]
     },
     "execution_count": 2,
     "metadata": {},
     "output_type": "execute_result"
    }
   ],
   "source": [
    "# csv 파일을 불러와서 df_f_oneway 데이터 프레임에 담습니다.\n",
    "df_f_oneway = pd.read_csv('data/anova/factory.csv')\n",
    "df_f_oneway"
   ]
  },
  {
   "cell_type": "code",
   "execution_count": 3,
   "metadata": {},
   "outputs": [
    {
     "name": "stdout",
     "output_type": "stream",
     "text": [
      "<class 'pandas.core.frame.DataFrame'>\n",
      "RangeIndex: 300 entries, 0 to 299\n",
      "Data columns (total 3 columns):\n",
      " #   Column   Non-Null Count  Dtype  \n",
      "---  ------   --------------  -----  \n",
      " 0   machine  300 non-null    int64  \n",
      " 1   type     300 non-null    int64  \n",
      " 2   defRate  300 non-null    float64\n",
      "dtypes: float64(1), int64(2)\n",
      "memory usage: 7.2 KB\n"
     ]
    }
   ],
   "source": [
    "# 데이터 셋에 대한 정보 확인\n",
    "df_f_oneway.info()"
   ]
  },
  {
   "cell_type": "code",
   "execution_count": 4,
   "metadata": {},
   "outputs": [
    {
     "data": {
      "text/plain": [
       "machine    0\n",
       "type       0\n",
       "defRate    0\n",
       "dtype: int64"
      ]
     },
     "execution_count": 4,
     "metadata": {},
     "output_type": "execute_result"
    }
   ],
   "source": [
    "# 결측치가 있는지 확인\n",
    "df_f_oneway.isnull().sum()"
   ]
  },
  {
   "cell_type": "code",
   "execution_count": 5,
   "metadata": {},
   "outputs": [
    {
     "data": {
      "text/plain": [
       "3    78\n",
       "2    77\n",
       "1    75\n",
       "4    70\n",
       "Name: type, dtype: int64"
      ]
     },
     "execution_count": 5,
     "metadata": {},
     "output_type": "execute_result"
    }
   ],
   "source": [
    "# 업체별 데이터 갯수 확인\n",
    "df_f_oneway['type'].value_counts()"
   ]
  },
  {
   "cell_type": "code",
   "execution_count": 6,
   "metadata": {},
   "outputs": [
    {
     "data": {
      "text/html": [
       "<div>\n",
       "<style scoped>\n",
       "    .dataframe tbody tr th:only-of-type {\n",
       "        vertical-align: middle;\n",
       "    }\n",
       "\n",
       "    .dataframe tbody tr th {\n",
       "        vertical-align: top;\n",
       "    }\n",
       "\n",
       "    .dataframe thead th {\n",
       "        text-align: right;\n",
       "    }\n",
       "</style>\n",
       "<table border=\"1\" class=\"dataframe\">\n",
       "  <thead>\n",
       "    <tr style=\"text-align: right;\">\n",
       "      <th></th>\n",
       "      <th>machine</th>\n",
       "      <th>type</th>\n",
       "      <th>defRate</th>\n",
       "    </tr>\n",
       "  </thead>\n",
       "  <tbody>\n",
       "    <tr>\n",
       "      <th>count</th>\n",
       "      <td>300.000000</td>\n",
       "      <td>300.000000</td>\n",
       "      <td>300.000000</td>\n",
       "    </tr>\n",
       "    <tr>\n",
       "      <th>mean</th>\n",
       "      <td>150.500000</td>\n",
       "      <td>2.476667</td>\n",
       "      <td>0.004636</td>\n",
       "    </tr>\n",
       "    <tr>\n",
       "      <th>std</th>\n",
       "      <td>86.746758</td>\n",
       "      <td>1.104622</td>\n",
       "      <td>0.002418</td>\n",
       "    </tr>\n",
       "    <tr>\n",
       "      <th>min</th>\n",
       "      <td>1.000000</td>\n",
       "      <td>1.000000</td>\n",
       "      <td>0.000704</td>\n",
       "    </tr>\n",
       "    <tr>\n",
       "      <th>25%</th>\n",
       "      <td>75.750000</td>\n",
       "      <td>1.750000</td>\n",
       "      <td>0.002357</td>\n",
       "    </tr>\n",
       "    <tr>\n",
       "      <th>50%</th>\n",
       "      <td>150.500000</td>\n",
       "      <td>2.000000</td>\n",
       "      <td>0.003865</td>\n",
       "    </tr>\n",
       "    <tr>\n",
       "      <th>75%</th>\n",
       "      <td>225.250000</td>\n",
       "      <td>3.000000</td>\n",
       "      <td>0.006799</td>\n",
       "    </tr>\n",
       "    <tr>\n",
       "      <th>max</th>\n",
       "      <td>300.000000</td>\n",
       "      <td>4.000000</td>\n",
       "      <td>0.008727</td>\n",
       "    </tr>\n",
       "  </tbody>\n",
       "</table>\n",
       "</div>"
      ],
      "text/plain": [
       "          machine        type     defRate\n",
       "count  300.000000  300.000000  300.000000\n",
       "mean   150.500000    2.476667    0.004636\n",
       "std     86.746758    1.104622    0.002418\n",
       "min      1.000000    1.000000    0.000704\n",
       "25%     75.750000    1.750000    0.002357\n",
       "50%    150.500000    2.000000    0.003865\n",
       "75%    225.250000    3.000000    0.006799\n",
       "max    300.000000    4.000000    0.008727"
      ]
     },
     "execution_count": 6,
     "metadata": {},
     "output_type": "execute_result"
    }
   ],
   "source": [
    "# 기술통계량 확인\n",
    "df_f_oneway.describe()"
   ]
  },
  {
   "cell_type": "code",
   "execution_count": 7,
   "metadata": {},
   "outputs": [
    {
     "data": {
      "text/html": [
       "<div>\n",
       "<style scoped>\n",
       "    .dataframe tbody tr th:only-of-type {\n",
       "        vertical-align: middle;\n",
       "    }\n",
       "\n",
       "    .dataframe tbody tr th {\n",
       "        vertical-align: top;\n",
       "    }\n",
       "\n",
       "    .dataframe thead th {\n",
       "        text-align: right;\n",
       "    }\n",
       "</style>\n",
       "<table border=\"1\" class=\"dataframe\">\n",
       "  <thead>\n",
       "    <tr style=\"text-align: right;\">\n",
       "      <th></th>\n",
       "      <th>count</th>\n",
       "      <th>mean</th>\n",
       "      <th>std</th>\n",
       "      <th>min</th>\n",
       "      <th>25%</th>\n",
       "      <th>50%</th>\n",
       "      <th>75%</th>\n",
       "      <th>max</th>\n",
       "      <th>median</th>\n",
       "      <th>skew</th>\n",
       "      <th>kurtosis</th>\n",
       "      <th>missing</th>\n",
       "    </tr>\n",
       "    <tr>\n",
       "      <th>type</th>\n",
       "      <th></th>\n",
       "      <th></th>\n",
       "      <th></th>\n",
       "      <th></th>\n",
       "      <th></th>\n",
       "      <th></th>\n",
       "      <th></th>\n",
       "      <th></th>\n",
       "      <th></th>\n",
       "      <th></th>\n",
       "      <th></th>\n",
       "      <th></th>\n",
       "    </tr>\n",
       "  </thead>\n",
       "  <tbody>\n",
       "    <tr>\n",
       "      <th>1</th>\n",
       "      <td>75.0</td>\n",
       "      <td>0.006029</td>\n",
       "      <td>0.000460</td>\n",
       "      <td>0.005062</td>\n",
       "      <td>0.005724</td>\n",
       "      <td>0.005986</td>\n",
       "      <td>0.006344</td>\n",
       "      <td>0.007295</td>\n",
       "      <td>0.005986</td>\n",
       "      <td>0.284333</td>\n",
       "      <td>-0.245943</td>\n",
       "      <td>0</td>\n",
       "    </tr>\n",
       "    <tr>\n",
       "      <th>2</th>\n",
       "      <td>77.0</td>\n",
       "      <td>0.002996</td>\n",
       "      <td>0.000522</td>\n",
       "      <td>0.002097</td>\n",
       "      <td>0.002640</td>\n",
       "      <td>0.002976</td>\n",
       "      <td>0.003368</td>\n",
       "      <td>0.004074</td>\n",
       "      <td>0.002976</td>\n",
       "      <td>0.203093</td>\n",
       "      <td>-0.770529</td>\n",
       "      <td>0</td>\n",
       "    </tr>\n",
       "    <tr>\n",
       "      <th>3</th>\n",
       "      <td>78.0</td>\n",
       "      <td>0.001946</td>\n",
       "      <td>0.000454</td>\n",
       "      <td>0.000704</td>\n",
       "      <td>0.001689</td>\n",
       "      <td>0.001986</td>\n",
       "      <td>0.002248</td>\n",
       "      <td>0.002917</td>\n",
       "      <td>0.001986</td>\n",
       "      <td>-0.369573</td>\n",
       "      <td>0.398895</td>\n",
       "      <td>0</td>\n",
       "    </tr>\n",
       "    <tr>\n",
       "      <th>4</th>\n",
       "      <td>70.0</td>\n",
       "      <td>0.007946</td>\n",
       "      <td>0.000420</td>\n",
       "      <td>0.006821</td>\n",
       "      <td>0.007650</td>\n",
       "      <td>0.007940</td>\n",
       "      <td>0.008278</td>\n",
       "      <td>0.008727</td>\n",
       "      <td>0.007940</td>\n",
       "      <td>-0.389347</td>\n",
       "      <td>-0.232689</td>\n",
       "      <td>0</td>\n",
       "    </tr>\n",
       "  </tbody>\n",
       "</table>\n",
       "</div>"
      ],
      "text/plain": [
       "      count      mean       std       min       25%       50%       75%  \\\n",
       "type                                                                      \n",
       "1      75.0  0.006029  0.000460  0.005062  0.005724  0.005986  0.006344   \n",
       "2      77.0  0.002996  0.000522  0.002097  0.002640  0.002976  0.003368   \n",
       "3      78.0  0.001946  0.000454  0.000704  0.001689  0.001986  0.002248   \n",
       "4      70.0  0.007946  0.000420  0.006821  0.007650  0.007940  0.008278   \n",
       "\n",
       "           max    median      skew  kurtosis  missing  \n",
       "type                                                   \n",
       "1     0.007295  0.005986  0.284333 -0.245943        0  \n",
       "2     0.004074  0.002976  0.203093 -0.770529        0  \n",
       "3     0.002917  0.001986 -0.369573  0.398895        0  \n",
       "4     0.008727  0.007940 -0.389347 -0.232689        0  "
      ]
     },
     "execution_count": 7,
     "metadata": {},
     "output_type": "execute_result"
    }
   ],
   "source": [
    "# 왜도 계산 \n",
    "def skew(x):\n",
    "    return stats.skew(x)\n",
    "\n",
    "# 첨도 계산 \n",
    "def kurtosis(x):\n",
    "    return stats.kurtosis(x)\n",
    "\n",
    "# 기술통계를 살펴보면 평균 불량률의 경우 3번 업체가 가장 낮은 것으로 확인\n",
    "df_desc_stat = df_f_oneway.groupby(\"type\")['defRate'].describe()\n",
    "\n",
    "skew_results = []\n",
    "kurtosis_results = []\n",
    "null_results = []\n",
    "\n",
    "for i in range(1,5):\n",
    "    skew_results.append(skew(df_f_oneway[df_f_oneway['type'] == i]['defRate']))\n",
    "    kurtosis_results.append(kurtosis(df_f_oneway[df_f_oneway['type'] == i]['defRate']))\n",
    "    null_results.append(df_f_oneway[df_f_oneway['type'] == i]['defRate'].isnull().sum())\n",
    "\n",
    "df_desc_stat['median'] = df_f_oneway.groupby(\"type\")['defRate'].median()\n",
    "df_desc_stat['skew'] = skew_results\n",
    "df_desc_stat['kurtosis'] = kurtosis_results\n",
    "df_desc_stat['missing'] = null_results\n",
    "\n",
    "df_desc_stat.head()"
   ]
  },
  {
   "cell_type": "code",
   "execution_count": 8,
   "metadata": {},
   "outputs": [
    {
     "data": {
      "image/png": "[encoded data removed]",
      "text/plain": [
       "<Figure size 432x288 with 1 Axes>"
      ]
     },
     "metadata": {
      "needs_background": "light"
     },
     "output_type": "display_data"
    }
   ],
   "source": [
    "# boxplot을 통해서 type별로 유의미한 차이가 있을지 확인\n",
    "# 상자의 중심은 중앙값, 윗단과 아랫단은 각각 75%, 25%의 사분의점\n",
    "sns.boxplot(x = \"type\", y = \"defRate\", data = df_f_oneway)\n",
    "plt.show()"
   ]
  },
  {
   "cell_type": "code",
   "execution_count": 9,
   "metadata": {},
   "outputs": [
    {
     "data": {
      "image/png": "[encoded data removed]",
      "text/plain": [
       "<Figure size 432x288 with 1 Axes>"
      ]
     },
     "metadata": {
      "needs_background": "light"
     },
     "output_type": "display_data"
    }
   ],
   "source": [
    "# violinplot도 boxplot과 함께 type별로 유의미한 차이가 있을지 확인할 때 사용. \n",
    "# boxplot과 다르게 밀도를 추정 할 수 있음. \n",
    "sns.violinplot(x = \"type\", y = \"defRate\",data = df_f_oneway)\n",
    "plt.show()"
   ]
  },
  {
   "cell_type": "code",
   "execution_count": 10,
   "metadata": {},
   "outputs": [],
   "source": [
    "# boxplot, violinplot을 보면 type간의 유의미한 차이가 있을것 같이 형상을 보임."
   ]
  },
  {
   "cell_type": "code",
   "execution_count": 11,
   "metadata": {},
   "outputs": [
    {
     "data": {
      "image/png": "[encoded data removed]",
      "text/plain": [
       "<Figure size 1152x864 with 4 Axes>"
      ]
     },
     "metadata": {
      "needs_background": "light"
     },
     "output_type": "display_data"
    }
   ],
   "source": [
    "# 히스토그램 \n",
    "\n",
    "type1 = np.array(df_f_oneway[df_f_oneway['type'] == 1]['defRate'])\n",
    "type2 = np.array(df_f_oneway[df_f_oneway['type'] == 2]['defRate'])\n",
    "type3 = np.array(df_f_oneway[df_f_oneway['type'] == 3]['defRate'])\n",
    "type4 = np.array(df_f_oneway[df_f_oneway['type'] == 4]['defRate'])\n",
    "\n",
    "figure, ((ax1, ax2), (ax3, ax4)) = plt.subplots(nrows=2, ncols=2)\n",
    "figure.set_size_inches(16,12)\n",
    "\n",
    "sns.distplot(type1, norm_hist=False, kde=False, label=\"type1\", rug=True, color = 'blue', ax=ax1)\n",
    "sns.distplot(type2, norm_hist=False, kde=False, label=\"type2\", rug=True, color = 'red', ax=ax2)\n",
    "sns.distplot(type3, norm_hist=False, kde=False, label=\"type3\", rug=True, color = 'green', ax=ax3)\n",
    "sns.distplot(type4, norm_hist=False, kde=False, label=\"type4\", rug=True, color = 'orange', ax=ax4)\n",
    "\n",
    "ax1.set(ylabel='defRate', title = \"type1\")\n",
    "ax2.set(ylabel='defRate', title = \"type2\")\n",
    "ax3.set(ylabel='defRate', title = \"type3\")\n",
    "ax4.set(ylabel='defRate', title = \"type4\")\n",
    "\n",
    "plt.show()"
   ]
  },
  {
   "cell_type": "code",
   "execution_count": 12,
   "metadata": {},
   "outputs": [
    {
     "data": {
      "image/png": "[encoded data removed]",
      "text/plain": [
       "<Figure size 1152x864 with 4 Axes>"
      ]
     },
     "metadata": {
      "needs_background": "light"
     },
     "output_type": "display_data"
    }
   ],
   "source": [
    "figure, ((ax1, ax2), (ax3, ax4)) = plt.subplots(nrows=2, ncols=2)\n",
    "figure.set_size_inches(16,12)\n",
    "\n",
    "sns.distplot(type1, label=\"type1\", color = 'blue', ax=ax1)\n",
    "sns.distplot(type2, label=\"type2\", color = 'red',ax=ax2)\n",
    "sns.distplot(type3, label=\"type3\", color = 'green', ax=ax3)\n",
    "sns.distplot(type4, label=\"type4\", rug=True, color = 'orange', ax=ax4)\n",
    "\n",
    "ax1.set(ylabel='defRate', title = \"type1\")\n",
    "ax2.set(ylabel='defRate', title = \"type2\")\n",
    "ax3.set(ylabel='defRate', title = \"type3\")\n",
    "ax4.set(ylabel='defRate', title = \"type4\")\n",
    "plt.show()"
   ]
  },
  {
   "cell_type": "code",
   "execution_count": 13,
   "metadata": {},
   "outputs": [
    {
     "data": {
      "image/png": "[encoded data removed]",
      "text/plain": [
       "<Figure size 1152x432 with 1 Axes>"
      ]
     },
     "metadata": {
      "needs_background": "light"
     },
     "output_type": "display_data"
    }
   ],
   "source": [
    "# 한번에 보기\n",
    "plt.figure(figsize=(16,6))\n",
    "\n",
    "ax5 = sns.distplot(type1, hist=True, norm_hist=False, kde=False, label=\"type1\", color = 'blue')\n",
    "ax5 = sns.distplot(type2, hist=True, norm_hist=False, kde=False, label=\"type2\", color = 'red')\n",
    "ax5 = sns.distplot(type3, hist=True, norm_hist=False, kde=False, label=\"type3\", color = 'green')\n",
    "ax5 = sns.distplot(type4, hist=True, norm_hist=False, kde=False, label=\"type4\", color = 'orange')\n",
    "ax5.set(xlabel=\"defRate\")\n",
    "\n",
    "plt.legend()\n",
    "plt.show()"
   ]
  },
  {
   "cell_type": "code",
   "execution_count": 14,
   "metadata": {},
   "outputs": [
    {
     "data": {
      "image/png": "[encoded data removed]",
      "text/plain": [
       "<Figure size 1152x432 with 1 Axes>"
      ]
     },
     "metadata": {
      "needs_background": "light"
     },
     "output_type": "display_data"
    }
   ],
   "source": [
    "# 한번에 보기\n",
    "plt.figure(figsize=(16,6))\n",
    "\n",
    "ax5 = sns.distplot(type1, kde=False, fit=stats.gamma, label=\"type1\",color = 'blue')\n",
    "ax5 = sns.distplot(type2, kde=False, fit=stats.gamma, label=\"type2\", color = 'red')\n",
    "ax5 = sns.distplot(type3, kde=False, fit=stats.gamma, label=\"type3\", color = 'green')\n",
    "ax5 = sns.distplot(type4, kde=False, fit=stats.gamma, label=\"type4\", color = 'yellow')\n",
    "\n",
    "plt.legend()\n",
    "plt.show()\n"
   ]
  },
  {
   "cell_type": "code",
   "execution_count": 15,
   "metadata": {},
   "outputs": [
    {
     "data": {
      "text/html": [
       "<div>\n",
       "<style scoped>\n",
       "    .dataframe tbody tr th:only-of-type {\n",
       "        vertical-align: middle;\n",
       "    }\n",
       "\n",
       "    .dataframe tbody tr th {\n",
       "        vertical-align: top;\n",
       "    }\n",
       "\n",
       "    .dataframe thead th {\n",
       "        text-align: right;\n",
       "    }\n",
       "</style>\n",
       "<table border=\"1\" class=\"dataframe\">\n",
       "  <thead>\n",
       "    <tr style=\"text-align: right;\">\n",
       "      <th></th>\n",
       "      <th>type</th>\n",
       "      <th>defRate</th>\n",
       "    </tr>\n",
       "  </thead>\n",
       "  <tbody>\n",
       "    <tr>\n",
       "      <th>0</th>\n",
       "      <td>3</td>\n",
       "      <td>0.001999</td>\n",
       "    </tr>\n",
       "    <tr>\n",
       "      <th>1</th>\n",
       "      <td>1</td>\n",
       "      <td>0.005974</td>\n",
       "    </tr>\n",
       "    <tr>\n",
       "      <th>2</th>\n",
       "      <td>4</td>\n",
       "      <td>0.007828</td>\n",
       "    </tr>\n",
       "    <tr>\n",
       "      <th>3</th>\n",
       "      <td>1</td>\n",
       "      <td>0.006121</td>\n",
       "    </tr>\n",
       "    <tr>\n",
       "      <th>4</th>\n",
       "      <td>1</td>\n",
       "      <td>0.005887</td>\n",
       "    </tr>\n",
       "  </tbody>\n",
       "</table>\n",
       "</div>"
      ],
      "text/plain": [
       "   type   defRate\n",
       "0     3  0.001999\n",
       "1     1  0.005974\n",
       "2     4  0.007828\n",
       "3     1  0.006121\n",
       "4     1  0.005887"
      ]
     },
     "execution_count": 15,
     "metadata": {},
     "output_type": "execute_result"
    }
   ],
   "source": [
    "# ANOVA 일원분산 분석 - machine 컬럼 삭제 \n",
    "df_one_anova = df_f_oneway.drop('machine',axis=1)\n",
    "df_one_anova.head()"
   ]
  },
  {
   "cell_type": "code",
   "execution_count": 16,
   "metadata": {},
   "outputs": [],
   "source": [
    "# 참고사항\n",
    "# %-formatting 방식\n",
    "# print('F-Value : %.4f  P-value : %.4f' % oneway_anova_result)\n",
    "\n",
    "# format() 형식\n",
    "# print(\"F-Value : {:.4f} P-value : {:.4f}\".format(oneway_anova_result[0], oneway_anova_result[1]))\n",
    "\n",
    "# f-string (Python 3.6 이상 사용 가능)\n",
    "# print(f'F-Value : {oneway_anova_result[0]:.4f} P-value : {oneway_anova_result[1]:.3f}')"
   ]
  },
  {
   "cell_type": "code",
   "execution_count": 17,
   "metadata": {},
   "outputs": [
    {
     "name": "stdout",
     "output_type": "stream",
     "text": [
      "F-Value : 2583.2183 P-value : 0.000\n",
      "p-value < 0.05 이므로 귀무가설이 기각.\n",
      "F_onewayResult(statistic=2583.218336850084, pvalue=7.222458556350768e-212)\n"
     ]
    }
   ],
   "source": [
    "# scipy.stats 으로 ANOVA 분석\n",
    "type1 = df_one_anova[df_one_anova['type'] == 1]['defRate']\n",
    "type2 = df_one_anova[df_one_anova['type'] == 2]['defRate']\n",
    "type3 = df_one_anova[df_one_anova['type'] == 3]['defRate']\n",
    "type4 = df_one_anova[df_one_anova['type'] == 4]['defRate']\n",
    "\n",
    "oneway_anova_result = stats.f_oneway(type1, type2, type3, type4)\n",
    "oneway_anova_result\n",
    "\n",
    "print(f'F-Value : {oneway_anova_result[0]:.4f} P-value : {oneway_anova_result[1]:.3f}')\n",
    "if oneway_anova_result[1] < 0.05:\n",
    "    print(\"p-value < 0.05 이므로 귀무가설이 기각.\")\n",
    "\n",
    "print(oneway_anova_result)"
   ]
  },
  {
   "cell_type": "code",
   "execution_count": 18,
   "metadata": {},
   "outputs": [
    {
     "data": {
      "text/html": [
       "<table class=\"simpletable\">\n",
       "<caption>OLS Regression Results</caption>\n",
       "<tr>\n",
       "  <th>Dep. Variable:</th>         <td>defRate</td>     <th>  R-squared:         </th> <td>   0.963</td> \n",
       "</tr>\n",
       "<tr>\n",
       "  <th>Model:</th>                   <td>OLS</td>       <th>  Adj. R-squared:    </th> <td>   0.963</td> \n",
       "</tr>\n",
       "<tr>\n",
       "  <th>Method:</th>             <td>Least Squares</td>  <th>  F-statistic:       </th> <td>   2583.</td> \n",
       "</tr>\n",
       "<tr>\n",
       "  <th>Date:</th>             <td>Mon, 26 Apr 2021</td> <th>  Prob (F-statistic):</th> <td>7.22e-212</td>\n",
       "</tr>\n",
       "<tr>\n",
       "  <th>Time:</th>                 <td>13:33:28</td>     <th>  Log-Likelihood:    </th> <td>  1877.6</td> \n",
       "</tr>\n",
       "<tr>\n",
       "  <th>No. Observations:</th>      <td>   300</td>      <th>  AIC:               </th> <td>  -3747.</td> \n",
       "</tr>\n",
       "<tr>\n",
       "  <th>Df Residuals:</th>          <td>   296</td>      <th>  BIC:               </th> <td>  -3732.</td> \n",
       "</tr>\n",
       "<tr>\n",
       "  <th>Df Model:</th>              <td>     3</td>      <th>                     </th>     <td> </td>    \n",
       "</tr>\n",
       "<tr>\n",
       "  <th>Covariance Type:</th>      <td>nonrobust</td>    <th>                     </th>     <td> </td>    \n",
       "</tr>\n",
       "</table>\n",
       "<table class=\"simpletable\">\n",
       "<tr>\n",
       "        <td></td>          <th>coef</th>     <th>std err</th>      <th>t</th>      <th>P>|t|</th>  <th>[0.025</th>    <th>0.975]</th>  \n",
       "</tr>\n",
       "<tr>\n",
       "  <th>Intercept</th>    <td>    0.0060</td> <td> 5.38e-05</td> <td>  112.003</td> <td> 0.000</td> <td>    0.006</td> <td>    0.006</td>\n",
       "</tr>\n",
       "<tr>\n",
       "  <th>C(type)[T.2]</th> <td>   -0.0030</td> <td> 7.56e-05</td> <td>  -40.105</td> <td> 0.000</td> <td>   -0.003</td> <td>   -0.003</td>\n",
       "</tr>\n",
       "<tr>\n",
       "  <th>C(type)[T.3]</th> <td>   -0.0041</td> <td> 7.54e-05</td> <td>  -54.161</td> <td> 0.000</td> <td>   -0.004</td> <td>   -0.004</td>\n",
       "</tr>\n",
       "<tr>\n",
       "  <th>C(type)[T.4]</th> <td>    0.0019</td> <td> 7.75e-05</td> <td>   24.745</td> <td> 0.000</td> <td>    0.002</td> <td>    0.002</td>\n",
       "</tr>\n",
       "</table>\n",
       "<table class=\"simpletable\">\n",
       "<tr>\n",
       "  <th>Omnibus:</th>       <td> 0.584</td> <th>  Durbin-Watson:     </th> <td>   2.088</td>\n",
       "</tr>\n",
       "<tr>\n",
       "  <th>Prob(Omnibus):</th> <td> 0.747</td> <th>  Jarque-Bera (JB):  </th> <td>   0.693</td>\n",
       "</tr>\n",
       "<tr>\n",
       "  <th>Skew:</th>          <td>-0.014</td> <th>  Prob(JB):          </th> <td>   0.707</td>\n",
       "</tr>\n",
       "<tr>\n",
       "  <th>Kurtosis:</th>      <td> 2.766</td> <th>  Cond. No.          </th> <td>    4.79</td>\n",
       "</tr>\n",
       "</table><br/><br/>Notes:<br/>[1] Standard Errors assume that the covariance matrix of the errors is correctly specified."
      ],
      "text/plain": [
       "<class 'statsmodels.iolib.summary.Summary'>\n",
       "\"\"\"\n",
       "                            OLS Regression Results                            \n",
       "==============================================================================\n",
       "Dep. Variable:                defRate   R-squared:                       0.963\n",
       "Model:                            OLS   Adj. R-squared:                  0.963\n",
       "Method:                 Least Squares   F-statistic:                     2583.\n",
       "Date:                Mon, 26 Apr 2021   Prob (F-statistic):          7.22e-212\n",
       "Time:                        13:33:28   Log-Likelihood:                 1877.6\n",
       "No. Observations:                 300   AIC:                            -3747.\n",
       "Df Residuals:                     296   BIC:                            -3732.\n",
       "Df Model:                           3                                         \n",
       "Covariance Type:            nonrobust                                         \n",
       "================================================================================\n",
       "                   coef    std err          t      P>|t|      [0.025      0.975]\n",
       "--------------------------------------------------------------------------------\n",
       "Intercept        0.0060   5.38e-05    112.003      0.000       0.006       0.006\n",
       "C(type)[T.2]    -0.0030   7.56e-05    -40.105      0.000      -0.003      -0.003\n",
       "C(type)[T.3]    -0.0041   7.54e-05    -54.161      0.000      -0.004      -0.004\n",
       "C(type)[T.4]     0.0019   7.75e-05     24.745      0.000       0.002       0.002\n",
       "==============================================================================\n",
       "Omnibus:                        0.584   Durbin-Watson:                   2.088\n",
       "Prob(Omnibus):                  0.747   Jarque-Bera (JB):                0.693\n",
       "Skew:                          -0.014   Prob(JB):                        0.707\n",
       "Kurtosis:                       2.766   Cond. No.                         4.79\n",
       "==============================================================================\n",
       "\n",
       "Notes:\n",
       "[1] Standard Errors assume that the covariance matrix of the errors is correctly specified.\n",
       "\"\"\""
      ]
     },
     "execution_count": 18,
     "metadata": {},
     "output_type": "execute_result"
    }
   ],
   "source": [
    "# statsmodels 패키지를 사용하여 일원분산 분석 실시\n",
    "df_model = pd.DataFrame(df_f_oneway, columns=['defRate', 'type'])\n",
    "\n",
    "results = ols('defRate ~ C(type)', data = df_model).fit()\n",
    "results.summary()"
   ]
  },
  {
   "cell_type": "code",
   "execution_count": 19,
   "metadata": {},
   "outputs": [
    {
     "data": {
      "text/html": [
       "<div>\n",
       "<style scoped>\n",
       "    .dataframe tbody tr th:only-of-type {\n",
       "        vertical-align: middle;\n",
       "    }\n",
       "\n",
       "    .dataframe tbody tr th {\n",
       "        vertical-align: top;\n",
       "    }\n",
       "\n",
       "    .dataframe thead th {\n",
       "        text-align: right;\n",
       "    }\n",
       "</style>\n",
       "<table border=\"1\" class=\"dataframe\">\n",
       "  <thead>\n",
       "    <tr style=\"text-align: right;\">\n",
       "      <th></th>\n",
       "      <th>sum_sq</th>\n",
       "      <th>df</th>\n",
       "      <th>F</th>\n",
       "      <th>PR(&gt;F)</th>\n",
       "    </tr>\n",
       "  </thead>\n",
       "  <tbody>\n",
       "    <tr>\n",
       "      <th>C(type)</th>\n",
       "      <td>0.001684</td>\n",
       "      <td>3.0</td>\n",
       "      <td>2583.218337</td>\n",
       "      <td>7.222459e-212</td>\n",
       "    </tr>\n",
       "    <tr>\n",
       "      <th>Residual</th>\n",
       "      <td>0.000064</td>\n",
       "      <td>296.0</td>\n",
       "      <td>NaN</td>\n",
       "      <td>NaN</td>\n",
       "    </tr>\n",
       "  </tbody>\n",
       "</table>\n",
       "</div>"
      ],
      "text/plain": [
       "            sum_sq     df            F         PR(>F)\n",
       "C(type)   0.001684    3.0  2583.218337  7.222459e-212\n",
       "Residual  0.000064  296.0          NaN            NaN"
      ]
     },
     "execution_count": 19,
     "metadata": {},
     "output_type": "execute_result"
    }
   ],
   "source": [
    "# sum_sq: 편차 제곱합\n",
    "# df: 자유도\n",
    "# F: F통계량\n",
    "# PR(>F): P-value\n",
    "\n",
    "one_anova_table = sm.stats.anova_lm(results, typ=2)\n",
    "one_anova_table"
   ]
  },
  {
   "cell_type": "code",
   "execution_count": 20,
   "metadata": {},
   "outputs": [
    {
     "name": "stdout",
     "output_type": "stream",
     "text": [
      "levene result(F) : 1.731 \n",
      "p-value : 0.161\n",
      "levene result(F) : 1.749 \n",
      "p-value : 0.157\n",
      "fligner Result(F) : 5.074 \n",
      "p-value : 0.166\n",
      "bartlett Result(F) : 3.608 \n",
      "p-value : 0.307\n"
     ]
    }
   ],
   "source": [
    "# 기본 가정 중 등분산성을 검정\n",
    "# 등분산 검정 레빈(levene)\n",
    "levene = stats.levene(type1, type2, type3, type4)\n",
    "print('levene result(F) : %.3f \\np-value : %.3f' % (levene))\n",
    "\n",
    "# 분산의 동질성 검정 기준 - default : 'median'. 'mean' 으로 변경 할 경우 다음과 같이 mean 으로 설정\n",
    "levene = stats.levene(type1, type2, type3, type4, center = 'mean')\n",
    "print('levene result(F) : %.3f \\np-value : %.3f' % (levene))\n",
    "\n",
    "# 등분산 검정 플리그너(fligner) \n",
    "fligner = stats.fligner(type1, type2, type3, type4)\n",
    "print('fligner Result(F) : %.3f \\np-value : %.3f' % (fligner))\n",
    "\n",
    "# 등분산 검정 바틀렛(bartlett)\n",
    "bartlett = stats.bartlett(type1, type2, type3, type4)\n",
    "print('bartlett Result(F) : %.3f \\np-value : %.3f' % (bartlett))"
   ]
  },
  {
   "cell_type": "code",
   "execution_count": 21,
   "metadata": {},
   "outputs": [
    {
     "data": {
      "text/html": [
       "<table class=\"simpletable\">\n",
       "<caption>Multiple Comparison of Means - Tukey HSD, FWER=0.05</caption>\n",
       "<tr>\n",
       "  <th>group1</th> <th>group2</th> <th>meandiff</th> <th>p-adj</th>  <th>lower</th>   <th>upper</th>  <th>reject</th>\n",
       "</tr>\n",
       "<tr>\n",
       "     <td>1</td>      <td>2</td>    <td>-0.003</td>  <td>0.001</td> <td>-0.0032</td> <td>-0.0028</td>  <td>True</td> \n",
       "</tr>\n",
       "<tr>\n",
       "     <td>1</td>      <td>3</td>    <td>-0.0041</td> <td>0.001</td> <td>-0.0043</td> <td>-0.0039</td>  <td>True</td> \n",
       "</tr>\n",
       "<tr>\n",
       "     <td>1</td>      <td>4</td>    <td>0.0019</td>  <td>0.001</td> <td>0.0017</td>  <td>0.0021</td>   <td>True</td> \n",
       "</tr>\n",
       "<tr>\n",
       "     <td>2</td>      <td>3</td>    <td>-0.0011</td> <td>0.001</td> <td>-0.0012</td> <td>-0.0009</td>  <td>True</td> \n",
       "</tr>\n",
       "<tr>\n",
       "     <td>2</td>      <td>4</td>     <td>0.005</td>  <td>0.001</td> <td>0.0048</td>  <td>0.0051</td>   <td>True</td> \n",
       "</tr>\n",
       "<tr>\n",
       "     <td>3</td>      <td>4</td>     <td>0.006</td>  <td>0.001</td> <td>0.0058</td>  <td>0.0062</td>   <td>True</td> \n",
       "</tr>\n",
       "</table>"
      ],
      "text/plain": [
       "<class 'statsmodels.iolib.table.SimpleTable'>"
      ]
     },
     "execution_count": 21,
     "metadata": {},
     "output_type": "execute_result"
    }
   ],
   "source": [
    "# reject: True인 경우, type1과 type2의 불량률의 차이가 없다는 귀무가설을 기각\n",
    "from statsmodels.stats.multicomp import pairwise_tukeyhsd\n",
    "\n",
    "posthoc = pairwise_tukeyhsd(df_f_oneway['defRate'], df_f_oneway['type'], alpha=0.05)\n",
    "posthoc.summary()"
   ]
  },
  {
   "cell_type": "code",
   "execution_count": 22,
   "metadata": {},
   "outputs": [
    {
     "data": {
      "text/html": [
       "<div>\n",
       "<style scoped>\n",
       "    .dataframe tbody tr th:only-of-type {\n",
       "        vertical-align: middle;\n",
       "    }\n",
       "\n",
       "    .dataframe tbody tr th {\n",
       "        vertical-align: top;\n",
       "    }\n",
       "\n",
       "    .dataframe thead th {\n",
       "        text-align: right;\n",
       "    }\n",
       "</style>\n",
       "<table border=\"1\" class=\"dataframe\">\n",
       "  <thead>\n",
       "    <tr style=\"text-align: right;\">\n",
       "      <th></th>\n",
       "      <th>mean</th>\n",
       "    </tr>\n",
       "    <tr>\n",
       "      <th>type</th>\n",
       "      <th></th>\n",
       "    </tr>\n",
       "  </thead>\n",
       "  <tbody>\n",
       "    <tr>\n",
       "      <th>1</th>\n",
       "      <td>0.006029</td>\n",
       "    </tr>\n",
       "    <tr>\n",
       "      <th>2</th>\n",
       "      <td>0.002996</td>\n",
       "    </tr>\n",
       "    <tr>\n",
       "      <th>3</th>\n",
       "      <td>0.001946</td>\n",
       "    </tr>\n",
       "    <tr>\n",
       "      <th>4</th>\n",
       "      <td>0.007946</td>\n",
       "    </tr>\n",
       "  </tbody>\n",
       "</table>\n",
       "</div>"
      ],
      "text/plain": [
       "          mean\n",
       "type          \n",
       "1     0.006029\n",
       "2     0.002996\n",
       "3     0.001946\n",
       "4     0.007946"
      ]
     },
     "execution_count": 22,
     "metadata": {},
     "output_type": "execute_result"
    }
   ],
   "source": [
    "df_desc_stat[['mean']]"
   ]
  }
 ],
 "metadata": {
  "kernelspec": {
   "display_name": "Python 3",
   "language": "python",
   "name": "python3"
  },
  "language_info": {
   "codemirror_mode": {
    "name": "ipython",
    "version": 3
   },
   "file_extension": ".py",
   "mimetype": "text/x-python",
   "name": "python",
   "nbconvert_exporter": "python",
   "pygments_lexer": "ipython3",
   "version": "3.7.10"
  },
  "toc": {
   "base_numbering": 1,
   "nav_menu": {},
   "number_sections": true,
   "sideBar": true,
   "skip_h1_title": false,
   "title_cell": "Table of Contents",
   "title_sidebar": "Contents",
   "toc_cell": false,
   "toc_position": {},
   "toc_section_display": true,
   "toc_window_display": false
  },
  "varInspector": {
   "cols": {
    "lenName": 16,
    "lenType": 16,
    "lenVar": 40
   },
   "kernels_config": {
    "python": {
     "delete_cmd_postfix": "",
     "delete_cmd_prefix": "del ",
     "library": "var_list.py",
     "varRefreshCmd": "print(var_dic_list())"
    },
    "r": {
     "delete_cmd_postfix": ") ",
     "delete_cmd_prefix": "rm(",
     "library": "var_list.r",
     "varRefreshCmd": "cat(var_dic_list()) "
    }
   },
   "types_to_exclude": [
    "module",
    "function",
    "builtin_function_or_method",
    "instance",
    "_Feature"
   ],
   "window_display": false
  }
 },
 "nbformat": 4,
 "nbformat_minor": 2
}
