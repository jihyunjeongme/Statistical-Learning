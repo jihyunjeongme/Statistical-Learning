{
 "cells": [
  {
   "cell_type": "markdown",
   "metadata": {},
   "source": [
    "## ndarray 생성하기 출력"
   ]
  },
  {
   "cell_type": "code",
   "execution_count": 1,
   "metadata": {},
   "outputs": [
    {
     "name": "stdout",
     "output_type": "stream",
     "text": [
      "vector_1:  [1 2 3 4 5]\n",
      "matrix_1:  [[1 2 3]\n",
      " [4 5 6]]\n",
      "matrix_2:  [[1. 2. 3.]\n",
      " [4. 5. 6.]]\n",
      "matrix_3:  [[1 2 3]\n",
      " [4 5 6]\n",
      " [7 8 9]]\n"
     ]
    }
   ],
   "source": [
    "# numpy 모듈을 옵니다.\n",
    "import numpy as np\n",
    "\n",
    "# 1차원 형태 / 벡터(Vector)\n",
    "data_1 = [1, 2, 3, 4, 5]\n",
    "\n",
    "# 2차원 형태 / 행렬(Matrix)\n",
    "data_2 = [[1, 2, 3], \n",
    "          [4, 5, 6]]\n",
    "\n",
    "data_3 = [[1., 2, 3.0], \n",
    "          [4, 5.0, 6]]\n",
    "\n",
    "vector_1 = np.array(data_1)\n",
    "matrix_1 = np.array(data_2)\n",
    "matrix_2 = np.array(data_3)\n",
    "\n",
    "matrix_3 = np.array([[1, 2, 3], \n",
    "                     [4, 5, 6], \n",
    "                     [7 ,8, 9]])\n",
    "\n",
    "print(\"vector_1: \", vector_1)\n",
    "print(\"matrix_1: \", matrix_1)\n",
    "print(\"matrix_2: \", matrix_2)\n",
    "print(\"matrix_3: \", matrix_3)"
   ]
  },
  {
   "cell_type": "markdown",
   "metadata": {},
   "source": [
    "## ndarray - 배열 생성 함수들 출력"
   ]
  },
  {
   "cell_type": "code",
   "execution_count": 2,
   "metadata": {},
   "outputs": [
    {
     "name": "stdout",
     "output_type": "stream",
     "text": [
      "1) np.zeros(5):  [0. 0. 0. 0. 0.]\n",
      "2) np.zeors((2,5)):  [[0. 0. 0. 0. 0.]\n",
      " [0. 0. 0. 0. 0.]]\n",
      "3) np.ones(5):  [1. 1. 1. 1. 1.]\n",
      "4) np.empty((2,2,3)) : [[[2.68156159e+154 2.68156159e+154 6.92988821e-310]\n",
      "  [6.92988275e-310 6.92988791e-310 0.00000000e+000]]\n",
      "\n",
      " [[6.92988467e-310 0.00000000e+000 0.00000000e+000]\n",
      "  [4.94065646e-324 0.00000000e+000 6.36598738e-314]]]\n",
      "5) np.arange(5) : [0 1 2 3 4]\n",
      "6) np.full((3, 3),7): \n",
      " [[7 7 7]\n",
      " [7 7 7]\n",
      " [7 7 7]]\n"
     ]
    }
   ],
   "source": [
    "print(\"1) np.zeros(5): \", np.zeros(5))\n",
    "print(\"2) np.zeors((2,5)): \", np.zeros((2,5)))\n",
    "print(\"3) np.ones(5): \", np.ones(5))\n",
    "print(\"4) np.empty((2,2,3)) :\", np.empty((2, 2, 3 ))) # empty 함수는 크기만 지정한 후 임의의 값이 채워진다.\n",
    "print(\"5) np.arange(5) :\", np.arange(5))\n",
    "print(\"6) np.full((3, 3),7): \\n\", np.full((3, 3),7)) # full 함수는 특정 값으로 배열 크기와 매개변수를 채울 수 있댜."
   ]
  },
  {
   "cell_type": "markdown",
   "metadata": {},
   "source": [
    "## ndarray - 정보 확인 출력"
   ]
  },
  {
   "cell_type": "code",
   "execution_count": 3,
   "metadata": {
    "scrolled": true
   },
   "outputs": [
    {
     "name": "stdout",
     "output_type": "stream",
     "text": [
      "<class 'numpy.ndarray'>\n",
      "int64\n",
      "int64\n",
      "float64\n",
      "int64\n",
      "1\n",
      "2\n",
      "2\n",
      "2\n",
      "(5,)\n",
      "(2, 3)\n",
      "(2, 3)\n",
      "(3, 3)\n",
      "5\n",
      "6\n",
      "6\n",
      "9\n"
     ]
    }
   ],
   "source": [
    "# 내장 type 함수를 통해 ndarray type 확인\n",
    "print(type(vector_1))\n",
    "\n",
    "# dtype: 타입을 알려줍니다.\n",
    "print(vector_1.dtype)\n",
    "print(matrix_1.dtype)\n",
    "print(matrix_2.dtype)\n",
    "print(matrix_3.dtype)\n",
    "\n",
    "# ndim: 차원을 알려줍니다.\n",
    "print(vector_1.ndim)\n",
    "print(matrix_1.ndim)\n",
    "print(matrix_2.ndim)\n",
    "print(matrix_3.ndim)\n",
    "\n",
    "# shape: 행렬의 크기를 알려줍니다.\n",
    "print(vector_1.shape)\n",
    "print(matrix_1.shape)\n",
    "print(matrix_2.shape)\n",
    "print(matrix_3.shape)\n",
    "\n",
    "# size: 행렬의 개수를 알려줍니다. \n",
    "print(vector_1.size)\n",
    "print(matrix_1.size)\n",
    "print(matrix_2.size)\n",
    "print(matrix_3.size)"
   ]
  },
  {
   "cell_type": "markdown",
   "metadata": {},
   "source": [
    "## ndarray - dtype 함수 출력"
   ]
  },
  {
   "cell_type": "code",
   "execution_count": 4,
   "metadata": {},
   "outputs": [
    {
     "name": "stdout",
     "output_type": "stream",
     "text": [
      "vec_dtype:  int64 [1 2 3 4 5]\n",
      "matrix_dtype:  float64 [[1. 2. 3.]\n",
      " [4. 5. 6.]]\n"
     ]
    }
   ],
   "source": [
    "vec_dtype = np.array([1, 2, 3, 4, 5], dtype=np.int64)\n",
    "matrix_dtype = np.array([[1,2,3],\n",
    "                        [4,5,6]], dtype=np.float64)\n",
    "\n",
    "print(\"vec_dtype: \", vec_dtype.dtype, vec_dtype, )\n",
    "print(\"matrix_dtype: \", matrix_dtype.dtype, matrix_dtype)"
   ]
  },
  {
   "cell_type": "markdown",
   "metadata": {},
   "source": [
    "## ndaaray - astype 함수 출력"
   ]
  },
  {
   "cell_type": "code",
   "execution_count": 5,
   "metadata": {},
   "outputs": [
    {
     "name": "stdout",
     "output_type": "stream",
     "text": [
      "float64 :  [1.3 2.3 3.2 4.9 5.1]\n",
      "int64 :  [1 2 3 4 5]\n",
      "|S4 :  [b'1.37' b'-7.3' b'3.14' b'7.79']\n",
      "float64 :  [ 1.37 -7.3   3.14  7.79]\n"
     ]
    }
   ],
   "source": [
    "# 부동소수점 to 정수형\n",
    "arr_float_1 = np.array([1.3, 2.3, 3.2, 4.9, 5.1], dtype=np.float64)\n",
    "print(arr_float_1.dtype, \": \", arr_float_1)\n",
    "arr_int = arr_float_1.astype(np.int64)\n",
    "print(arr_int.dtype, \": \", arr_int)\n",
    "\n",
    "# 문자열 to 부동소수점\n",
    "arr_str = np.array([\"1.37\", \"-7.3\", \"3.14\", \"7.79\"], dtype=np.string_)\n",
    "print(arr_str.dtype, \": \", arr_str)\n",
    "# astype(float)으로 줄 경우 파이썬이 적절한 타입으로 정해준다.\n",
    "arr_float_2 = arr_str.astype(float)\n",
    "print(arr_float_2.dtype, \": \", arr_float_2)"
   ]
  },
  {
   "cell_type": "markdown",
   "metadata": {},
   "source": [
    "## 인덱싱(Indexing)출력"
   ]
  },
  {
   "cell_type": "code",
   "execution_count": 6,
   "metadata": {},
   "outputs": [
    {
     "name": "stdout",
     "output_type": "stream",
     "text": [
      "vector_1[1]:  2\n",
      "vector_1[-1]:  5\n",
      "matrix_2[1, 1]:  7\n",
      "matrix_2[2, -1]:  15\n"
     ]
    }
   ],
   "source": [
    "# numpy 모듈을 옵니다.\n",
    "import numpy as np\n",
    "\n",
    "# 1차원 형태\n",
    "vector_1 = np.array([1, 2, 3, 4, 5])\n",
    "\n",
    "# 2차원 형태\n",
    "matrix_2 = np.array([[1, 2, 3, 4, 5], \n",
    "                     [6, 7, 8, 9, 10], \n",
    "                     [11, 12, 13, 14, 15], \n",
    "                     [16, 17, 18, 19, 20], \n",
    "                     [21, 22, 23, 24, 25]]) \n",
    "                     \n",
    "# 1차원 형태 - 인덱싱\n",
    "print(\"vector_1[1]: \", vector_1[1])\n",
    "print(\"vector_1[-1]: \", vector_1[-1])   \n",
    "\n",
    "# 2차원 형태 - 인덱싱\n",
    "print(\"matrix_2[1, 1]: \", matrix_2[1, 1])\n",
    "print(\"matrix_2[2, -1]: \", matrix_2[2, -1])"
   ]
  },
  {
   "cell_type": "markdown",
   "metadata": {},
   "source": [
    "## 슬라이싱(Slicing) - 1차원 출력"
   ]
  },
  {
   "cell_type": "code",
   "execution_count": 7,
   "metadata": {},
   "outputs": [
    {
     "name": "stdout",
     "output_type": "stream",
     "text": [
      "[1 2 3 4 5]\n",
      "[1 2 3 4]\n",
      "[2 3]\n",
      "[3 4 5]\n",
      "[3 4]\n"
     ]
    }
   ],
   "source": [
    "# numpy 모듈을 옵니다.\n",
    "import numpy as np\n",
    "\n",
    "# 1차원 형태\n",
    "vector = np.array([1, 2, 3, 4, 5])\n",
    "\n",
    "print(vector[:])\n",
    "print(vector[:4])\n",
    "print(vector[1:3])\n",
    "print(vector[2:])\n",
    "print(vector[2:-1])"
   ]
  },
  {
   "cell_type": "markdown",
   "metadata": {},
   "source": [
    "## 슬라이싱(Slicing) - 2차원 출력"
   ]
  },
  {
   "cell_type": "code",
   "execution_count": 8,
   "metadata": {},
   "outputs": [
    {
     "name": "stdout",
     "output_type": "stream",
     "text": [
      "[[ 4  5]\n",
      " [ 9 10]] (2, 2)\n",
      "[21 22 23 24 25] (5,)\n",
      "[21 22 23 24 25] (5,)\n",
      "[[21 22 23 24 25]] (1, 5)\n",
      "[[ 1  2]\n",
      " [ 6  7]\n",
      " [11 12]\n",
      " [16 17]\n",
      " [21 22]] (5, 2)\n",
      "[6 7] (2,)\n",
      "[[6 7]] (1, 2)\n"
     ]
    }
   ],
   "source": [
    "# numpy 모듈을 옵니다.\n",
    "import numpy as np\n",
    "\n",
    "# 2차원 형태\n",
    "matrix = np.array([[1, 2, 3, 4, 5], \n",
    "                     [6, 7, 8, 9, 10], \n",
    "                     [11, 12, 13, 14, 15], \n",
    "                     [16, 17, 18, 19, 20], \n",
    "                     [21, 22, 23, 24, 25]]) \n",
    "\n",
    "print(matrix[:2, 3:], matrix[:2, 3:].shape)\n",
    "\n",
    "print(matrix[4], matrix[4].shape)\n",
    "print(matrix[4, :], matrix[4, :].shape)\n",
    "print(matrix[4:,:], matrix[4:,:].shape)\n",
    "\n",
    "print(matrix[:, :2], matrix[:, :2].shape)\n",
    "\n",
    "print(matrix[1, :2], matrix[1, :2].shape)\n",
    "print(matrix[1:2, :2], matrix[1:2, :2].shape)"
   ]
  },
  {
   "cell_type": "markdown",
   "metadata": {},
   "source": [
    "## 통계 및 수학 함수 출력"
   ]
  },
  {
   "cell_type": "code",
   "execution_count": 9,
   "metadata": {},
   "outputs": [
    {
     "name": "stdout",
     "output_type": "stream",
     "text": [
      "합 : 45\n",
      "합 : 45\n",
      "평균:  5.0\n",
      "평균:  5.0\n",
      "표준편차 : 2.581988897471611\n",
      "분산:  6.666666666666667\n",
      "최대값:  9\n",
      "최소값:  1\n",
      "열에서 최대값 : [7 8 9]\n",
      "열에서 최소값 : [1 2 3]\n",
      "열에서 평균값 : [4. 5. 6.]\n",
      "행에서 최대값 : [3 6 9]\n",
      "행에서 최소값 : [1 4 7]\n",
      "행에서 평균값 : [2. 5. 8.]\n"
     ]
    }
   ],
   "source": [
    "# 2차원 형태\n",
    "matrix = np.array([[1, 2, 3], \n",
    "                   [4, 5, 6], \n",
    "                   [7, 8, 9]])\n",
    "\n",
    "print(\"합 :\",  np.sum(matrix))    # 합\n",
    "print(\"합 :\", matrix.sum())       # 합\n",
    "print(\"평균: \", matrix.mean())     # 평균\n",
    "print(\"평균: \", np.mean(matrix))   # 평균\n",
    "print(\"표준편차 :\", np.std(matrix)) # 표준 편차\n",
    "print(\"분산: \", np.var(matrix))    # 분산 \n",
    "print(\"최대값: \", np.max(matrix))   # 최대값\n",
    "print(\"최소값: \", np.min(matrix))   # 최소값\n",
    "\n",
    "# 열과 행에서 최대값, 최솟값 찾을 경우\n",
    "# 열에서 찾기\n",
    "print(\"열에서 최대값 :\", np.max(matrix, axis=0))  # 열에서 최대값\n",
    "print(\"열에서 최소값 :\", np.min(matrix, axis=0))  # 열에서 최소값\n",
    "print(\"열에서 평균값 :\", np.mean(matrix, axis=0)) # 열에서 평균값\n",
    "\n",
    "# 행에서 찾기\n",
    "print(\"행에서 최대값 :\", np.max(matrix, axis=1))  # 행에서 최대값\n",
    "print(\"행에서 최소값 :\", np.min(matrix, axis=1))  # 행에서 최소값\n",
    "print(\"행에서 평균값 :\", np.mean(matrix, axis=1)) # 행에서 평균값"
   ]
  },
  {
   "cell_type": "markdown",
   "metadata": {},
   "source": [
    "## 난수 생성 함수들 출력"
   ]
  },
  {
   "cell_type": "code",
   "execution_count": 10,
   "metadata": {},
   "outputs": [
    {
     "name": "stdout",
     "output_type": "stream",
     "text": [
      "0과 1.0 사이에서 10개의 실수 난수 생성:  [0.5488135  0.71518937 0.60276338 0.54488318 0.4236548  0.64589411\n",
      " 0.43758721 0.891773   0.96366276 0.38344152]\n",
      "1부터 45 사이에 6개 정수를 생성합니다. (로또 와 동일):  [38 39 23 24 17 37]\n",
      "평균이 0.0 이고 표준편차가 1.0인 정규분포에서 5개의 수를 뽑음:  [-0.470771    0.973016   -1.27814912  1.43737068 -0.07770457]\n",
      "1.0 보다 크고 5.0 보다 작은 5개의 수를 뽑습니다. :  [4.20364301 3.08190992 3.71551812 3.88253062 3.32807917]\n",
      "0.0 ~ 1.0 사이 3개의 실수를 랜덤으로 생성합니다.(random_sample) : \n",
      " [[0.53737323 0.75861562 0.10590761]\n",
      " [0.47360042 0.18633234 0.73691818]\n",
      " [0.21655035 0.13521817 0.32414101]]\n",
      "0.0 ~ 1.0 사이 3개의 실수를 랜덤으로 생성합니다.(uniform) : \n",
      " [[0.14967487 0.22232139 0.38648898]\n",
      " [0.90259848 0.44994999 0.61306346]\n",
      " [0.90234858 0.09928035 0.96980907]]\n",
      "0.0 ~ 1.0 사이 3개의 실수를 랜덤으로 생성합니다.(rand) : \n",
      " [[0.65314004 0.17090959 0.35815217]\n",
      " [0.75068614 0.60783067 0.32504723]\n",
      " [0.03842543 0.63427406 0.95894927]]\n",
      "정규분포의 난수 생성(평균이 0이고 표준편차가 1인 난수 생성,standard_normal) : \n",
      " [[ 1.08963016  1.25441407  1.41910204]\n",
      " [-0.74385608 -2.5174371  -1.50709602]\n",
      " [ 1.14907613 -1.19357825  1.14104245]]\n",
      "정규분포의 난수 생성(평균이 0이고 표준편차가 1인 난수 생성,normal) : \n",
      " [[ 1.50944508  1.06777513 -0.68658948]\n",
      " [ 0.01487332 -0.3756659  -0.03822364]\n",
      " [ 0.36797447 -0.0447237  -0.30237513]]\n",
      "정규분포의 난수 생성(평균이 0이고 표준편차가 1인 난수 생성,randn) : \n",
      " [[-2.2244036   0.72400636  0.35900276]\n",
      " [ 1.07612104  0.19214083  0.85292596]\n",
      " [ 0.01835718  0.42830357  0.99627783]]\n",
      "1 ~ 3 사이에서 랜덤하게 샘플을 선택합니다. :  [3 1 3]\n",
      "shuffle 함수로 무작위로 섞음:  [1, 2, 5, 3, 4]\n"
     ]
    }
   ],
   "source": [
    "# 난수 생성\n",
    "# 초기값 설정\n",
    "np.random.seed(0)\n",
    "\n",
    "print(\"0과 1.0 사이에서 10개의 실수 난수 생성: \", np.random.random(10))\n",
    "print(\"1부터 45 사이에 6개 정수를 생성합니다. (로또 와 동일): \", np.random.randint(0, 46, 6))\n",
    "print(\"평균이 0.0 이고 표준편차가 1.0인 정규분포에서 5개의 수를 뽑음: \", np.random.normal(0.0, 1.0, 5))\n",
    "print(\"1.0 보다 크고 5.0 보다 작은 5개의 수를 뽑습니다. : \", np.random.uniform(1.0, 5.0, 5))\n",
    "\n",
    "print(\"0.0 ~ 1.0 사이 3개의 실수를 랜덤으로 생성합니다.(random_sample) : \\n\", np.random.random_sample((3,3)))\n",
    "print(\"0.0 ~ 1.0 사이 3개의 실수를 랜덤으로 생성합니다.(uniform) : \\n\", np.random.uniform(0.0, 1.0, (3,3)))\n",
    "print(\"0.0 ~ 1.0 사이 3개의 실수를 랜덤으로 생성합니다.(rand) : \\n\", np.random.rand(3,3))\n",
    "\n",
    "print(\"정규분포의 난수 생성(평균이 0이고 표준편차가 1인 난수 생성,standard_normal) : \\n\", np.random.standard_normal((3,3)))\n",
    "print(\"정규분포의 난수 생성(평균이 0이고 표준편차가 1인 난수 생성,normal) : \\n\", np.random.normal(0.0, 1.0,(3,3)))\n",
    "print(\"정규분포의 난수 생성(평균이 0이고 표준편차가 1인 난수 생성,randn) : \\n\", np.random.randn(3,3))\n",
    "\n",
    "print(\"1 ~ 3 사이에서 랜덤하게 샘플을 선택합니다. : \", np.random.choice([1,2,3], 3))\n",
    "\n",
    "# shuffle 함수는 배열을 무작위로 섞는다.\n",
    "vector = [1,2,3,4,5]\n",
    "np.random.shuffle(vector)\n",
    "print(\"shuffle 함수로 무작위로 섞음: \", vector)"
   ]
  },
  {
   "cell_type": "markdown",
   "metadata": {},
   "source": [
    "## 정렬 - sort() 출력"
   ]
  },
  {
   "cell_type": "code",
   "execution_count": 11,
   "metadata": {},
   "outputs": [
    {
     "name": "stdout",
     "output_type": "stream",
     "text": [
      "1차원 배열 sort() 정렬 전:  [ 1.62434536 -0.61175641 -0.52817175 -1.07296862  0.86540763]\n",
      "1차원 배열 sort() 정렬 후:  [-1.07296862 -0.61175641 -0.52817175  0.86540763  1.62434536]\n",
      "2차원 배열 sort() 정렬 전: \n",
      " [[-2.3015387   1.74481176 -0.7612069   0.3190391  -0.24937038]\n",
      " [ 1.46210794 -2.06014071 -0.3224172  -0.38405435  1.13376944]\n",
      " [-1.09989127 -0.17242821 -0.87785842  0.04221375  0.58281521]\n",
      " [-1.10061918  1.14472371  0.90159072  0.50249434  0.90085595]\n",
      " [-0.68372786 -0.12289023 -0.93576943 -0.26788808  0.53035547]]\n",
      "2차원 배열 sort() 정렬 후: \n",
      " [[-2.3015387  -0.7612069  -0.24937038  0.3190391   1.74481176]\n",
      " [-2.06014071 -0.38405435 -0.3224172   1.13376944  1.46210794]\n",
      " [-1.09989127 -0.87785842 -0.17242821  0.04221375  0.58281521]\n",
      " [-1.10061918  0.50249434  0.90085595  0.90159072  1.14472371]\n",
      " [-0.93576943 -0.68372786 -0.26788808 -0.12289023  0.53035547]]\n",
      "2차원 배열 axis=0 축 기준 정렬 전: \n",
      " [[-0.69166075 -0.39675353 -0.6871727  -0.84520564 -0.67124613]\n",
      " [-0.0126646  -1.11731035  0.2344157   1.65980218  0.74204416]\n",
      " [-0.19183555 -0.88762896 -0.74715829  1.6924546   0.05080775]\n",
      " [-0.63699565  0.19091548  2.10025514  0.12015895  0.61720311]\n",
      " [ 0.30017032 -0.35224985 -1.1425182  -0.34934272 -0.20889423]]\n",
      "2차원 배열 axis=0 축 기준 정렬 후: \n",
      " [[-0.69166075 -1.11731035 -1.1425182  -0.84520564 -0.67124613]\n",
      " [-0.63699565 -0.88762896 -0.74715829 -0.34934272 -0.20889423]\n",
      " [-0.19183555 -0.39675353 -0.6871727   0.12015895  0.05080775]\n",
      " [-0.0126646  -0.35224985  0.2344157   1.65980218  0.61720311]\n",
      " [ 0.30017032  0.19091548  2.10025514  1.6924546   0.74204416]]\n",
      "2차원 배열 axis=1 축 기준 정렬 전: \n",
      " [[ 0.58662319  0.83898341  0.93110208  0.28558733  0.88514116]\n",
      " [-0.75439794  1.25286816  0.51292982 -0.29809284  0.48851815]\n",
      " [-0.07557171  1.13162939  1.51981682  2.18557541 -1.39649634]\n",
      " [-1.44411381 -0.50446586  0.16003707  0.87616892  0.31563495]\n",
      " [-2.02220122 -0.30620401  0.82797464  0.23009474  0.76201118]]\n",
      "2차원 배열 axis=1 축 기준 정렬 후: \n",
      " [[ 0.28558733  0.58662319  0.83898341  0.88514116  0.93110208]\n",
      " [-0.75439794 -0.29809284  0.48851815  0.51292982  1.25286816]\n",
      " [-1.39649634 -0.07557171  1.13162939  1.51981682  2.18557541]\n",
      " [-1.44411381 -0.50446586  0.16003707  0.31563495  0.87616892]\n",
      " [-2.02220122 -0.30620401  0.23009474  0.76201118  0.82797464]]\n",
      "2차원 배열 첫 번째 행만 정렬 전: \n",
      " [[-0.22232814 -0.20075807  0.18656139  0.41005165  0.19829972]\n",
      " [ 0.11900865 -0.67066229  0.37756379  0.12182127  1.12948391]\n",
      " [ 1.19891788  0.18515642 -0.37528495 -0.63873041  0.42349435]\n",
      " [ 0.07734007 -0.34385368  0.04359686 -0.62000084  0.69803203]\n",
      " [-0.44712856  1.2245077   0.40349164  0.59357852 -1.09491185]]\n",
      "2차원 배열 첫 번째 행만 정렬 후: \n",
      " [[-0.44712856 -0.20075807  0.18656139  0.41005165  0.19829972]\n",
      " [-0.22232814 -0.67066229  0.37756379  0.12182127  1.12948391]\n",
      " [ 0.07734007  0.18515642 -0.37528495 -0.63873041  0.42349435]\n",
      " [ 0.11900865 -0.34385368  0.04359686 -0.62000084  0.69803203]\n",
      " [ 1.19891788  1.2245077   0.40349164  0.59357852 -1.09491185]]\n"
     ]
    }
   ],
   "source": [
    "# 난수 생성기의 시드값에 따라 정해진 난수를 생성\n",
    "np.random.seed(1)\n",
    "\n",
    "# 표준편차가 1이, 평균값이 0인 정규분포에서 랜덤으로 숫자를 결정\n",
    "# 1차원\n",
    "vector = np.random.randn(5)\n",
    "\n",
    "print(\"1차원 배열 sort() 정렬 전: \", vector)\n",
    "vector.sort()\n",
    "print(\"1차원 배열 sort() 정렬 후: \", vector)\n",
    "\n",
    "# 2차원\n",
    "matrix_1 = np.random.randn(5, 5)\n",
    "print(\"2차원 배열 sort() 정렬 전: \\n\", matrix_1)\n",
    "matrix_1.sort()\n",
    "print(\"2차원 배열 sort() 정렬 후: \\n\", matrix_1)\n",
    "\n",
    "# 특정 축을 기준으로 정렬\n",
    "matrix_2 = np.random.randn(5, 5)\n",
    "print(\"2차원 배열 axis=0 축 기준 정렬 전: \\n\", matrix_2)\n",
    "matrix_2.sort(axis=0)\n",
    "print(\"2차원 배열 axis=0 축 기준 정렬 후: \\n\", matrix_2)\n",
    "\n",
    "matrix_3 = np.random.randn(5, 5)\n",
    "print(\"2차원 배열 axis=1 축 기준 정렬 전: \\n\", matrix_3)\n",
    "matrix_3.sort(axis=1)\n",
    "print(\"2차원 배열 axis=1 축 기준 정렬 후: \\n\", matrix_3)\n",
    "\n",
    "# 첫 번째 행만 정렬\n",
    "matrix_4 = np.random.randn(5, 5)\n",
    "print(\"2차원 배열 첫 번째 행만 정렬 전: \\n\", matrix_4)\n",
    "matrix_4[:,0].sort()\n",
    "print(\"2차원 배열 첫 번째 행만 정렬 후: \\n\", matrix_4)"
   ]
  },
  {
   "cell_type": "markdown",
   "metadata": {},
   "source": [
    "## 정렬 - argsort()출력"
   ]
  },
  {
   "cell_type": "code",
   "execution_count": 12,
   "metadata": {},
   "outputs": [
    {
     "name": "stdout",
     "output_type": "stream",
     "text": [
      "랜덤으로 생성된 2차원 배열: \n",
      " [[-0.41675785 -0.05626683 -2.1361961   1.64027081 -1.79343559]\n",
      " [-0.84174737  0.50288142 -1.24528809 -1.05795222 -0.90900761]\n",
      " [ 0.55145404  2.29220801  0.04153939 -1.11792545  0.53905832]\n",
      " [-0.5961597  -0.0191305   1.17500122 -0.74787095  0.00902525]\n",
      " [-0.87810789 -0.15643417  0.25657045 -0.98877905 -0.33882197]]\n",
      "matrix 배열에 첫번째 열에 vector 배열의 요소값 대입: \n",
      " [[ 5.          3.          1.          2.          4.        ]\n",
      " [-0.84174737  0.50288142 -1.24528809 -1.05795222 -0.90900761]\n",
      " [ 0.55145404  2.29220801  0.04153939 -1.11792545  0.53905832]\n",
      " [-0.5961597  -0.0191305   1.17500122 -0.74787095  0.00902525]\n",
      " [-0.87810789 -0.15643417  0.25657045 -0.98877905 -0.33882197]]\n",
      "argsort()로 정렬 된 배열: \n",
      " [[ 1.          2.          3.          4.          5.        ]\n",
      " [-1.24528809 -1.05795222  0.50288142 -0.90900761 -0.84174737]\n",
      " [ 0.04153939 -1.11792545  2.29220801  0.53905832  0.55145404]\n",
      " [ 1.17500122 -0.74787095 -0.0191305   0.00902525 -0.5961597 ]\n",
      " [ 0.25657045 -0.98877905 -0.15643417 -0.33882197 -0.87810789]]\n"
     ]
    }
   ],
   "source": [
    "np.random.seed(2)\n",
    "\n",
    "# 2차원 배열을 생성합니다.\n",
    "matrix = np.random.randn(5, 5)\n",
    "print(\"랜덤으로 생성된 2차원 배열: \\n\", matrix)\n",
    "\n",
    "# 기준이 되는 1차원 배열을 생성합니다.\n",
    "vector = np.array([5, 3, 1, 2, 4])\n",
    "\n",
    "# matrix 배열에 첫번째 열에 vector 배열의 요소값을 넣어줍니다.\n",
    "matrix[0] = vector\n",
    "print(\"matrix 배열에 첫번째 열에 vector 배열의 요소값 대입: \\n\", matrix)\n",
    "print(\"argsort()로 정렬 된 배열: \\n\", matrix[:, matrix[0].argsort()])"
   ]
  },
  {
   "cell_type": "markdown",
   "metadata": {},
   "source": [
    "## 배열의 크기 바꾸기 reshape()출력"
   ]
  },
  {
   "cell_type": "code",
   "execution_count": 13,
   "metadata": {},
   "outputs": [
    {
     "name": "stdout",
     "output_type": "stream",
     "text": [
      "matrix.shape:  (5, 4)\n",
      "matrix.reshape(2,10): \n",
      " [[ 1  2  3  4  5  6  7  8  9 10]\n",
      " [11 12 13 14 15 16 17 18 19 20]]\n",
      "matrix.size:  20\n",
      "reshape(1, -1): \n",
      " [[ 1  2  3  4  5  6  7  8  9 10 11 12 13 14 15 16 17 18 19 20]]\n",
      "reshape(2, -1): \n",
      " [[ 1  2  3  4  5  6  7  8  9 10]\n",
      " [11 12 13 14 15 16 17 18 19 20]]\n",
      "reshape(4, -1): \n",
      " [[ 1  2  3  4  5]\n",
      " [ 6  7  8  9 10]\n",
      " [11 12 13 14 15]\n",
      " [16 17 18 19 20]]\n",
      "reshape(5, -1): \n",
      " [[ 1  2  3  4]\n",
      " [ 5  6  7  8]\n",
      " [ 9 10 11 12]\n",
      " [13 14 15 16]\n",
      " [17 18 19 20]]\n",
      "reshape(-1): \n",
      " [ 1  2  3  4  5  6  7  8  9 10 11 12 13 14 15 16 17 18 19 20]\n"
     ]
    }
   ],
   "source": [
    "# (5 , 4)\n",
    "data = [[1, 2, 3, 4], \n",
    "        [5, 6, 7, 8], \n",
    "        [9 ,10, 11, 12],\n",
    "        [13, 14, 15, 16],\n",
    "        [17, 18, 19, 20]]\n",
    "\n",
    "matrix = np.array(data)\n",
    "print(\"matrix.shape: \",  matrix.shape)\n",
    "\n",
    "print(\"matrix.reshape(2,10): \\n\", matrix.reshape(2,10))\n",
    "\n",
    "# 주의사항, 배열의 크기를 변경할 때 행과 열의 개수는 동일해야 합니다. \n",
    "# 따라서 size를 함수를 사용해서 크기를 먼저 확인합니다.\n",
    "print(\"matrix.size: \", matrix.size)\n",
    "\n",
    "# reshape 자주 사용 되는 -1 매개변수는 해당하는 열의 개수의 맞게끔 변경해줍니다.\n",
    "print(\"reshape(1, -1): \\n\", matrix.reshape(1, -1))\n",
    "print(\"reshape(2, -1): \\n\", matrix.reshape(2, -1))\n",
    "print(\"reshape(4, -1): \\n\", matrix.reshape(4, -1))\n",
    "print(\"reshape(5, -1): \\n\", matrix.reshape(5, -1))\n",
    "\n",
    "# 1차원 배열로 변경 해줌\n",
    "print(\"reshape(-1): \\n\", matrix.reshape(-1))"
   ]
  },
  {
   "cell_type": "markdown",
   "metadata": {},
   "source": [
    "## 벡터나 행렬 전치하기(transpose, swapaxes)출력"
   ]
  },
  {
   "cell_type": "code",
   "execution_count": 14,
   "metadata": {},
   "outputs": [
    {
     "name": "stdout",
     "output_type": "stream",
     "text": [
      "matrix: \n",
      " [[ 1  2  3  4]\n",
      " [ 5  6  7  8]\n",
      " [ 9 10 11 12]\n",
      " [13 14 15 16]\n",
      " [17 18 19 20]]\n",
      "matrix.T : \n",
      " [[ 1  5  9 13 17]\n",
      " [ 2  6 10 14 18]\n",
      " [ 3  7 11 15 19]\n",
      " [ 4  8 12 16 20]]\n",
      "matrix.transpose(): \n",
      " [[ 1  5  9 13 17]\n",
      " [ 2  6 10 14 18]\n",
      " [ 3  7 11 15 19]\n",
      " [ 4  8 12 16 20]]\n",
      "np.transpose(matrix): \n",
      " [[ 1  5  9 13 17]\n",
      " [ 2  6 10 14 18]\n",
      " [ 3  7 11 15 19]\n",
      " [ 4  8 12 16 20]]\n",
      "matrix.swapaxes(0, 1): \n",
      " [[ 1  5  9 13 17]\n",
      " [ 2  6 10 14 18]\n",
      " [ 3  7 11 15 19]\n",
      " [ 4  8 12 16 20]]\n",
      "np.swapaxes(matrix, 0, 1): \n",
      " [[ 1  5  9 13 17]\n",
      " [ 2  6 10 14 18]\n",
      " [ 3  7 11 15 19]\n",
      " [ 4  8 12 16 20]]\n",
      "matrix 데이터는 복사되지 않았습니다: \n",
      " [[ 1  2  3  4]\n",
      " [ 5  6  7  8]\n",
      " [ 9 10 11 12]\n",
      " [13 14 15 16]\n",
      " [17 18 19 20]]\n"
     ]
    }
   ],
   "source": [
    "# (5 , 4)\n",
    "data = [[1, 2, 3, 4], \n",
    "        [5, 6, 7, 8], \n",
    "        [9 ,10, 11, 12],\n",
    "        [13, 14, 15, 16],\n",
    "        [17, 18, 19, 20]]\n",
    "\n",
    "matrix = np.array(data)\n",
    "\n",
    "print(\"matrix: \\n\", matrix)\n",
    "print(\"matrix.T : \\n\", matrix.T)\n",
    "print(\"matrix.transpose(): \\n\", matrix.transpose())\n",
    "print(\"np.transpose(matrix): \\n\", np.transpose(matrix))\n",
    "print(\"matrix.swapaxes(0, 1): \\n\", matrix.swapaxes(0, 1))\n",
    "print(\"np.swapaxes(matrix, 0, 1): \\n\", np.swapaxes(matrix, 0, 1))\n",
    "print(\"matrix 데이터는 복사되지 않았습니다: \\n\", matrix)"
   ]
  },
  {
   "cell_type": "markdown",
   "metadata": {},
   "source": [
    "## flatten (행렬 펼치기)출력"
   ]
  },
  {
   "cell_type": "code",
   "execution_count": 15,
   "metadata": {},
   "outputs": [
    {
     "name": "stdout",
     "output_type": "stream",
     "text": [
      "(5, 4)\n",
      "[ 1  2  3  4  5  6  7  8  9 10 11 12 13 14 15 16 17 18 19 20]\n",
      "[[ 1  2  3  4]\n",
      " [ 5  6  7  8]\n",
      " [ 9 10 11 12]\n",
      " [13 14 15 16]\n",
      " [17 18 19 20]]\n",
      "1\n",
      "[ 1  2  3  4  5  6  7  8  9 10 11 12 13 14 15 16 17 18 19 20]\n"
     ]
    }
   ],
   "source": [
    "# (5 , 4) 구조\n",
    "data = [[1, 2, 3, 4], \n",
    "        [5, 6, 7, 8], \n",
    "        [9 ,10, 11, 12],\n",
    "        [13, 14, 15, 16],\n",
    "        [17, 18, 19, 20]]\n",
    "\n",
    "matrix = np.array(data)\n",
    "\n",
    "print(matrix.shape)\n",
    "print(matrix.flatten())\n",
    "\n",
    "# flatten() 함수를 사용해도 원래 matrix 2차원 배열은 자체는 변화가 없음.\n",
    "print(matrix)\n",
    "\n",
    "# flatten() 함수를 사용하면 1차원 배열로 변경 됨.\n",
    "vec_flatten = matrix.flatten()\n",
    "print(vec_flatten.ndim)\n",
    "print(vec_flatten)"
   ]
  },
  {
   "cell_type": "markdown",
   "metadata": {},
   "source": [
    "## 산술 연산 및 선형대수(1) 출력"
   ]
  },
  {
   "cell_type": "code",
   "execution_count": 16,
   "metadata": {},
   "outputs": [
    {
     "name": "stdout",
     "output_type": "stream",
     "text": [
      "[[ 3  4  5]\n",
      " [ 6  7  8]\n",
      " [ 9 10 11]]\n",
      "[[-1  0  1]\n",
      " [ 2  3  4]\n",
      " [ 5  6  7]]\n",
      "[[0.5 1.  1.5]\n",
      " [2.  2.5 3. ]\n",
      " [3.5 4.  4.5]]\n",
      "[[ 2  4  6]\n",
      " [ 8 10 12]\n",
      " [14 16 18]]\n",
      "[[ 3  6  9]\n",
      " [12 15 18]\n",
      " [21 24 27]]\n",
      "[[-1 -2 -3]\n",
      " [-4 -5 -6]\n",
      " [-7 -8 -9]]\n",
      "[[0.5 0.5 0.5]\n",
      " [0.5 0.5 0.5]\n",
      " [0.5 0.5 0.5]]\n",
      "[[  2   8  18]\n",
      " [ 32  50  72]\n",
      " [ 98 128 162]]\n"
     ]
    }
   ],
   "source": [
    "# (3, 3)\n",
    "matrix_1 = np.array([[1, 2, 3],\n",
    "                     [4, 5, 6],\n",
    "                     [7, 8, 9]])\n",
    "\n",
    "matrix_2 = np.array([[2, 4, 6],\n",
    "                     [8, 10, 12],\n",
    "                     [14, 16, 18]])\n",
    "\n",
    "# 2차원 배열에 사칙 연산 계산\n",
    "print(matrix_1 + 2)\n",
    "print(matrix_1 - 2)\n",
    "print(matrix_1 / 2)\n",
    "print(matrix_1 * 2)\n",
    "\n",
    "# 2차원 배열끼리 사칙 연산 계산\n",
    "print(matrix_1 + matrix_2)\n",
    "print(matrix_1 - matrix_2)\n",
    "print(matrix_1 / matrix_2)\n",
    "print(matrix_1 * matrix_2)"
   ]
  },
  {
   "cell_type": "markdown",
   "metadata": {},
   "source": [
    "## 산술 연산 및 선형대수(2) 출력"
   ]
  },
  {
   "cell_type": "code",
   "execution_count": 17,
   "metadata": {},
   "outputs": [
    {
     "name": "stdout",
     "output_type": "stream",
     "text": [
      "[[11 12 13]\n",
      " [14 15 16]\n",
      " [17 18 19]]\n",
      "[[11 12 13]\n",
      " [14 15 16]\n",
      " [17 18 19]]\n",
      "[[ 3  6  9]\n",
      " [12 15 18]\n",
      " [21 24 27]]\n",
      "[[-1 -2 -3]\n",
      " [-4 -5 -6]\n",
      " [-7 -8 -9]]\n",
      "[[ 60  72  84]\n",
      " [132 162 192]\n",
      " [204 252 300]]\n",
      "[[ 60  72  84]\n",
      " [132 162 192]\n",
      " [204 252 300]]\n"
     ]
    }
   ],
   "source": [
    "# (3, 3)\n",
    "matrix_1 = np.array([[1, 2, 3],\n",
    "                     [4, 5, 6],\n",
    "                     [7, 8, 9]])\n",
    "\n",
    "matrix_2 = np.array([[2, 4, 6],\n",
    "                     [8, 10, 12],\n",
    "                     [14, 16, 18]])\n",
    "\n",
    "# (3, 0)의 벡터를 더하는 경우\n",
    "print(matrix_1 + [10, 10, 10])\n",
    "\n",
    "# (3 , 1)의 벡터를 더하는 경우\n",
    "print(matrix_1 + [[10], [10], [10]])\n",
    "\n",
    "\n",
    "# 행렬의 덧셈과 뺄셈\n",
    "# add와 subtract 함수 사용\n",
    "print(np.add(matrix_1, matrix_2))\n",
    "print(np.subtract(matrix_1, matrix_2))\n",
    "\n",
    "# 행렬의 곱셈\n",
    "# dot 사용\n",
    "print(np.dot(matrix_1, matrix_2))\n",
    "\n",
    "# @ 연산자 사용 가능 파이썬 3.5 이상 버전가능\n",
    "print(matrix_1 @ matrix_2)"
   ]
  },
  {
   "cell_type": "markdown",
   "metadata": {},
   "source": [
    "## 배열 간의 비교 연산 출력"
   ]
  },
  {
   "cell_type": "code",
   "execution_count": 18,
   "metadata": {},
   "outputs": [
    {
     "name": "stdout",
     "output_type": "stream",
     "text": [
      "[[False False  True]\n",
      " [False False  True]\n",
      " [False False  True]]\n",
      "[[ True  True  True]\n",
      " [False  True  True]\n",
      " [False  True  True]]\n",
      "[[ True  True False]\n",
      " [False  True False]\n",
      " [False  True False]]\n",
      "[[False False  True]\n",
      " [ True False  True]\n",
      " [ True False  True]]\n",
      "[[False False False]\n",
      " [ True False False]\n",
      " [ True False False]]\n",
      "[[ True  True False]\n",
      " [ True  True False]\n",
      " [ True  True False]]\n",
      "[13 16 19]\n",
      "[ 1  4 13  5 16 16 19]\n",
      "[ 1  4  5 16]\n",
      "[13  4 16  7 19]\n",
      "[4 7]\n",
      "[ 1  4  4  5  7 16]\n"
     ]
    }
   ],
   "source": [
    "# (3, 3)\n",
    "matrix_1 = np.array([[1, 4, 13],\n",
    "                     [4, 5, 16],\n",
    "                     [7, 16, 19]])\n",
    "\n",
    "matrix_2 = np.array([[1, 4, 6],\n",
    "                     [8, 5, 12],\n",
    "                     [14, 16, 9]])\n",
    "# 배열 간의 비교 연산\n",
    "print(matrix_1 > matrix_2)\n",
    "print(matrix_1 >= matrix_2)\n",
    "print(matrix_1 == matrix_2)\n",
    "print(matrix_1 != matrix_2)\n",
    "print(matrix_1 < matrix_2)\n",
    "print(matrix_1 <= matrix_2)\n",
    "\n",
    "# 반환된 불리언 배열을 index(색인)으로 하여 해당 요소값 확인\n",
    "print(matrix_1[matrix_1 > matrix_2])\n",
    "print(matrix_1[matrix_1 >= matrix_2])\n",
    "print(matrix_1[matrix_1 == matrix_2])\n",
    "print(matrix_1[matrix_1 != matrix_2])\n",
    "print(matrix_1[matrix_1 < matrix_2])\n",
    "print(matrix_1[matrix_1 <= matrix_2])"
   ]
  },
  {
   "cell_type": "markdown",
   "metadata": {},
   "source": [
    "## 불리언(Boolean)값으로 인덱싱 출력"
   ]
  },
  {
   "cell_type": "code",
   "execution_count": 19,
   "metadata": {},
   "outputs": [
    {
     "name": "stdout",
     "output_type": "stream",
     "text": [
      "[False  True  True  True False False False False False  True]\n",
      "['도윤' '준우' '지호' '봉기']\n"
     ]
    }
   ],
   "source": [
    "# (10, )\n",
    "# 1차원 배열을 만듭니다.\n",
    "vector_1 = np.array([70, 71.3, 72.1, 73, 68, 59, 55, 66, 60, 80])\n",
    "vector_2 = np.array([\"하준\", \"도윤\", \"준우\", \"지호\", \"제균\", \"시우\", \"주원\", \"민준\", \"지현\", \"봉기\"])\n",
    "\n",
    "# True, False로 값들을 리턴합니다.\n",
    "result_bool = vector_1 > 70\n",
    "print(result_bool)\n",
    "\n",
    "# 리턴된 True, False 값을 인덱스 값으로 데이터를 조회 합니다.\n",
    "print(vector_2[result_bool])"
   ]
  }
 ],
 "metadata": {
  "kernelspec": {
   "display_name": "Python 3",
   "language": "python",
   "name": "python3"
  },
  "language_info": {
   "codemirror_mode": {
    "name": "ipython",
    "version": 3
   },
   "file_extension": ".py",
   "mimetype": "text/x-python",
   "name": "python",
   "nbconvert_exporter": "python",
   "pygments_lexer": "ipython3",
   "version": "3.7.10"
  },
  "toc": {
   "base_numbering": 1,
   "nav_menu": {},
   "number_sections": true,
   "sideBar": true,
   "skip_h1_title": false,
   "title_cell": "Table of Contents",
   "title_sidebar": "Contents",
   "toc_cell": false,
   "toc_position": {},
   "toc_section_display": true,
   "toc_window_display": false
  },
  "varInspector": {
   "cols": {
    "lenName": 16,
    "lenType": 16,
    "lenVar": 40
   },
   "kernels_config": {
    "python": {
     "delete_cmd_postfix": "",
     "delete_cmd_prefix": "del ",
     "library": "var_list.py",
     "varRefreshCmd": "print(var_dic_list())"
    },
    "r": {
     "delete_cmd_postfix": ") ",
     "delete_cmd_prefix": "rm(",
     "library": "var_list.r",
     "varRefreshCmd": "cat(var_dic_list()) "
    }
   },
   "types_to_exclude": [
    "module",
    "function",
    "builtin_function_or_method",
    "instance",
    "_Feature"
   ],
   "window_display": false
  }
 },
 "nbformat": 4,
 "nbformat_minor": 2
}
