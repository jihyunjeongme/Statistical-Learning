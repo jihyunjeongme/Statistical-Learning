{
 "cells": [
  {
   "cell_type": "markdown",
   "metadata": {},
   "source": [
    "## 정수형 자료 출력"
   ]
  },
  {
   "cell_type": "code",
   "execution_count": 1,
   "metadata": {},
   "outputs": [
    {
     "name": "stdout",
     "output_type": "stream",
     "text": [
      "123\n",
      "7777\n"
     ]
    }
   ],
   "source": [
    "print(123)\n",
    "print(7777)"
   ]
  },
  {
   "cell_type": "markdown",
   "metadata": {},
   "source": [
    "## 부동 소수점 자료형 출력"
   ]
  },
  {
   "cell_type": "code",
   "execution_count": 2,
   "metadata": {},
   "outputs": [
    {
     "name": "stdout",
     "output_type": "stream",
     "text": [
      "3.14\n",
      "-1.2\n"
     ]
    }
   ],
   "source": [
    "print(3.14)\n",
    "print(-1.2)"
   ]
  },
  {
   "cell_type": "markdown",
   "metadata": {},
   "source": [
    "## 정수형, 부동 소수점 자료형 출력"
   ]
  },
  {
   "cell_type": "code",
   "execution_count": 3,
   "metadata": {},
   "outputs": [
    {
     "name": "stdout",
     "output_type": "stream",
     "text": [
      "777\n",
      "3.14\n"
     ]
    }
   ],
   "source": [
    "print(777)\n",
    "print(3.14)"
   ]
  },
  {
   "cell_type": "markdown",
   "metadata": {},
   "source": [
    "## type()함수"
   ]
  },
  {
   "cell_type": "code",
   "execution_count": 4,
   "metadata": {},
   "outputs": [
    {
     "name": "stdout",
     "output_type": "stream",
     "text": [
      "<class 'int'>\n",
      "<class 'float'>\n"
     ]
    }
   ],
   "source": [
    "print(type(777))\n",
    "print(type(3.14))"
   ]
  },
  {
   "cell_type": "markdown",
   "metadata": {},
   "source": [
    "## 문자열 출력(큰 따옴표)"
   ]
  },
  {
   "cell_type": "code",
   "execution_count": 5,
   "metadata": {},
   "outputs": [
    {
     "name": "stdout",
     "output_type": "stream",
     "text": [
      "Why Learn Python\n",
      "파이썬을 배워야 하는 이유\n"
     ]
    }
   ],
   "source": [
    "print(\"Why Learn Python\")\n",
    "print(\"파이썬을 배워야 하는 이유\")"
   ]
  },
  {
   "cell_type": "markdown",
   "metadata": {},
   "source": [
    "## 문자열 출력(작은 따옴표)"
   ]
  },
  {
   "cell_type": "code",
   "execution_count": 6,
   "metadata": {},
   "outputs": [
    {
     "name": "stdout",
     "output_type": "stream",
     "text": [
      "a\n",
      "Python is Great for Beginners\n"
     ]
    }
   ],
   "source": [
    "print('a')\n",
    "print('Python is Great for Beginners')"
   ]
  },
  {
   "cell_type": "markdown",
   "metadata": {},
   "source": [
    "## 문자열 출력(큰 따옴표)"
   ]
  },
  {
   "cell_type": "code",
   "execution_count": 7,
   "metadata": {},
   "outputs": [
    {
     "name": "stdout",
     "output_type": "stream",
     "text": [
      "아기 상어 뚜 루루 뚜루 \n",
      "귀여운 뚜 루루 뚜루 \n",
      "바닷속 뚜 루루 뚜루 \n",
      "아기 상어!\n",
      "엄마 상어 뚜 루루 뚜루\n",
      "어여쁜뚜 루루 뚜루\n",
      "바닷속뚜 루루 뚜루\n",
      "엄마 상어!\n"
     ]
    }
   ],
   "source": [
    "print(\"\"\"아기 상어 뚜 루루 뚜루 \n",
    "귀여운 뚜 루루 뚜루 \n",
    "바닷속 뚜 루루 뚜루 \n",
    "아기 상어!\n",
    "엄마 상어 뚜 루루 뚜루\n",
    "어여쁜뚜 루루 뚜루\n",
    "바닷속뚜 루루 뚜루\n",
    "엄마 상어!\"\"\")"
   ]
  },
  {
   "cell_type": "markdown",
   "metadata": {},
   "source": [
    "## 문자열 출력(큰 따옴표)"
   ]
  },
  {
   "cell_type": "code",
   "execution_count": 8,
   "metadata": {},
   "outputs": [
    {
     "name": "stdout",
     "output_type": "stream",
     "text": [
      "아빠 상어 뚜 루루 뚜루\n",
      "힘이 센 뚜 루루 뚜루\n",
      "바닷속 뚜 루루 뚜루\n",
      "아빠 상어! \n",
      "할머니 상어 뚜 루루 뚜루 \n",
      "자상한 뚜 루루 뚜루 \n",
      "바닷속 뚜 루루 뚜루 \n",
      "할머니 상어!\n"
     ]
    }
   ],
   "source": [
    "print('''아빠 상어 뚜 루루 뚜루\n",
    "힘이 센 뚜 루루 뚜루\n",
    "바닷속 뚜 루루 뚜루\n",
    "아빠 상어! \n",
    "할머니 상어 뚜 루루 뚜루 \n",
    "자상한 뚜 루루 뚜루 \n",
    "바닷속 뚜 루루 뚜루 \n",
    "할머니 상어!''')"
   ]
  },
  {
   "cell_type": "markdown",
   "metadata": {},
   "source": [
    "## 변수 출력"
   ]
  },
  {
   "cell_type": "code",
   "execution_count": 9,
   "metadata": {
    "scrolled": true
   },
   "outputs": [
    {
     "name": "stdout",
     "output_type": "stream",
     "text": [
      "1\n",
      "1 번만 봐도 변수와 값, 정말 쉽죠?\n",
      "Yes\n"
     ]
    }
   ],
   "source": [
    "a = 1\n",
    "b = \"1 번만 봐도 변수와 값, 정말 쉽죠?\"\n",
    "c = 'Yes'\n",
    "print(a)\n",
    "print(b)\n",
    "print(c)"
   ]
  },
  {
   "cell_type": "markdown",
   "metadata": {},
   "source": [
    "## 주석 문자열 출력"
   ]
  },
  {
   "cell_type": "code",
   "execution_count": 10,
   "metadata": {},
   "outputs": [
    {
     "name": "stdout",
     "output_type": "stream",
     "text": [
      "Hello Python World!!\n",
      "Hello Python World!!\n"
     ]
    }
   ],
   "source": [
    "# 간단히 문자열을 출력합니다.\n",
    "print(\"Hello Python World!!\")\n",
    "\n",
    "print(\"Hello Python World!!\")\t# 간단히 문자열을 출력합니다."
   ]
  },
  {
   "cell_type": "markdown",
   "metadata": {},
   "source": [
    "## 연산자, 피연산자, 수식 출력"
   ]
  },
  {
   "cell_type": "code",
   "execution_count": 11,
   "metadata": {},
   "outputs": [
    {
     "name": "stdout",
     "output_type": "stream",
     "text": [
      "2\n",
      "1\n",
      "6\n",
      "2.0\n",
      "2\n",
      "True\n",
      "False\n",
      "True\n",
      "False\n",
      "True\n",
      "True\n",
      "27\n",
      "7\n"
     ]
    }
   ],
   "source": [
    "print(1 + 1)\n",
    "print(2 - 1)\n",
    "print(3 * 2)\n",
    "print(4 / 2)\n",
    "print(12 % 5)\n",
    "\n",
    "print(2 > 1)\n",
    "print(3 < 1)\n",
    "print(1 <= 4)\n",
    "print(1 >= 5)\n",
    "print(7 == 7)\n",
    "print(3 != 5)\n",
    "\n",
    "print(3 ** 3)\n",
    "print(1 * (2+5))"
   ]
  },
  {
   "cell_type": "markdown",
   "metadata": {},
   "source": [
    "## 문자열 출력"
   ]
  },
  {
   "cell_type": "code",
   "execution_count": 12,
   "metadata": {},
   "outputs": [
    {
     "name": "stdout",
     "output_type": "stream",
     "text": [
      "HAPPY\n"
     ]
    }
   ],
   "source": [
    "im = 'HAPPY'\n",
    "print(im)"
   ]
  },
  {
   "cell_type": "markdown",
   "metadata": {},
   "source": [
    "## 문자열 인덱스"
   ]
  },
  {
   "cell_type": "code",
   "execution_count": 13,
   "metadata": {},
   "outputs": [
    {
     "name": "stdout",
     "output_type": "stream",
     "text": [
      "A\n"
     ]
    }
   ],
   "source": [
    "im = 'HAPPY'\n",
    "print(im[1])"
   ]
  },
  {
   "cell_type": "markdown",
   "metadata": {},
   "source": [
    "## 문자열 인덱스 출력"
   ]
  },
  {
   "cell_type": "code",
   "execution_count": 14,
   "metadata": {},
   "outputs": [
    {
     "name": "stdout",
     "output_type": "stream",
     "text": [
      "H\n",
      "A\n",
      "P\n",
      "P\n",
      "Y\n"
     ]
    }
   ],
   "source": [
    "im = 'HAPPY'\n",
    "print(im[0])\n",
    "print(im[1])\n",
    "print(im[2])\n",
    "print(im[3]) \n",
    "print(im[4])"
   ]
  },
  {
   "cell_type": "markdown",
   "metadata": {},
   "source": [
    "## 문자열 인덱스 역순으로 출력"
   ]
  },
  {
   "cell_type": "code",
   "execution_count": 15,
   "metadata": {},
   "outputs": [
    {
     "name": "stdout",
     "output_type": "stream",
     "text": [
      "Y\n",
      "P\n",
      "P\n",
      "A\n",
      "H\n"
     ]
    }
   ],
   "source": [
    "im = 'HAPPY'\n",
    "print(im[-1])\n",
    "print(im[-2])\n",
    "print(im[-3])\n",
    "print(im[-4])\n",
    "print(im[-5])"
   ]
  },
  {
   "cell_type": "markdown",
   "metadata": {},
   "source": [
    "## 문자열 연산자 출력"
   ]
  },
  {
   "cell_type": "code",
   "execution_count": 16,
   "metadata": {},
   "outputs": [
    {
     "name": "stdout",
     "output_type": "stream",
     "text": [
      "579\n",
      "123456\n"
     ]
    }
   ],
   "source": [
    "# 숫자\n",
    "number1 = 123\n",
    "number2 = 456\n",
    "print(number1 + number2)\n",
    "\n",
    "# 문자열\n",
    "number1 = \"123\"\n",
    "number2 = \"456\"\n",
    "print(number1 + number2)"
   ]
  },
  {
   "cell_type": "markdown",
   "metadata": {},
   "source": [
    "## 문자열 반복연산자"
   ]
  },
  {
   "cell_type": "code",
   "execution_count": 17,
   "metadata": {},
   "outputs": [
    {
     "name": "stdout",
     "output_type": "stream",
     "text": [
      "프로그래밍을 배울려는 입문자들에게~프로그래밍을 배울려는 입문자들에게~프로그래밍을 배울려는 입문자들에게~\n",
      "파이썬은 배우기 쉽다!파이썬은 배우기 쉽다!파이썬은 배우기 쉽다!\n"
     ]
    }
   ],
   "source": [
    "# *(곱셈)연산자로 문자열을 반복합니다.\n",
    "print(\"프로그래밍을 배울려는 입문자들에게~\" * 3)\n",
    "print(3 * \"파이썬은 배우기 쉽다!\")"
   ]
  },
  {
   "cell_type": "markdown",
   "metadata": {},
   "source": [
    "## 문자열 길이구하기"
   ]
  },
  {
   "cell_type": "code",
   "execution_count": 18,
   "metadata": {},
   "outputs": [
    {
     "name": "stdout",
     "output_type": "stream",
     "text": [
      "5\n",
      "8\n"
     ]
    }
   ],
   "source": [
    "im = 'HAPPY'\n",
    "print(len(im))\n",
    "print(len(\"쉽게배우는파이썬\"))"
   ]
  },
  {
   "cell_type": "markdown",
   "metadata": {},
   "source": [
    "## 문자열 슬라이스 출력(1)"
   ]
  },
  {
   "cell_type": "code",
   "execution_count": 19,
   "metadata": {},
   "outputs": [
    {
     "name": "stdout",
     "output_type": "stream",
     "text": [
      "쉽게배우는\n",
      "파이썬\n",
      "Hello\n",
      "Python\n"
     ]
    }
   ],
   "source": [
    "# a라는 이름의 변수에 문자열 대입\n",
    "a = \"쉽게배우는파이썬\"\n",
    "\n",
    "# 시작과 끝의 범위를 지정\n",
    "print(a[0:5])\n",
    "print(a[5:8])\n",
    "print(\"HelloPython\"[0:5])\n",
    "print(\"HelloPython\"[5:11])"
   ]
  },
  {
   "cell_type": "markdown",
   "metadata": {},
   "source": [
    "## 문자열 슬라이스 출력(2)"
   ]
  },
  {
   "cell_type": "code",
   "execution_count": 20,
   "metadata": {},
   "outputs": [
    {
     "name": "stdout",
     "output_type": "stream",
     "text": [
      "쉽게배우는\n",
      "파이썬\n",
      "Python\n",
      "Hello\n"
     ]
    }
   ],
   "source": [
    "# a라는 이름의 변수에 문자열 대입\n",
    "a = \"쉽게배우는파이썬\"\n",
    " \n",
    "# 한쪽 숫자 생략\n",
    "print(a[:5])\n",
    "print(a[5:])\n",
    "print(\"HelloPython\"[5:])\n",
    "print(\"HelloPython\"[:5])\n"
   ]
  },
  {
   "cell_type": "markdown",
   "metadata": {},
   "source": [
    "## 문자열의 특징(불변)"
   ]
  },
  {
   "cell_type": "code",
   "execution_count": 21,
   "metadata": {},
   "outputs": [
    {
     "ename": "TypeError",
     "evalue": "'str' object does not support item assignment",
     "output_type": "error",
     "traceback": [
      "\u001b[0;31m---------------------------------------------------------------------------\u001b[0m",
      "\u001b[0;31mTypeError\u001b[0m                                 Traceback (most recent call last)",
      "\u001b[0;32m<ipython-input-21-14d7130943cc>\u001b[0m in \u001b[0;36m<module>\u001b[0;34m\u001b[0m\n\u001b[1;32m      1\u001b[0m \u001b[0mpython\u001b[0m \u001b[0;34m=\u001b[0m \u001b[0;34m'HelloPython'\u001b[0m\u001b[0;34m\u001b[0m\u001b[0;34m\u001b[0m\u001b[0m\n\u001b[0;32m----> 2\u001b[0;31m \u001b[0mpython\u001b[0m\u001b[0;34m[\u001b[0m\u001b[0;36m0\u001b[0m\u001b[0;34m]\u001b[0m \u001b[0;34m=\u001b[0m \u001b[0;34m'K'\u001b[0m \u001b[0;31m# H를 K로 변경시도\u001b[0m\u001b[0;34m\u001b[0m\u001b[0;34m\u001b[0m\u001b[0m\n\u001b[0m",
      "\u001b[0;31mTypeError\u001b[0m: 'str' object does not support item assignment"
     ]
    }
   ],
   "source": [
    "python = 'HelloPython'\n",
    "python[0] = 'K' # H를 K로 변경시도"
   ]
  },
  {
   "cell_type": "markdown",
   "metadata": {},
   "source": [
    "## 슬라이싱을 활용한 문자열 연결"
   ]
  },
  {
   "cell_type": "code",
   "execution_count": 22,
   "metadata": {},
   "outputs": [
    {
     "name": "stdout",
     "output_type": "stream",
     "text": [
      "KelloPython\n"
     ]
    }
   ],
   "source": [
    "python = 'HelloPython'\n",
    "python_new = 'K' + python[1:]\n",
    "print(python_new)"
   ]
  },
  {
   "cell_type": "markdown",
   "metadata": {},
   "source": [
    "## 불리언 연산자 출력"
   ]
  },
  {
   "cell_type": "code",
   "execution_count": 23,
   "metadata": {},
   "outputs": [
    {
     "name": "stdout",
     "output_type": "stream",
     "text": [
      "False\n",
      "False\n",
      "True\n",
      "True\n",
      "False\n",
      "False\n",
      "True\n",
      "True\n",
      "True\n",
      "True\n",
      "True\n",
      "True\n",
      "False\n",
      "False\n",
      "False\n",
      "False\n"
     ]
    }
   ],
   "source": [
    "# 축구 vs 야구\n",
    "footbalLove = True      # 축구를 좋아합니다.\n",
    "footbalHate = False     # 축구를 싫어합니다.\n",
    "baseballLove = True     # 야구를 좋아합니다.\n",
    "baseballHate = False    # 야구를 싫어합니다.\n",
    "\n",
    "# 지현 - 축구(True)야구(False)\n",
    "print(footbalLove and baseballHate)  # False\n",
    "print(baseballHate and footbalLove)  # False\n",
    "print(footbalLove or baseballHate)  # True\n",
    "print(baseballHate or footbalLove)  # True\n",
    "\n",
    "# 리나 - 축구(False)야구(True)\n",
    "print(footbalHate and baseballLove)  # False\n",
    "print(baseballLove and footbalHate)  # False\n",
    "print(footbalHate or baseballLove)  # True\n",
    "print(baseballLove or footbalHate)  # True\n",
    "\n",
    "# 민섭 - 축구(True)야구(True)\n",
    "print(footbalLove and baseballLove)  # True\n",
    "print(baseballLove and footbalLove)  # True\n",
    "print(footbalLove or baseballLove)  # True\n",
    "print(baseballLove or footbalLove)  # True\n",
    "\n",
    "# 경록 - 축구(False)야구(False)\n",
    "print(footbalHate and baseballHate)  # False\n",
    "print(baseballHate and footbalHate)  # False\n",
    "print(footbalHate or baseballHate)  # False\n",
    "print(baseballHate or footbalHate)  # False"
   ]
  },
  {
   "cell_type": "markdown",
   "metadata": {},
   "source": [
    "## in 연산자 출력"
   ]
  },
  {
   "cell_type": "code",
   "execution_count": 24,
   "metadata": {},
   "outputs": [
    {
     "name": "stdout",
     "output_type": "stream",
     "text": [
      "True\n",
      "False\n"
     ]
    }
   ],
   "source": [
    "print(\"h\" in \"hello\")\n",
    "print(\"h\" in \"Hello\")"
   ]
  },
  {
   "cell_type": "markdown",
   "metadata": {},
   "source": [
    "## 문자열의 비교 출력"
   ]
  },
  {
   "cell_type": "code",
   "execution_count": 25,
   "metadata": {},
   "outputs": [
    {
     "name": "stdout",
     "output_type": "stream",
     "text": [
      "True\n",
      "False\n",
      "False\n",
      "True\n"
     ]
    }
   ],
   "source": [
    "print(\"hello\" == \"hello\")\n",
    "print(\"hello\" == \"helloo\")\n",
    "\n",
    "print(\"hello\" != \"hello\")\n",
    "print(\"hello\" != \"halloo\")"
   ]
  },
  {
   "cell_type": "markdown",
   "metadata": {},
   "source": [
    "## 이스케이프 문자 출력"
   ]
  },
  {
   "cell_type": "code",
   "execution_count": 26,
   "metadata": {},
   "outputs": [
    {
     "name": "stdout",
     "output_type": "stream",
     "text": [
      "\"파이썬은 배우기 쉽습니다\" 라고 말했습니다.\n",
      "'파이썬은 배우기 쉽습니다' 라고 말했습니다.\n",
      "\"파이썬은 배우기 쉽습니다\" 라고 말했습니다.\n",
      "'파이썬은 배우기 쉽습니다' 라고 말했습니다.\n"
     ]
    }
   ],
   "source": [
    "# 이스케이프 문자 사용하지 않을 경우\n",
    "print('\"파이썬은 배우기 쉽습니다\" 라고 말했습니다.')\n",
    "print(\"'파이썬은 배우기 쉽습니다' 라고 말했습니다.\")\n",
    "\n",
    "# 이스케이프 문자 사용 시\n",
    "print(\"\\\"파이썬은 배우기 쉽습니다\\\" 라고 말했습니다.\")\n",
    "print('\\'파이썬은 배우기 쉽습니다\\' 라고 말했습니다.')"
   ]
  },
  {
   "cell_type": "markdown",
   "metadata": {},
   "source": [
    "## 다양한 이스케이프 문자 출력"
   ]
  },
  {
   "cell_type": "code",
   "execution_count": 27,
   "metadata": {},
   "outputs": [
    {
     "name": "stdout",
     "output_type": "stream",
     "text": [
      "파이썬은 배우기 쉽습니다\n",
      "라고 말했습니다.\n",
      "파이썬은 배우기 쉽습니다\t 라고 말했습니다.\n",
      "파이썬은 배우기 쉽습니다\\ 라고 말했습니다.\n"
     ]
    }
   ],
   "source": [
    "print(\"파이썬은 배우기 쉽습니다\\n라고 말했습니다.\")\n",
    "print(\"파이썬은 배우기 쉽습니다\\t 라고 말했습니다.\")\n",
    "print(\"파이썬은 배우기 쉽습니다\\\\ 라고 말했습니다.\")"
   ]
  },
  {
   "cell_type": "markdown",
   "metadata": {},
   "source": [
    "## 숫자 연산자 - 사칙연산자 출력"
   ]
  },
  {
   "cell_type": "code",
   "execution_count": 28,
   "metadata": {},
   "outputs": [
    {
     "name": "stdout",
     "output_type": "stream",
     "text": [
      "2\n",
      "1\n",
      "6\n",
      "2.0\n"
     ]
    }
   ],
   "source": [
    "print(1 + 1)\n",
    "print(2 - 1)\n",
    "print(3 * 2)\n",
    "print(4 / 2)"
   ]
  },
  {
   "cell_type": "markdown",
   "metadata": {},
   "source": [
    "## 나머지 연산자 출력"
   ]
  },
  {
   "cell_type": "code",
   "execution_count": 29,
   "metadata": {},
   "outputs": [
    {
     "name": "stdout",
     "output_type": "stream",
     "text": [
      "1.6666666666666667\n",
      "1\n"
     ]
    }
   ],
   "source": [
    "print(5 / 3)\n",
    "print(5 // 3)"
   ]
  },
  {
   "cell_type": "markdown",
   "metadata": {},
   "source": [
    "## 비교/나머지/제곱 연산자 출력"
   ]
  },
  {
   "cell_type": "code",
   "execution_count": 30,
   "metadata": {
    "scrolled": true
   },
   "outputs": [
    {
     "name": "stdout",
     "output_type": "stream",
     "text": [
      "2\n",
      "True\n",
      "False\n",
      "True\n",
      "False\n",
      "True\n",
      "True\n",
      "27\n",
      "7\n"
     ]
    }
   ],
   "source": [
    "print(12 % 5)\n",
    "print(2 > 1)\n",
    "print(3 < 1)\n",
    "print(1 <= 4)\n",
    "print(1 >= 5)\n",
    "print(7 == 7)\n",
    "print(3 != 5)\n",
    "print(3 ** 3)\n",
    "print(1*(2+5))"
   ]
  },
  {
   "cell_type": "markdown",
   "metadata": {},
   "source": [
    "## 복합 대입 연산자 - 숫자 출력"
   ]
  },
  {
   "cell_type": "code",
   "execution_count": 31,
   "metadata": {},
   "outputs": [
    {
     "name": "stdout",
     "output_type": "stream",
     "text": [
      "number: 70\n"
     ]
    }
   ],
   "source": [
    "number = 10\n",
    "number += 10\n",
    "number += 20\n",
    "number += 30\n",
    "print(\"number:\", number)"
   ]
  },
  {
   "cell_type": "markdown",
   "metadata": {},
   "source": [
    "## 복합 대입 연산자 - 문자열"
   ]
  },
  {
   "cell_type": "code",
   "execution_count": 32,
   "metadata": {},
   "outputs": [
    {
     "name": "stdout",
     "output_type": "stream",
     "text": [
      "string: 안녕하세요!!\n"
     ]
    }
   ],
   "source": [
    "string = \"안녕하세요\"\n",
    "string += \"!\"\n",
    "string += \"!\"\n",
    "print(\"string:\", string)"
   ]
  }
 ],
 "metadata": {
  "kernelspec": {
   "display_name": "Python 3",
   "language": "python",
   "name": "python3"
  },
  "language_info": {
   "codemirror_mode": {
    "name": "ipython",
    "version": 3
   },
   "file_extension": ".py",
   "mimetype": "text/x-python",
   "name": "python",
   "nbconvert_exporter": "python",
   "pygments_lexer": "ipython3",
   "version": "3.7.10"
  },
  "toc": {
   "base_numbering": 1,
   "nav_menu": {},
   "number_sections": true,
   "sideBar": true,
   "skip_h1_title": false,
   "title_cell": "Table of Contents",
   "title_sidebar": "Contents",
   "toc_cell": false,
   "toc_position": {},
   "toc_section_display": true,
   "toc_window_display": false
  },
  "varInspector": {
   "cols": {
    "lenName": 16,
    "lenType": 16,
    "lenVar": 40
   },
   "kernels_config": {
    "python": {
     "delete_cmd_postfix": "",
     "delete_cmd_prefix": "del ",
     "library": "var_list.py",
     "varRefreshCmd": "print(var_dic_list())"
    },
    "r": {
     "delete_cmd_postfix": ") ",
     "delete_cmd_prefix": "rm(",
     "library": "var_list.r",
     "varRefreshCmd": "cat(var_dic_list()) "
    }
   },
   "types_to_exclude": [
    "module",
    "function",
    "builtin_function_or_method",
    "instance",
    "_Feature"
   ],
   "window_display": false
  }
 },
 "nbformat": 4,
 "nbformat_minor": 2
}
