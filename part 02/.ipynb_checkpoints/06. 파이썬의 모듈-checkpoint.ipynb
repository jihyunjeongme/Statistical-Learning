{
 "cells": [
  {
   "cell_type": "markdown",
   "metadata": {},
   "source": [
    "## import 구문 출력"
   ]
  },
  {
   "cell_type": "code",
   "execution_count": 1,
   "metadata": {},
   "outputs": [
    {
     "name": "stdout",
     "output_type": "stream",
     "text": [
      "sin : 0.8414709848078965\n",
      "cos : 0.5403023058681398\n",
      "tan : 1.557407724654902\n",
      "내림 : 9\n",
      "올림 : 10\n"
     ]
    }
   ],
   "source": [
    "# math 내장 모듈을 불러옵니다.\n",
    "import math\n",
    "\n",
    "# sin,cos,tan 값 출력\n",
    "print(\"sin :\", math.sin(1))\n",
    "print(\"cos :\", math.cos(1))\n",
    "print(\"tan :\", math.tan(1))\n",
    "\n",
    "# 소수점 올림/내림\n",
    "print(\"내림 :\", math.floor(9.9))\n",
    "print(\"올림 :\", math.ceil(9.1))"
   ]
  },
  {
   "cell_type": "markdown",
   "metadata": {},
   "source": [
    "## from 구문 출력"
   ]
  },
  {
   "cell_type": "code",
   "execution_count": 2,
   "metadata": {},
   "outputs": [
    {
     "name": "stdout",
     "output_type": "stream",
     "text": [
      "내림 : 9\n",
      "올림 : 10\n"
     ]
    }
   ],
   "source": [
    "from math import floor, ceil\n",
    "\n",
    "# 소수점 올림/내림\n",
    "print(\"내림 :\", floor(9.9))\n",
    "print(\"올림 :\", ceil(9.1))"
   ]
  },
  {
   "cell_type": "markdown",
   "metadata": {},
   "source": [
    "## as 구문"
   ]
  },
  {
   "cell_type": "code",
   "execution_count": 3,
   "metadata": {},
   "outputs": [
    {
     "name": "stdout",
     "output_type": "stream",
     "text": [
      "내림 : 9\n",
      "올림 : 10\n"
     ]
    }
   ],
   "source": [
    "import math as m\n",
    "\n",
    "# 소수점 올림/내림\n",
    "print(\"내림 :\", m.floor(9.9))\n",
    "print(\"올림 :\", m.ceil(9.1))"
   ]
  },
  {
   "cell_type": "markdown",
   "metadata": {},
   "source": [
    "## 외부 모듈 설치"
   ]
  },
  {
   "cell_type": "code",
   "execution_count": null,
   "metadata": {},
   "outputs": [],
   "source": [
    "# 아래 명령어는 Mac은 터미널 창, 윈도우는 Anaconda Prompt를 실행하여 설치한다.\n",
    "pip install numpy"
   ]
  },
  {
   "cell_type": "markdown",
   "metadata": {},
   "source": [
    "## 외부 모듈 설치"
   ]
  },
  {
   "cell_type": "code",
   "execution_count": null,
   "metadata": {},
   "outputs": [],
   "source": [
    "# 아래 명령어는 Mac은 터미널 창, 윈도우는 Anaconda Prompt를 실행하여 설치한다.\n",
    "pip install numpy pandas seaborn matplotlib scipy statsmodels sklearn"
   ]
  },
  {
   "cell_type": "markdown",
   "metadata": {},
   "source": [
    "## 외부모듈 설치 후 결과 확인"
   ]
  },
  {
   "cell_type": "code",
   "execution_count": 4,
   "metadata": {},
   "outputs": [
    {
     "name": "stdout",
     "output_type": "stream",
     "text": [
      "----------------------------------------------------------------------------------------------------\n",
      "- 라이브러리 버전체크\n",
      "----------------------------------------------------------------------------------------------------\n",
      "Python 버전: 3.7.10 (default, Feb 26 2021, 10:16:00) \n",
      "[Clang 10.0.0 ]\n",
      "pandas version: 1.2.4\n",
      "matplotlib version: 3.4.1\n",
      "NumPy version: 1.19.5\n",
      "SciPy version: 1.6.2\n",
      "scikit-learn version: 0.24.1\n",
      "seaborn version: 0.11.1\n",
      "statsmodels version: 0.12.2\n"
     ]
    }
   ],
   "source": [
    "#-------------------------------\n",
    "#\n",
    "# 라이브러리 버전체크\n",
    "#\n",
    "#--------------------------------\n",
    "print('-'*100)\n",
    "print(\"- 라이브러리 버전체크\")\n",
    "print('-'*100)\n",
    " \n",
    "import sys \n",
    "print(\"Python 버전: {}\".format(sys.version))\n",
    " \n",
    "import pandas as pd\n",
    "print(\"pandas version: {}\". format(pd.__version__))\n",
    " \n",
    "import matplotlib \n",
    "print(\"matplotlib version: {}\". format(matplotlib.__version__))\n",
    " \n",
    "import numpy as np \n",
    "print(\"NumPy version: {}\". format(np.__version__))\n",
    " \n",
    "import scipy as sp \n",
    "print(\"SciPy version: {}\". format(sp.__version__)) \n",
    " \n",
    "import sklearn \n",
    "print(\"scikit-learn version: {}\". format(sklearn.__version__))\n",
    " \n",
    "import seaborn as sns\n",
    "print(\"seaborn version: {}\". format(sns.__version__))\n",
    " \n",
    "import statsmodels as sm\n",
    "print(\"statsmodels version: {}\". format(sm.__version__))"
   ]
  }
 ],
 "metadata": {
  "kernelspec": {
   "display_name": "Python 3",
   "language": "python",
   "name": "python3"
  },
  "language_info": {
   "codemirror_mode": {
    "name": "ipython",
    "version": 3
   },
   "file_extension": ".py",
   "mimetype": "text/x-python",
   "name": "python",
   "nbconvert_exporter": "python",
   "pygments_lexer": "ipython3",
   "version": "3.7.10"
  },
  "toc": {
   "base_numbering": 1,
   "nav_menu": {},
   "number_sections": true,
   "sideBar": true,
   "skip_h1_title": false,
   "title_cell": "Table of Contents",
   "title_sidebar": "Contents",
   "toc_cell": false,
   "toc_position": {},
   "toc_section_display": true,
   "toc_window_display": false
  },
  "varInspector": {
   "cols": {
    "lenName": 16,
    "lenType": 16,
    "lenVar": 40
   },
   "kernels_config": {
    "python": {
     "delete_cmd_postfix": "",
     "delete_cmd_prefix": "del ",
     "library": "var_list.py",
     "varRefreshCmd": "print(var_dic_list())"
    },
    "r": {
     "delete_cmd_postfix": ") ",
     "delete_cmd_prefix": "rm(",
     "library": "var_list.r",
     "varRefreshCmd": "cat(var_dic_list()) "
    }
   },
   "types_to_exclude": [
    "module",
    "function",
    "builtin_function_or_method",
    "instance",
    "_Feature"
   ],
   "window_display": false
  }
 },
 "nbformat": 4,
 "nbformat_minor": 2
}
