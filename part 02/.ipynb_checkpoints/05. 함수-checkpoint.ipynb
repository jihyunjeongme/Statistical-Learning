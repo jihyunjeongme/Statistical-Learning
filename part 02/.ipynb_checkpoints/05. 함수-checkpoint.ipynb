{
 "cells": [
  {
   "cell_type": "markdown",
   "metadata": {},
   "source": [
    "## 함수의 구조 - 매개변수 없음 출력"
   ]
  },
  {
   "cell_type": "code",
   "execution_count": 1,
   "metadata": {},
   "outputs": [
    {
     "name": "stdout",
     "output_type": "stream",
     "text": [
      "파이썬 프로그래밍\n",
      "함수에 대해서 배우고 있습니다.\n"
     ]
    }
   ],
   "source": [
    "# 함수를 선언합니다.\n",
    "def func_print():\n",
    "    print(\"파이썬 프로그래밍\")\n",
    "    print(\"함수에 대해서 배우고 있습니다.\")\n",
    "\n",
    "# 함수를 호출합니다.\n",
    "func_print()"
   ]
  },
  {
   "cell_type": "markdown",
   "metadata": {},
   "source": [
    "## 함수의 구조 - 매개변수 있음 출력"
   ]
  },
  {
   "cell_type": "code",
   "execution_count": 2,
   "metadata": {},
   "outputs": [
    {
     "name": "stdout",
     "output_type": "stream",
     "text": [
      "3\n",
      "6\n",
      "9\n",
      "12\n",
      "15\n",
      "18\n",
      "21\n",
      "24\n",
      "27\n"
     ]
    }
   ],
   "source": [
    "# 함수를 선언합니다. \n",
    "def multiple_table(n):\n",
    "    array = list(range(1,10))\n",
    "    \n",
    "    for number in array:\n",
    "        print(number * n)\n",
    "\n",
    "# 함수를 호출합니다.\n",
    "multiple_table(3)"
   ]
  },
  {
   "cell_type": "markdown",
   "metadata": {},
   "source": [
    "## 매개변수를 넣지 않은 경우 출력"
   ]
  },
  {
   "cell_type": "code",
   "execution_count": 3,
   "metadata": {},
   "outputs": [
    {
     "ename": "TypeError",
     "evalue": "multiple_table_1() missing 1 required positional argument: 'a'",
     "output_type": "error",
     "traceback": [
      "\u001b[0;31m---------------------------------------------------------------------------\u001b[0m",
      "\u001b[0;31mTypeError\u001b[0m                                 Traceback (most recent call last)",
      "\u001b[0;32m<ipython-input-3-fa4aaa33384c>\u001b[0m in \u001b[0;36m<module>\u001b[0;34m\u001b[0m\n\u001b[1;32m      7\u001b[0m \u001b[0;34m\u001b[0m\u001b[0m\n\u001b[1;32m      8\u001b[0m \u001b[0;31m# 1) 매개변수를 입력하지 않고 함수를 호출\u001b[0m\u001b[0;34m\u001b[0m\u001b[0;34m\u001b[0m\u001b[0;34m\u001b[0m\u001b[0m\n\u001b[0;32m----> 9\u001b[0;31m \u001b[0mmultiple_table_1\u001b[0m\u001b[0;34m(\u001b[0m\u001b[0;34m)\u001b[0m\u001b[0;34m\u001b[0m\u001b[0;34m\u001b[0m\u001b[0m\n\u001b[0m",
      "\u001b[0;31mTypeError\u001b[0m: multiple_table_1() missing 1 required positional argument: 'a'"
     ]
    }
   ],
   "source": [
    "# 함수를 선언합니다. \n",
    "def multiple_table_1(a):\n",
    "    array = list(range(1,10))\n",
    "    \n",
    "    for number in array:\n",
    "        print(number * a)\n",
    "    \n",
    "# 1) 매개변수를 입력하지 않고 함수를 호출\n",
    "multiple_table_1()"
   ]
  },
  {
   "cell_type": "markdown",
   "metadata": {},
   "source": [
    "## 매개변수의 수량과 다르게 넣은 경우 출력"
   ]
  },
  {
   "cell_type": "code",
   "execution_count": 4,
   "metadata": {},
   "outputs": [
    {
     "ename": "TypeError",
     "evalue": "multiple_table_2() missing 1 required positional argument: 'b'",
     "output_type": "error",
     "traceback": [
      "\u001b[0;31m---------------------------------------------------------------------------\u001b[0m",
      "\u001b[0;31mTypeError\u001b[0m                                 Traceback (most recent call last)",
      "\u001b[0;32m<ipython-input-4-e784dc3903ea>\u001b[0m in \u001b[0;36m<module>\u001b[0;34m\u001b[0m\n\u001b[1;32m      3\u001b[0m \u001b[0;34m\u001b[0m\u001b[0m\n\u001b[1;32m      4\u001b[0m \u001b[0;31m# 매개변수의 수량과 맞지 않은 상태에서 함수를 호출\u001b[0m\u001b[0;34m\u001b[0m\u001b[0;34m\u001b[0m\u001b[0;34m\u001b[0m\u001b[0m\n\u001b[0;32m----> 5\u001b[0;31m \u001b[0mmultiple_table_2\u001b[0m\u001b[0;34m(\u001b[0m\u001b[0;36m7\u001b[0m\u001b[0;34m)\u001b[0m\u001b[0;34m\u001b[0m\u001b[0;34m\u001b[0m\u001b[0m\n\u001b[0m",
      "\u001b[0;31mTypeError\u001b[0m: multiple_table_2() missing 1 required positional argument: 'b'"
     ]
    }
   ],
   "source": [
    "def multiple_table_2(a, b):\n",
    "    print(a * b)\n",
    "    \n",
    "# 매개변수의 수량과 맞지 않은 상태에서 함수를 호출\n",
    "multiple_table_2(7)"
   ]
  },
  {
   "cell_type": "markdown",
   "metadata": {},
   "source": [
    "## 가변 매개변수 출력"
   ]
  },
  {
   "cell_type": "code",
   "execution_count": 5,
   "metadata": {},
   "outputs": [
    {
     "name": "stdout",
     "output_type": "stream",
     "text": [
      "15\n",
      "55\n"
     ]
    }
   ],
   "source": [
    "# 가변 매개변수\n",
    "def func_sum(*num):\n",
    "    result = 0\n",
    "    \n",
    "    for i in num:\n",
    "        result += i\n",
    "    print(result)\n",
    "\n",
    "# 매개변수 5개\n",
    "func_sum(1,2,3,4,5)\n",
    "\n",
    "# 매개변수 10개\n",
    "func_sum(1,2,3,4,5,6,7,8,9,10)"
   ]
  },
  {
   "cell_type": "markdown",
   "metadata": {},
   "source": [
    "## 초기값 설정된 매개변수"
   ]
  },
  {
   "cell_type": "code",
   "execution_count": 6,
   "metadata": {},
   "outputs": [
    {
     "name": "stdout",
     "output_type": "stream",
     "text": [
      "0 열심히 파이썬을 배우고 있습니다.\n",
      "1 열심히 파이썬을 배우고 있습니다.\n",
      "2 열심히 파이썬을 배우고 있습니다.\n"
     ]
    }
   ],
   "source": [
    "def func_print_return(string, n=3):\n",
    "    \n",
    "    # 반복문\n",
    "    for i in range(n):\n",
    "        print(i, string)\n",
    "\n",
    "func_print_return(\"열심히 파이썬을 배우고 있습니다.\")"
   ]
  },
  {
   "cell_type": "markdown",
   "metadata": {},
   "source": [
    "## 리턴 출력"
   ]
  },
  {
   "cell_type": "code",
   "execution_count": 7,
   "metadata": {},
   "outputs": [
    {
     "name": "stdout",
     "output_type": "stream",
     "text": [
      "리턴값을 호출하기 전 입니다.\n"
     ]
    }
   ],
   "source": [
    "# 함수 선언\n",
    "def func_print_return():\n",
    "    print(\"리턴값을 호출하기 전 입니다.\")\n",
    "    return\n",
    "    print(\"리턴값을 호출한 이후 입니다.\")\n",
    "\n",
    "func_print_return()"
   ]
  },
  {
   "cell_type": "markdown",
   "metadata": {},
   "source": [
    "## 변수와 함께 리턴 출력"
   ]
  },
  {
   "cell_type": "code",
   "execution_count": 8,
   "metadata": {},
   "outputs": [
    {
     "name": "stdout",
     "output_type": "stream",
     "text": [
      "55\n"
     ]
    }
   ],
   "source": [
    "# 가변 매개변수 함수 선언\n",
    "def func_sum(*num):\n",
    "    result = 0\n",
    "    \n",
    "    for i in num:\n",
    "        result += i\n",
    "    # result 값 반환\n",
    "    return result\n",
    "\n",
    "sum = func_sum(1,2,3,4,5,6,7,8,9,10)\n",
    "print(sum)"
   ]
  }
 ],
 "metadata": {
  "kernelspec": {
   "display_name": "Python 3",
   "language": "python",
   "name": "python3"
  },
  "language_info": {
   "codemirror_mode": {
    "name": "ipython",
    "version": 3
   },
   "file_extension": ".py",
   "mimetype": "text/x-python",
   "name": "python",
   "nbconvert_exporter": "python",
   "pygments_lexer": "ipython3",
   "version": "3.7.10"
  },
  "toc": {
   "base_numbering": 1,
   "nav_menu": {},
   "number_sections": true,
   "sideBar": true,
   "skip_h1_title": false,
   "title_cell": "Table of Contents",
   "title_sidebar": "Contents",
   "toc_cell": false,
   "toc_position": {},
   "toc_section_display": true,
   "toc_window_display": true
  },
  "varInspector": {
   "cols": {
    "lenName": 16,
    "lenType": 16,
    "lenVar": 40
   },
   "kernels_config": {
    "python": {
     "delete_cmd_postfix": "",
     "delete_cmd_prefix": "del ",
     "library": "var_list.py",
     "varRefreshCmd": "print(var_dic_list())"
    },
    "r": {
     "delete_cmd_postfix": ") ",
     "delete_cmd_prefix": "rm(",
     "library": "var_list.r",
     "varRefreshCmd": "cat(var_dic_list()) "
    }
   },
   "types_to_exclude": [
    "module",
    "function",
    "builtin_function_or_method",
    "instance",
    "_Feature"
   ],
   "window_display": false
  }
 },
 "nbformat": 4,
 "nbformat_minor": 2
}
